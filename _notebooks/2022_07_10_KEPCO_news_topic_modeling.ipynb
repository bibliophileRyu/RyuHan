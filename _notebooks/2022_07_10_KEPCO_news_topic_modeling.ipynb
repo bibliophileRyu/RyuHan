{
  "nbformat": 4,
  "nbformat_minor": 0,
  "metadata": {
    "colab": {
      "name": "2022-07-10-KEPCO_news_topic_modeling.ipynb",
      "provenance": [],
      "collapsed_sections": []
    },
    "kernelspec": {
      "name": "python3",
      "display_name": "Python 3"
    },
    "language_info": {
      "name": "python"
    }
  },
  "cells": [
    {
      "cell_type": "markdown",
      "source": [
        "# \"LDA로 한국전력 적자 기사 분석\"\n",
        "> \"토픽 모델링\"\n",
        "\n",
        "- toc:true- branch: master\n",
        "- badges: true\n",
        "- comments: true\n",
        "- author: Ryu Han\n",
        "- categories: [climate change, kepco]\n"
      ],
      "metadata": {
        "id": "Z7mb4FID2fud"
      }
    },
    {
      "cell_type": "code",
      "source": [
        "from google.colab import drive\n",
        "drive.mount('/content/drive')"
      ],
      "metadata": {
        "colab": {
          "base_uri": "https://localhost:8080/"
        },
        "id": "XPE8NJe4NkJT",
        "outputId": "93604c39-9051-4f61-8f9d-7e4c30515c1f"
      },
      "execution_count": null,
      "outputs": [
        {
          "output_type": "stream",
          "name": "stdout",
          "text": [
            "Drive already mounted at /content/drive; to attempt to forcibly remount, call drive.mount(\"/content/drive\", force_remount=True).\n"
          ]
        }
      ]
    },
    {
      "cell_type": "code",
      "execution_count": null,
      "metadata": {
        "id": "4DOoupqKNZb8"
      },
      "outputs": [],
      "source": [
        "import pandas as pd"
      ]
    },
    {
      "cell_type": "code",
      "source": [
        "title = '/content/kepco_deficit_6months.csv'"
      ],
      "metadata": {
        "id": "qYMoKtqTdDOI"
      },
      "execution_count": null,
      "outputs": []
    },
    {
      "cell_type": "code",
      "source": [
        "df = pd.read_csv(title)"
      ],
      "metadata": {
        "id": "lHIKuoxoerWa"
      },
      "execution_count": null,
      "outputs": []
    },
    {
      "cell_type": "code",
      "source": [
        "df.head(3)"
      ],
      "metadata": {
        "colab": {
          "base_uri": "https://localhost:8080/",
          "height": 257
        },
        "id": "oFebH8WUeu9Z",
        "outputId": "5d5db669-9bb6-49a9-e88b-6fa864b9f3a0"
      },
      "execution_count": null,
      "outputs": [
        {
          "output_type": "execute_result",
          "data": {
            "text/plain": [
              "   Unnamed: 0        agency  \\\n",
              "0           0    주간조선언론사 선정   \n",
              "1           1  매경이코노미언론사 선정   \n",
              "2           2    조선비즈언론사 선정   \n",
              "\n",
              "                                           naver_url  \\\n",
              "0  https://n.news.naver.com/mnews/article/053/000...   \n",
              "1  https://n.news.naver.com/mnews/article/024/000...   \n",
              "2  https://n.news.naver.com/mnews/article/366/000...   \n",
              "\n",
              "                         title  \\\n",
              "0  한전 적자에 휘청…정치가 밀어붙인 한전공대의 운명   \n",
              "1  김종갑 前 한전 사장이 밝히는 ‘한전 적자’ 해법   \n",
              "2    전력 도매가격, 상한제 도입 앞두고 급등 조짐   \n",
              "\n",
              "                                             content  \n",
              "0  [\\n\\n\\n\\n\\n지난 3월 2일 전남 나주시 빛가람동에서 열린 한국에너지공과대학...  \n",
              "1  [\\n전기요금 원가 연계 없으면 ‘정상화’ 불가능김종갑 한양대 특훈교수는 2018년...  \n",
              "2  [\\n민간 발전사는 상한제 도입 반대 시위 한국전력(015760)이 발전사들에게 전...  "
            ],
            "text/html": [
              "\n",
              "  <div id=\"df-2db1d517-17cb-4462-825e-61c074b5707c\">\n",
              "    <div class=\"colab-df-container\">\n",
              "      <div>\n",
              "<style scoped>\n",
              "    .dataframe tbody tr th:only-of-type {\n",
              "        vertical-align: middle;\n",
              "    }\n",
              "\n",
              "    .dataframe tbody tr th {\n",
              "        vertical-align: top;\n",
              "    }\n",
              "\n",
              "    .dataframe thead th {\n",
              "        text-align: right;\n",
              "    }\n",
              "</style>\n",
              "<table border=\"1\" class=\"dataframe\">\n",
              "  <thead>\n",
              "    <tr style=\"text-align: right;\">\n",
              "      <th></th>\n",
              "      <th>Unnamed: 0</th>\n",
              "      <th>agency</th>\n",
              "      <th>naver_url</th>\n",
              "      <th>title</th>\n",
              "      <th>content</th>\n",
              "    </tr>\n",
              "  </thead>\n",
              "  <tbody>\n",
              "    <tr>\n",
              "      <th>0</th>\n",
              "      <td>0</td>\n",
              "      <td>주간조선언론사 선정</td>\n",
              "      <td>https://n.news.naver.com/mnews/article/053/000...</td>\n",
              "      <td>한전 적자에 휘청…정치가 밀어붙인 한전공대의 운명</td>\n",
              "      <td>[\\n\\n\\n\\n\\n지난 3월 2일 전남 나주시 빛가람동에서 열린 한국에너지공과대학...</td>\n",
              "    </tr>\n",
              "    <tr>\n",
              "      <th>1</th>\n",
              "      <td>1</td>\n",
              "      <td>매경이코노미언론사 선정</td>\n",
              "      <td>https://n.news.naver.com/mnews/article/024/000...</td>\n",
              "      <td>김종갑 前 한전 사장이 밝히는 ‘한전 적자’ 해법</td>\n",
              "      <td>[\\n전기요금 원가 연계 없으면 ‘정상화’ 불가능김종갑 한양대 특훈교수는 2018년...</td>\n",
              "    </tr>\n",
              "    <tr>\n",
              "      <th>2</th>\n",
              "      <td>2</td>\n",
              "      <td>조선비즈언론사 선정</td>\n",
              "      <td>https://n.news.naver.com/mnews/article/366/000...</td>\n",
              "      <td>전력 도매가격, 상한제 도입 앞두고 급등 조짐</td>\n",
              "      <td>[\\n민간 발전사는 상한제 도입 반대 시위 한국전력(015760)이 발전사들에게 전...</td>\n",
              "    </tr>\n",
              "  </tbody>\n",
              "</table>\n",
              "</div>\n",
              "      <button class=\"colab-df-convert\" onclick=\"convertToInteractive('df-2db1d517-17cb-4462-825e-61c074b5707c')\"\n",
              "              title=\"Convert this dataframe to an interactive table.\"\n",
              "              style=\"display:none;\">\n",
              "        \n",
              "  <svg xmlns=\"http://www.w3.org/2000/svg\" height=\"24px\"viewBox=\"0 0 24 24\"\n",
              "       width=\"24px\">\n",
              "    <path d=\"M0 0h24v24H0V0z\" fill=\"none\"/>\n",
              "    <path d=\"M18.56 5.44l.94 2.06.94-2.06 2.06-.94-2.06-.94-.94-2.06-.94 2.06-2.06.94zm-11 1L8.5 8.5l.94-2.06 2.06-.94-2.06-.94L8.5 2.5l-.94 2.06-2.06.94zm10 10l.94 2.06.94-2.06 2.06-.94-2.06-.94-.94-2.06-.94 2.06-2.06.94z\"/><path d=\"M17.41 7.96l-1.37-1.37c-.4-.4-.92-.59-1.43-.59-.52 0-1.04.2-1.43.59L10.3 9.45l-7.72 7.72c-.78.78-.78 2.05 0 2.83L4 21.41c.39.39.9.59 1.41.59.51 0 1.02-.2 1.41-.59l7.78-7.78 2.81-2.81c.8-.78.8-2.07 0-2.86zM5.41 20L4 18.59l7.72-7.72 1.47 1.35L5.41 20z\"/>\n",
              "  </svg>\n",
              "      </button>\n",
              "      \n",
              "  <style>\n",
              "    .colab-df-container {\n",
              "      display:flex;\n",
              "      flex-wrap:wrap;\n",
              "      gap: 12px;\n",
              "    }\n",
              "\n",
              "    .colab-df-convert {\n",
              "      background-color: #E8F0FE;\n",
              "      border: none;\n",
              "      border-radius: 50%;\n",
              "      cursor: pointer;\n",
              "      display: none;\n",
              "      fill: #1967D2;\n",
              "      height: 32px;\n",
              "      padding: 0 0 0 0;\n",
              "      width: 32px;\n",
              "    }\n",
              "\n",
              "    .colab-df-convert:hover {\n",
              "      background-color: #E2EBFA;\n",
              "      box-shadow: 0px 1px 2px rgba(60, 64, 67, 0.3), 0px 1px 3px 1px rgba(60, 64, 67, 0.15);\n",
              "      fill: #174EA6;\n",
              "    }\n",
              "\n",
              "    [theme=dark] .colab-df-convert {\n",
              "      background-color: #3B4455;\n",
              "      fill: #D2E3FC;\n",
              "    }\n",
              "\n",
              "    [theme=dark] .colab-df-convert:hover {\n",
              "      background-color: #434B5C;\n",
              "      box-shadow: 0px 1px 3px 1px rgba(0, 0, 0, 0.15);\n",
              "      filter: drop-shadow(0px 1px 2px rgba(0, 0, 0, 0.3));\n",
              "      fill: #FFFFFF;\n",
              "    }\n",
              "  </style>\n",
              "\n",
              "      <script>\n",
              "        const buttonEl =\n",
              "          document.querySelector('#df-2db1d517-17cb-4462-825e-61c074b5707c button.colab-df-convert');\n",
              "        buttonEl.style.display =\n",
              "          google.colab.kernel.accessAllowed ? 'block' : 'none';\n",
              "\n",
              "        async function convertToInteractive(key) {\n",
              "          const element = document.querySelector('#df-2db1d517-17cb-4462-825e-61c074b5707c');\n",
              "          const dataTable =\n",
              "            await google.colab.kernel.invokeFunction('convertToInteractive',\n",
              "                                                     [key], {});\n",
              "          if (!dataTable) return;\n",
              "\n",
              "          const docLinkHtml = 'Like what you see? Visit the ' +\n",
              "            '<a target=\"_blank\" href=https://colab.research.google.com/notebooks/data_table.ipynb>data table notebook</a>'\n",
              "            + ' to learn more about interactive tables.';\n",
              "          element.innerHTML = '';\n",
              "          dataTable['output_type'] = 'display_data';\n",
              "          await google.colab.output.renderOutput(dataTable, element);\n",
              "          const docLink = document.createElement('div');\n",
              "          docLink.innerHTML = docLinkHtml;\n",
              "          element.appendChild(docLink);\n",
              "        }\n",
              "      </script>\n",
              "    </div>\n",
              "  </div>\n",
              "  "
            ]
          },
          "metadata": {},
          "execution_count": 174
        }
      ]
    },
    {
      "cell_type": "markdown",
      "source": [
        "## 1. 데이터 전처리"
      ],
      "metadata": {
        "id": "9UQCPUgMQn3s"
      }
    },
    {
      "cell_type": "code",
      "source": [
        "# konlpy 라이브러리 설치\n",
        "!apt-get update\n",
        "!apt-get install g++ openjdk-8-jdk \n",
        "!pip install konlpy JPype1-py3\n",
        "!bash <(curl -s https://raw.githubusercontent.com/konlpy/konlpy/master/scripts/mecab.sh)\n",
        "#출처: https://biology-statistics-programming.tistory.com/32 [히비스서커스의 블로그:티스토리]"
      ],
      "metadata": {
        "id": "XAMtExjdRC8O"
      },
      "execution_count": null,
      "outputs": []
    },
    {
      "cell_type": "code",
      "source": [
        "from konlpy.tag import Mecab\n",
        "tokenizer = Mecab()"
      ],
      "metadata": {
        "id": "HmLWB4lrRKLK"
      },
      "execution_count": null,
      "outputs": []
    },
    {
      "cell_type": "code",
      "source": [
        "from konlpy.tag import Mecab\n",
        "from tqdm import tqdm\n",
        "import re\n",
        "import pickle\n",
        "import csv\n",
        "import pandas as pd\n",
        "from pandas import DataFrame \n",
        "import numpy as np"
      ],
      "metadata": {
        "id": "f1z_ij92QP4F"
      },
      "execution_count": null,
      "outputs": []
    },
    {
      "cell_type": "code",
      "source": [
        "def clean_text(content):\n",
        "    content = content.replace(\".\", \"\").strip()\n",
        "    content = content.replace(\"·\", \" \").strip()\n",
        "    content = content.replace(\"\\n\", \"\").strip()\n",
        "    pattern = '[^ ㄱ-ㅣ가-힣|0-9]+'\n",
        "    content = re.sub(pattern=pattern, repl='', string=content)\n",
        "    return content"
      ],
      "metadata": {
        "id": "Xd07223sQ6Fm"
      },
      "execution_count": null,
      "outputs": []
    },
    {
      "cell_type": "code",
      "source": [
        "df['content'] = df.content.apply(clean_text)"
      ],
      "metadata": {
        "id": "9MbJ8mTUe91U"
      },
      "execution_count": null,
      "outputs": []
    },
    {
      "cell_type": "code",
      "source": [
        "df.head(3)"
      ],
      "metadata": {
        "colab": {
          "base_uri": "https://localhost:8080/",
          "height": 257
        },
        "id": "46ASpke3fCbQ",
        "outputId": "a54d20e5-857e-478a-c406-ebdae1689e88"
      },
      "execution_count": null,
      "outputs": [
        {
          "output_type": "execute_result",
          "data": {
            "text/plain": [
              "   Unnamed: 0        agency  \\\n",
              "0           0    주간조선언론사 선정   \n",
              "1           1  매경이코노미언론사 선정   \n",
              "2           2    조선비즈언론사 선정   \n",
              "\n",
              "                                           naver_url  \\\n",
              "0  https://n.news.naver.com/mnews/article/053/000...   \n",
              "1  https://n.news.naver.com/mnews/article/024/000...   \n",
              "2  https://n.news.naver.com/mnews/article/366/000...   \n",
              "\n",
              "                         title  \\\n",
              "0  한전 적자에 휘청…정치가 밀어붙인 한전공대의 운명   \n",
              "1  김종갑 前 한전 사장이 밝히는 ‘한전 적자’ 해법   \n",
              "2    전력 도매가격, 상한제 도입 앞두고 급등 조짐   \n",
              "\n",
              "                                             content  \n",
              "0  지난 3월 2일 전남 나주시 빛가람동에서 열린 한국에너지공과대학 입학식 및 비전선포...  \n",
              "1  전기요금 원가 연계 없으면 정상화 불가능김종갑 한양대 특훈교수는 2018년부터 20...  \n",
              "2  민간 발전사는 상한제 도입 반대 시위 한국전력015760이 발전사들에게 전기를 사올...  "
            ],
            "text/html": [
              "\n",
              "  <div id=\"df-bbee06e1-78b5-440d-a237-aa2e3bf39e6c\">\n",
              "    <div class=\"colab-df-container\">\n",
              "      <div>\n",
              "<style scoped>\n",
              "    .dataframe tbody tr th:only-of-type {\n",
              "        vertical-align: middle;\n",
              "    }\n",
              "\n",
              "    .dataframe tbody tr th {\n",
              "        vertical-align: top;\n",
              "    }\n",
              "\n",
              "    .dataframe thead th {\n",
              "        text-align: right;\n",
              "    }\n",
              "</style>\n",
              "<table border=\"1\" class=\"dataframe\">\n",
              "  <thead>\n",
              "    <tr style=\"text-align: right;\">\n",
              "      <th></th>\n",
              "      <th>Unnamed: 0</th>\n",
              "      <th>agency</th>\n",
              "      <th>naver_url</th>\n",
              "      <th>title</th>\n",
              "      <th>content</th>\n",
              "    </tr>\n",
              "  </thead>\n",
              "  <tbody>\n",
              "    <tr>\n",
              "      <th>0</th>\n",
              "      <td>0</td>\n",
              "      <td>주간조선언론사 선정</td>\n",
              "      <td>https://n.news.naver.com/mnews/article/053/000...</td>\n",
              "      <td>한전 적자에 휘청…정치가 밀어붙인 한전공대의 운명</td>\n",
              "      <td>지난 3월 2일 전남 나주시 빛가람동에서 열린 한국에너지공과대학 입학식 및 비전선포...</td>\n",
              "    </tr>\n",
              "    <tr>\n",
              "      <th>1</th>\n",
              "      <td>1</td>\n",
              "      <td>매경이코노미언론사 선정</td>\n",
              "      <td>https://n.news.naver.com/mnews/article/024/000...</td>\n",
              "      <td>김종갑 前 한전 사장이 밝히는 ‘한전 적자’ 해법</td>\n",
              "      <td>전기요금 원가 연계 없으면 정상화 불가능김종갑 한양대 특훈교수는 2018년부터 20...</td>\n",
              "    </tr>\n",
              "    <tr>\n",
              "      <th>2</th>\n",
              "      <td>2</td>\n",
              "      <td>조선비즈언론사 선정</td>\n",
              "      <td>https://n.news.naver.com/mnews/article/366/000...</td>\n",
              "      <td>전력 도매가격, 상한제 도입 앞두고 급등 조짐</td>\n",
              "      <td>민간 발전사는 상한제 도입 반대 시위 한국전력015760이 발전사들에게 전기를 사올...</td>\n",
              "    </tr>\n",
              "  </tbody>\n",
              "</table>\n",
              "</div>\n",
              "      <button class=\"colab-df-convert\" onclick=\"convertToInteractive('df-bbee06e1-78b5-440d-a237-aa2e3bf39e6c')\"\n",
              "              title=\"Convert this dataframe to an interactive table.\"\n",
              "              style=\"display:none;\">\n",
              "        \n",
              "  <svg xmlns=\"http://www.w3.org/2000/svg\" height=\"24px\"viewBox=\"0 0 24 24\"\n",
              "       width=\"24px\">\n",
              "    <path d=\"M0 0h24v24H0V0z\" fill=\"none\"/>\n",
              "    <path d=\"M18.56 5.44l.94 2.06.94-2.06 2.06-.94-2.06-.94-.94-2.06-.94 2.06-2.06.94zm-11 1L8.5 8.5l.94-2.06 2.06-.94-2.06-.94L8.5 2.5l-.94 2.06-2.06.94zm10 10l.94 2.06.94-2.06 2.06-.94-2.06-.94-.94-2.06-.94 2.06-2.06.94z\"/><path d=\"M17.41 7.96l-1.37-1.37c-.4-.4-.92-.59-1.43-.59-.52 0-1.04.2-1.43.59L10.3 9.45l-7.72 7.72c-.78.78-.78 2.05 0 2.83L4 21.41c.39.39.9.59 1.41.59.51 0 1.02-.2 1.41-.59l7.78-7.78 2.81-2.81c.8-.78.8-2.07 0-2.86zM5.41 20L4 18.59l7.72-7.72 1.47 1.35L5.41 20z\"/>\n",
              "  </svg>\n",
              "      </button>\n",
              "      \n",
              "  <style>\n",
              "    .colab-df-container {\n",
              "      display:flex;\n",
              "      flex-wrap:wrap;\n",
              "      gap: 12px;\n",
              "    }\n",
              "\n",
              "    .colab-df-convert {\n",
              "      background-color: #E8F0FE;\n",
              "      border: none;\n",
              "      border-radius: 50%;\n",
              "      cursor: pointer;\n",
              "      display: none;\n",
              "      fill: #1967D2;\n",
              "      height: 32px;\n",
              "      padding: 0 0 0 0;\n",
              "      width: 32px;\n",
              "    }\n",
              "\n",
              "    .colab-df-convert:hover {\n",
              "      background-color: #E2EBFA;\n",
              "      box-shadow: 0px 1px 2px rgba(60, 64, 67, 0.3), 0px 1px 3px 1px rgba(60, 64, 67, 0.15);\n",
              "      fill: #174EA6;\n",
              "    }\n",
              "\n",
              "    [theme=dark] .colab-df-convert {\n",
              "      background-color: #3B4455;\n",
              "      fill: #D2E3FC;\n",
              "    }\n",
              "\n",
              "    [theme=dark] .colab-df-convert:hover {\n",
              "      background-color: #434B5C;\n",
              "      box-shadow: 0px 1px 3px 1px rgba(0, 0, 0, 0.15);\n",
              "      filter: drop-shadow(0px 1px 2px rgba(0, 0, 0, 0.3));\n",
              "      fill: #FFFFFF;\n",
              "    }\n",
              "  </style>\n",
              "\n",
              "      <script>\n",
              "        const buttonEl =\n",
              "          document.querySelector('#df-bbee06e1-78b5-440d-a237-aa2e3bf39e6c button.colab-df-convert');\n",
              "        buttonEl.style.display =\n",
              "          google.colab.kernel.accessAllowed ? 'block' : 'none';\n",
              "\n",
              "        async function convertToInteractive(key) {\n",
              "          const element = document.querySelector('#df-bbee06e1-78b5-440d-a237-aa2e3bf39e6c');\n",
              "          const dataTable =\n",
              "            await google.colab.kernel.invokeFunction('convertToInteractive',\n",
              "                                                     [key], {});\n",
              "          if (!dataTable) return;\n",
              "\n",
              "          const docLinkHtml = 'Like what you see? Visit the ' +\n",
              "            '<a target=\"_blank\" href=https://colab.research.google.com/notebooks/data_table.ipynb>data table notebook</a>'\n",
              "            + ' to learn more about interactive tables.';\n",
              "          element.innerHTML = '';\n",
              "          dataTable['output_type'] = 'display_data';\n",
              "          await google.colab.output.renderOutput(dataTable, element);\n",
              "          const docLink = document.createElement('div');\n",
              "          docLink.innerHTML = docLinkHtml;\n",
              "          element.appendChild(docLink);\n",
              "        }\n",
              "      </script>\n",
              "    </div>\n",
              "  </div>\n",
              "  "
            ]
          },
          "metadata": {},
          "execution_count": 180
        }
      ]
    },
    {
      "cell_type": "code",
      "source": [
        "def get_nouns(tokenizer, sentence):\n",
        "    tagged = tokenizer.pos(sentence)\n",
        "    nouns = [s for s, t in tagged if t in ['NNG', 'NNP', 'VA', 'XR'] and len(s) >1]\n",
        "    return nouns\n",
        "\n",
        "def tokenize(df):\n",
        "    tokenizer = Mecab(dicpath='/usr/local/lib/mecab/dic/mecab-ko-dic')\n",
        "    processed_data = []\n",
        "    for sent in tqdm(df['content']):\n",
        "        sentence = clean_text(str(sent).replace(\"\\n\", \"\").strip())\n",
        "        processed_data.append(get_nouns(tokenizer, sentence))\n",
        "    return processed_data"
      ],
      "metadata": {
        "id": "rXuNhkkUVJaq"
      },
      "execution_count": null,
      "outputs": []
    },
    {
      "cell_type": "code",
      "source": [
        "len(df)"
      ],
      "metadata": {
        "colab": {
          "base_uri": "https://localhost:8080/"
        },
        "id": "wDBxEX9jfcLS",
        "outputId": "a0e69717-ed86-4e54-aa05-a5ee387c433a"
      },
      "execution_count": null,
      "outputs": [
        {
          "output_type": "execute_result",
          "data": {
            "text/plain": [
              "2836"
            ]
          },
          "metadata": {},
          "execution_count": 182
        }
      ]
    },
    {
      "cell_type": "code",
      "source": [
        "df.dropna(how='any')\n",
        "len(df)"
      ],
      "metadata": {
        "colab": {
          "base_uri": "https://localhost:8080/"
        },
        "id": "5KQSJ5QQfvTU",
        "outputId": "aa4bdb75-81cd-4153-d5cf-675379fd2ef8"
      },
      "execution_count": null,
      "outputs": [
        {
          "output_type": "execute_result",
          "data": {
            "text/plain": [
              "2836"
            ]
          },
          "metadata": {},
          "execution_count": 183
        }
      ]
    },
    {
      "cell_type": "code",
      "source": [
        "df['processed_content'] = processed_data"
      ],
      "metadata": {
        "id": "Wb8xV065gRLk"
      },
      "execution_count": null,
      "outputs": []
    },
    {
      "cell_type": "code",
      "source": [
        "df.head(3)"
      ],
      "metadata": {
        "colab": {
          "base_uri": "https://localhost:8080/",
          "height": 257
        },
        "id": "qK-VPsVkgVJy",
        "outputId": "660e06d5-8f6b-488f-90e6-4cc2a9a8a7b3"
      },
      "execution_count": null,
      "outputs": [
        {
          "output_type": "execute_result",
          "data": {
            "text/plain": [
              "   Unnamed: 0        agency  \\\n",
              "0           0    주간조선언론사 선정   \n",
              "1           1  매경이코노미언론사 선정   \n",
              "2           2    조선비즈언론사 선정   \n",
              "\n",
              "                                           naver_url  \\\n",
              "0  https://n.news.naver.com/mnews/article/053/000...   \n",
              "1  https://n.news.naver.com/mnews/article/024/000...   \n",
              "2  https://n.news.naver.com/mnews/article/366/000...   \n",
              "\n",
              "                         title  \\\n",
              "0  한전 적자에 휘청…정치가 밀어붙인 한전공대의 운명   \n",
              "1  김종갑 前 한전 사장이 밝히는 ‘한전 적자’ 해법   \n",
              "2    전력 도매가격, 상한제 도입 앞두고 급등 조짐   \n",
              "\n",
              "                                             content  \\\n",
              "0  지난 3월 2일 전남 나주시 빛가람동에서 열린 한국에너지공과대학 입학식 및 비전선포...   \n",
              "1  전기요금 원가 연계 없으면 정상화 불가능김종갑 한양대 특훈교수는 2018년부터 20...   \n",
              "2  민간 발전사는 상한제 도입 반대 시위 한국전력015760이 발전사들에게 전기를 사올...   \n",
              "\n",
              "                                   processed_content  \n",
              "0  [전남, 나주시, 가람동, 한국, 에너지, 공과, 대학, 입학식, 전선, 포식, 뉴...  \n",
              "1  [전기, 요금, 원가, 연계, 정상, 가능, 김종갑, 한양대, 특훈, 교수, 한국전...  \n",
              "2  [민간, 발전사, 상한제, 도입, 반대, 시위, 한국전력, 발전사, 전기, 기준, ...  "
            ],
            "text/html": [
              "\n",
              "  <div id=\"df-8c963323-6a6e-4b95-8b8a-52da8fcecc6e\">\n",
              "    <div class=\"colab-df-container\">\n",
              "      <div>\n",
              "<style scoped>\n",
              "    .dataframe tbody tr th:only-of-type {\n",
              "        vertical-align: middle;\n",
              "    }\n",
              "\n",
              "    .dataframe tbody tr th {\n",
              "        vertical-align: top;\n",
              "    }\n",
              "\n",
              "    .dataframe thead th {\n",
              "        text-align: right;\n",
              "    }\n",
              "</style>\n",
              "<table border=\"1\" class=\"dataframe\">\n",
              "  <thead>\n",
              "    <tr style=\"text-align: right;\">\n",
              "      <th></th>\n",
              "      <th>Unnamed: 0</th>\n",
              "      <th>agency</th>\n",
              "      <th>naver_url</th>\n",
              "      <th>title</th>\n",
              "      <th>content</th>\n",
              "      <th>processed_content</th>\n",
              "    </tr>\n",
              "  </thead>\n",
              "  <tbody>\n",
              "    <tr>\n",
              "      <th>0</th>\n",
              "      <td>0</td>\n",
              "      <td>주간조선언론사 선정</td>\n",
              "      <td>https://n.news.naver.com/mnews/article/053/000...</td>\n",
              "      <td>한전 적자에 휘청…정치가 밀어붙인 한전공대의 운명</td>\n",
              "      <td>지난 3월 2일 전남 나주시 빛가람동에서 열린 한국에너지공과대학 입학식 및 비전선포...</td>\n",
              "      <td>[전남, 나주시, 가람동, 한국, 에너지, 공과, 대학, 입학식, 전선, 포식, 뉴...</td>\n",
              "    </tr>\n",
              "    <tr>\n",
              "      <th>1</th>\n",
              "      <td>1</td>\n",
              "      <td>매경이코노미언론사 선정</td>\n",
              "      <td>https://n.news.naver.com/mnews/article/024/000...</td>\n",
              "      <td>김종갑 前 한전 사장이 밝히는 ‘한전 적자’ 해법</td>\n",
              "      <td>전기요금 원가 연계 없으면 정상화 불가능김종갑 한양대 특훈교수는 2018년부터 20...</td>\n",
              "      <td>[전기, 요금, 원가, 연계, 정상, 가능, 김종갑, 한양대, 특훈, 교수, 한국전...</td>\n",
              "    </tr>\n",
              "    <tr>\n",
              "      <th>2</th>\n",
              "      <td>2</td>\n",
              "      <td>조선비즈언론사 선정</td>\n",
              "      <td>https://n.news.naver.com/mnews/article/366/000...</td>\n",
              "      <td>전력 도매가격, 상한제 도입 앞두고 급등 조짐</td>\n",
              "      <td>민간 발전사는 상한제 도입 반대 시위 한국전력015760이 발전사들에게 전기를 사올...</td>\n",
              "      <td>[민간, 발전사, 상한제, 도입, 반대, 시위, 한국전력, 발전사, 전기, 기준, ...</td>\n",
              "    </tr>\n",
              "  </tbody>\n",
              "</table>\n",
              "</div>\n",
              "      <button class=\"colab-df-convert\" onclick=\"convertToInteractive('df-8c963323-6a6e-4b95-8b8a-52da8fcecc6e')\"\n",
              "              title=\"Convert this dataframe to an interactive table.\"\n",
              "              style=\"display:none;\">\n",
              "        \n",
              "  <svg xmlns=\"http://www.w3.org/2000/svg\" height=\"24px\"viewBox=\"0 0 24 24\"\n",
              "       width=\"24px\">\n",
              "    <path d=\"M0 0h24v24H0V0z\" fill=\"none\"/>\n",
              "    <path d=\"M18.56 5.44l.94 2.06.94-2.06 2.06-.94-2.06-.94-.94-2.06-.94 2.06-2.06.94zm-11 1L8.5 8.5l.94-2.06 2.06-.94-2.06-.94L8.5 2.5l-.94 2.06-2.06.94zm10 10l.94 2.06.94-2.06 2.06-.94-2.06-.94-.94-2.06-.94 2.06-2.06.94z\"/><path d=\"M17.41 7.96l-1.37-1.37c-.4-.4-.92-.59-1.43-.59-.52 0-1.04.2-1.43.59L10.3 9.45l-7.72 7.72c-.78.78-.78 2.05 0 2.83L4 21.41c.39.39.9.59 1.41.59.51 0 1.02-.2 1.41-.59l7.78-7.78 2.81-2.81c.8-.78.8-2.07 0-2.86zM5.41 20L4 18.59l7.72-7.72 1.47 1.35L5.41 20z\"/>\n",
              "  </svg>\n",
              "      </button>\n",
              "      \n",
              "  <style>\n",
              "    .colab-df-container {\n",
              "      display:flex;\n",
              "      flex-wrap:wrap;\n",
              "      gap: 12px;\n",
              "    }\n",
              "\n",
              "    .colab-df-convert {\n",
              "      background-color: #E8F0FE;\n",
              "      border: none;\n",
              "      border-radius: 50%;\n",
              "      cursor: pointer;\n",
              "      display: none;\n",
              "      fill: #1967D2;\n",
              "      height: 32px;\n",
              "      padding: 0 0 0 0;\n",
              "      width: 32px;\n",
              "    }\n",
              "\n",
              "    .colab-df-convert:hover {\n",
              "      background-color: #E2EBFA;\n",
              "      box-shadow: 0px 1px 2px rgba(60, 64, 67, 0.3), 0px 1px 3px 1px rgba(60, 64, 67, 0.15);\n",
              "      fill: #174EA6;\n",
              "    }\n",
              "\n",
              "    [theme=dark] .colab-df-convert {\n",
              "      background-color: #3B4455;\n",
              "      fill: #D2E3FC;\n",
              "    }\n",
              "\n",
              "    [theme=dark] .colab-df-convert:hover {\n",
              "      background-color: #434B5C;\n",
              "      box-shadow: 0px 1px 3px 1px rgba(0, 0, 0, 0.15);\n",
              "      filter: drop-shadow(0px 1px 2px rgba(0, 0, 0, 0.3));\n",
              "      fill: #FFFFFF;\n",
              "    }\n",
              "  </style>\n",
              "\n",
              "      <script>\n",
              "        const buttonEl =\n",
              "          document.querySelector('#df-8c963323-6a6e-4b95-8b8a-52da8fcecc6e button.colab-df-convert');\n",
              "        buttonEl.style.display =\n",
              "          google.colab.kernel.accessAllowed ? 'block' : 'none';\n",
              "\n",
              "        async function convertToInteractive(key) {\n",
              "          const element = document.querySelector('#df-8c963323-6a6e-4b95-8b8a-52da8fcecc6e');\n",
              "          const dataTable =\n",
              "            await google.colab.kernel.invokeFunction('convertToInteractive',\n",
              "                                                     [key], {});\n",
              "          if (!dataTable) return;\n",
              "\n",
              "          const docLinkHtml = 'Like what you see? Visit the ' +\n",
              "            '<a target=\"_blank\" href=https://colab.research.google.com/notebooks/data_table.ipynb>data table notebook</a>'\n",
              "            + ' to learn more about interactive tables.';\n",
              "          element.innerHTML = '';\n",
              "          dataTable['output_type'] = 'display_data';\n",
              "          await google.colab.output.renderOutput(dataTable, element);\n",
              "          const docLink = document.createElement('div');\n",
              "          docLink.innerHTML = docLinkHtml;\n",
              "          element.appendChild(docLink);\n",
              "        }\n",
              "      </script>\n",
              "    </div>\n",
              "  </div>\n",
              "  "
            ]
          },
          "metadata": {},
          "execution_count": 185
        }
      ]
    },
    {
      "cell_type": "markdown",
      "source": [
        "## LDA 토픽모델링"
      ],
      "metadata": {
        "id": "afyTQ2nMgcfD"
      }
    },
    {
      "cell_type": "code",
      "source": [
        "from gensim.models.ldamodel import LdaModel\n",
        "from gensim.models.callbacks import CoherenceMetric\n",
        "from gensim import corpora\n",
        "from gensim.models.callbacks import PerplexityMetric\n",
        "\n",
        "import logging\n",
        "logging.basicConfig(format='%(asctime)s : %(levelname)s : %(message)s', level=logging.INFO)"
      ],
      "metadata": {
        "id": "tkXcDGWUVNkY"
      },
      "execution_count": null,
      "outputs": []
    },
    {
      "cell_type": "code",
      "source": [
        "dictionary = corpora.Dictionary(processed_data)"
      ],
      "metadata": {
        "colab": {
          "base_uri": "https://localhost:8080/"
        },
        "id": "g9ncuJ2pSHTz",
        "outputId": "60178fec-d43c-4b92-afa4-3712c9bf05bd"
      },
      "execution_count": null,
      "outputs": [
        {
          "output_type": "stream",
          "name": "stderr",
          "text": [
            "2022-07-09 21:25:52,135 : INFO : adding document #0 to Dictionary(0 unique tokens: [])\n",
            "2022-07-09 21:25:52,838 : INFO : built Dictionary(13125 unique tokens: ['가결', '가능', '가람동', '가림막', '가운데']...) from 2836 documents (total 785221 corpus positions)\n"
          ]
        }
      ]
    },
    {
      "cell_type": "code",
      "source": [
        "dictionary.filter_extremes(no_below=2, no_above=0.5)"
      ],
      "metadata": {
        "colab": {
          "base_uri": "https://localhost:8080/"
        },
        "id": "ziQSRkhsSog3",
        "outputId": "38a34971-a6a9-49d9-bfbc-58118422ae0c"
      },
      "execution_count": null,
      "outputs": [
        {
          "output_type": "stream",
          "name": "stderr",
          "text": [
            "2022-07-09 21:25:53,367 : INFO : discarding 4472 tokens: [('가림막', 1), ('개교일', 1), ('교과', 1), ('교지', 1), ('규모', 1444), ('넓이', 1), ('뙤약볕', 1), ('레볼루션', 1), ('배차', 1), ('부담', 1487)]...\n",
            "2022-07-09 21:25:53,370 : INFO : keeping 8653 tokens which were in no less than 2 and no more than 1418 (=50.0%) documents\n",
            "2022-07-09 21:25:53,389 : INFO : resulting dictionary: Dictionary(8653 unique tokens: ['가결', '가능', '가람동', '가운데', '간격']...)\n"
          ]
        }
      ]
    },
    {
      "cell_type": "code",
      "source": [
        "corpus = [dictionary.doc2bow(text) for text in processed_data]"
      ],
      "metadata": {
        "id": "tY8apR12a7cw"
      },
      "execution_count": null,
      "outputs": []
    },
    {
      "cell_type": "markdown",
      "source": [
        "### 모델링"
      ],
      "metadata": {
        "id": "KSO8gpKUg8aG"
      }
    },
    {
      "cell_type": "code",
      "source": [
        "num_topics = 5\n",
        "chunksize = 2000\n",
        "passes = 20\n",
        "iterations = 400\n",
        "eval_every = None\n",
        "\n",
        "temp = dictionary[0]\n",
        "id2word = dictionary.id2token\n",
        "\n",
        "model = LdaModel(\n",
        "    corpus=corpus,\n",
        "    id2word=id2word,\n",
        "    chunksize=chunksize,\n",
        "    alpha='auto',\n",
        "    eta='auto',\n",
        "    iterations=iterations,\n",
        "    num_topics=num_topics,\n",
        "    passes=passes,\n",
        "    eval_every=eval_every\n",
        ")\n"
      ],
      "metadata": {
        "colab": {
          "base_uri": "https://localhost:8080/"
        },
        "id": "RVy8dFQ5a7Ui",
        "outputId": "f993fe43-994c-4862-e11a-761ea1498c33"
      },
      "execution_count": null,
      "outputs": [
        {
          "output_type": "stream",
          "name": "stderr",
          "text": [
            "2022-07-09 21:25:58,513 : INFO : using autotuned alpha, starting with [0.2, 0.2, 0.2, 0.2, 0.2]\n",
            "2022-07-09 21:25:58,520 : INFO : using serial LDA version on this node\n",
            "2022-07-09 21:25:58,534 : INFO : running online (multi-pass) LDA training, 5 topics, 20 passes over the supplied corpus of 2836 documents, updating model once every 2000 documents, evaluating perplexity every 0 documents, iterating 400x with a convergence threshold of 0.001000\n",
            "2022-07-09 21:25:58,538 : INFO : PROGRESS: pass 0, at document #2000/2836\n",
            "2022-07-09 21:26:07,586 : INFO : optimized alpha [0.12613794, 0.023167312, 0.10367903, 0.09287643, 0.038539857]\n",
            "2022-07-09 21:26:07,588 : INFO : merging changes from 2000 documents into a model of 2836 documents\n",
            "2022-07-09 21:26:07,603 : INFO : topic #0 (0.126): 0.011*\"단가\" + 0.010*\"물가\" + 0.010*\"원전\" + 0.008*\"가스\" + 0.007*\"정책\" + 0.007*\"영업\" + 0.007*\"발전\" + 0.007*\"시장\" + 0.006*\"산업\" + 0.006*\"결정\"\n",
            "2022-07-09 21:26:07,608 : INFO : topic #1 (0.023): 0.015*\"기관\" + 0.014*\"공공\" + 0.009*\"경영\" + 0.008*\"한국\" + 0.008*\"평가\" + 0.007*\"충전\" + 0.006*\"공기업\" + 0.006*\"전기차\" + 0.006*\"정책\" + 0.006*\"성과급\"\n",
            "2022-07-09 21:26:07,612 : INFO : topic #2 (0.104): 0.013*\"기관\" + 0.009*\"공공\" + 0.008*\"재무\" + 0.006*\"영업\" + 0.006*\"물가\" + 0.006*\"한국\" + 0.006*\"필요\" + 0.006*\"기록\" + 0.005*\"최대\" + 0.005*\"국제\"\n",
            "2022-07-09 21:26:07,615 : INFO : topic #3 (0.093): 0.011*\"산업\" + 0.009*\"원전\" + 0.008*\"발전사\" + 0.007*\"발전\" + 0.007*\"기관\" + 0.006*\"정책\" + 0.006*\"물가\" + 0.005*\"기자\" + 0.005*\"시장\" + 0.005*\"서울\"\n",
            "2022-07-09 21:26:07,617 : INFO : topic #4 (0.039): 0.009*\"기관\" + 0.009*\"영업\" + 0.008*\"물가\" + 0.007*\"재무\" + 0.006*\"증가\" + 0.006*\"전망\" + 0.006*\"기록\" + 0.006*\"구조\" + 0.006*\"최대\" + 0.005*\"비용\"\n",
            "2022-07-09 21:26:07,620 : INFO : topic diff=3.411026, rho=1.000000\n",
            "2022-07-09 21:26:07,639 : INFO : PROGRESS: pass 0, at document #2836/2836\n",
            "2022-07-09 21:26:09,237 : INFO : optimized alpha [0.1492976, 0.028018104, 0.10098357, 0.09124564, 0.03989408]\n",
            "2022-07-09 21:26:09,241 : INFO : merging changes from 836 documents into a model of 2836 documents\n",
            "2022-07-09 21:26:09,253 : INFO : topic #0 (0.149): 0.013*\"원전\" + 0.010*\"후보\" + 0.009*\"물가\" + 0.009*\"단가\" + 0.008*\"정책\" + 0.008*\"국민\" + 0.008*\"가스\" + 0.007*\"산업\" + 0.006*\"결정\" + 0.006*\"발전\"\n",
            "2022-07-09 21:26:09,257 : INFO : topic #1 (0.028): 0.019*\"기관\" + 0.017*\"공공\" + 0.012*\"경영\" + 0.012*\"평가\" + 0.011*\"한국\" + 0.011*\"후보\" + 0.007*\"정책\" + 0.006*\"공약\" + 0.006*\"등급\" + 0.006*\"대통령\"\n",
            "2022-07-09 21:26:09,260 : INFO : topic #2 (0.101): 0.011*\"기관\" + 0.008*\"공공\" + 0.006*\"기업\" + 0.006*\"한국\" + 0.006*\"경제\" + 0.006*\"재무\" + 0.006*\"물가\" + 0.005*\"영업\" + 0.005*\"부채\" + 0.005*\"정책\"\n",
            "2022-07-09 21:26:09,263 : INFO : topic #3 (0.091): 0.015*\"원전\" + 0.011*\"발전\" + 0.010*\"산업\" + 0.008*\"정책\" + 0.007*\"발전사\" + 0.006*\"시장\" + 0.005*\"상한\" + 0.005*\"민간\" + 0.005*\"경제\" + 0.005*\"추진\"\n",
            "2022-07-09 21:26:09,266 : INFO : topic #4 (0.040): 0.010*\"금리\" + 0.009*\"영업\" + 0.008*\"투자\" + 0.008*\"채권\" + 0.008*\"물가\" + 0.007*\"전망\" + 0.005*\"발행\" + 0.005*\"자산\" + 0.005*\"시장\" + 0.005*\"기록\"\n",
            "2022-07-09 21:26:09,269 : INFO : topic diff=1.940862, rho=0.707107\n",
            "2022-07-09 21:26:09,291 : INFO : PROGRESS: pass 1, at document #2000/2836\n",
            "2022-07-09 21:26:11,633 : INFO : optimized alpha [0.123340406, 0.028331509, 0.08373351, 0.08132109, 0.04066406]\n",
            "2022-07-09 21:26:11,636 : INFO : merging changes from 2000 documents into a model of 2836 documents\n",
            "2022-07-09 21:26:11,651 : INFO : topic #0 (0.123): 0.012*\"원전\" + 0.012*\"단가\" + 0.011*\"물가\" + 0.010*\"가스\" + 0.008*\"산업\" + 0.008*\"정책\" + 0.007*\"국민\" + 0.007*\"결정\" + 0.006*\"후보\" + 0.006*\"영업\"\n",
            "2022-07-09 21:26:11,654 : INFO : topic #1 (0.028): 0.027*\"기관\" + 0.021*\"공공\" + 0.017*\"평가\" + 0.015*\"경영\" + 0.014*\"한국\" + 0.009*\"등급\" + 0.009*\"성과급\" + 0.007*\"공기업\" + 0.007*\"재무\" + 0.006*\"공사\"\n",
            "2022-07-09 21:26:11,658 : INFO : topic #2 (0.084): 0.013*\"기관\" + 0.008*\"공공\" + 0.008*\"재무\" + 0.006*\"기업\" + 0.006*\"물가\" + 0.006*\"부채\" + 0.006*\"영업\" + 0.006*\"한국\" + 0.005*\"경제\" + 0.005*\"사업\"\n",
            "2022-07-09 21:26:11,663 : INFO : topic #3 (0.081): 0.014*\"원전\" + 0.012*\"발전\" + 0.011*\"산업\" + 0.009*\"발전사\" + 0.008*\"정책\" + 0.006*\"시장\" + 0.006*\"매각\" + 0.006*\"민간\" + 0.006*\"상한\" + 0.005*\"추진\"\n",
            "2022-07-09 21:26:11,675 : INFO : topic #4 (0.041): 0.013*\"영업\" + 0.009*\"금리\" + 0.009*\"투자\" + 0.009*\"물가\" + 0.008*\"전망\" + 0.008*\"발행\" + 0.007*\"기록\" + 0.007*\"채권\" + 0.007*\"증가\" + 0.007*\"손실\"\n",
            "2022-07-09 21:26:11,678 : INFO : topic diff=0.736060, rho=0.540896\n",
            "2022-07-09 21:26:11,695 : INFO : PROGRESS: pass 1, at document #2836/2836\n",
            "2022-07-09 21:26:12,508 : INFO : optimized alpha [0.13501398, 0.031834662, 0.08097315, 0.07888104, 0.041165475]\n",
            "2022-07-09 21:26:12,511 : INFO : merging changes from 836 documents into a model of 2836 documents\n",
            "2022-07-09 21:26:12,526 : INFO : topic #0 (0.135): 0.012*\"원전\" + 0.011*\"후보\" + 0.011*\"물가\" + 0.010*\"단가\" + 0.010*\"국민\" + 0.009*\"가스\" + 0.009*\"정책\" + 0.008*\"산업\" + 0.007*\"결정\" + 0.006*\"반영\"\n",
            "2022-07-09 21:26:12,533 : INFO : topic #1 (0.032): 0.027*\"기관\" + 0.022*\"공공\" + 0.016*\"평가\" + 0.015*\"경영\" + 0.015*\"한국\" + 0.011*\"후보\" + 0.008*\"성과급\" + 0.007*\"등급\" + 0.007*\"재무\" + 0.007*\"공기업\"\n",
            "2022-07-09 21:26:12,535 : INFO : topic #2 (0.081): 0.010*\"기관\" + 0.009*\"기업\" + 0.007*\"경제\" + 0.007*\"공공\" + 0.006*\"물가\" + 0.005*\"한국\" + 0.005*\"재무\" + 0.005*\"부채\" + 0.005*\"영업\" + 0.005*\"정책\"\n",
            "2022-07-09 21:26:12,541 : INFO : topic #3 (0.079): 0.019*\"원전\" + 0.014*\"발전\" + 0.010*\"산업\" + 0.009*\"정책\" + 0.008*\"발전사\" + 0.006*\"시장\" + 0.006*\"매각\" + 0.005*\"추진\" + 0.005*\"민간\" + 0.005*\"상한\"\n",
            "2022-07-09 21:26:12,546 : INFO : topic #4 (0.041): 0.012*\"영업\" + 0.012*\"금리\" + 0.010*\"투자\" + 0.009*\"발행\" + 0.009*\"채권\" + 0.008*\"전망\" + 0.008*\"시장\" + 0.008*\"물가\" + 0.006*\"실적\" + 0.006*\"기록\"\n",
            "2022-07-09 21:26:12,550 : INFO : topic diff=0.632266, rho=0.540896\n",
            "2022-07-09 21:26:12,572 : INFO : PROGRESS: pass 2, at document #2000/2836\n",
            "2022-07-09 21:26:14,313 : INFO : optimized alpha [0.12538426, 0.032149535, 0.073827624, 0.077337, 0.04290885]\n",
            "2022-07-09 21:26:14,315 : INFO : merging changes from 2000 documents into a model of 2836 documents\n",
            "2022-07-09 21:26:14,334 : INFO : topic #0 (0.125): 0.013*\"단가\" + 0.012*\"물가\" + 0.011*\"원전\" + 0.010*\"가스\" + 0.009*\"산업\" + 0.008*\"정책\" + 0.008*\"국민\" + 0.008*\"결정\" + 0.007*\"후보\" + 0.007*\"반영\"\n",
            "2022-07-09 21:26:14,340 : INFO : topic #1 (0.032): 0.035*\"기관\" + 0.024*\"공공\" + 0.019*\"평가\" + 0.017*\"경영\" + 0.016*\"한국\" + 0.011*\"재무\" + 0.010*\"성과급\" + 0.009*\"등급\" + 0.008*\"공사\" + 0.008*\"공기업\"\n",
            "2022-07-09 21:26:14,343 : INFO : topic #2 (0.074): 0.009*\"기관\" + 0.008*\"기업\" + 0.007*\"경제\" + 0.006*\"물가\" + 0.006*\"공공\" + 0.006*\"재무\" + 0.005*\"부채\" + 0.005*\"한국\" + 0.005*\"영업\" + 0.005*\"사업\"\n",
            "2022-07-09 21:26:14,348 : INFO : topic #3 (0.077): 0.017*\"원전\" + 0.014*\"발전\" + 0.010*\"산업\" + 0.009*\"발전사\" + 0.009*\"정책\" + 0.008*\"매각\" + 0.007*\"시장\" + 0.006*\"민간\" + 0.006*\"추진\" + 0.005*\"상한\"\n",
            "2022-07-09 21:26:14,354 : INFO : topic #4 (0.043): 0.017*\"영업\" + 0.011*\"금리\" + 0.011*\"발행\" + 0.010*\"투자\" + 0.009*\"전망\" + 0.008*\"기록\" + 0.008*\"손실\" + 0.008*\"증가\" + 0.008*\"채권\" + 0.008*\"시장\"\n",
            "2022-07-09 21:26:14,357 : INFO : topic diff=0.498979, rho=0.475759\n",
            "2022-07-09 21:26:14,380 : INFO : PROGRESS: pass 2, at document #2836/2836\n",
            "2022-07-09 21:26:15,042 : INFO : optimized alpha [0.1332906, 0.03499087, 0.07253225, 0.07565557, 0.04338775]\n",
            "2022-07-09 21:26:15,046 : INFO : merging changes from 836 documents into a model of 2836 documents\n",
            "2022-07-09 21:26:15,062 : INFO : topic #0 (0.133): 0.012*\"물가\" + 0.012*\"후보\" + 0.011*\"원전\" + 0.011*\"단가\" + 0.011*\"국민\" + 0.010*\"가스\" + 0.009*\"정책\" + 0.009*\"산업\" + 0.008*\"결정\" + 0.007*\"반영\"\n",
            "2022-07-09 21:26:15,064 : INFO : topic #1 (0.035): 0.033*\"기관\" + 0.025*\"공공\" + 0.017*\"평가\" + 0.017*\"경영\" + 0.016*\"한국\" + 0.010*\"후보\" + 0.010*\"재무\" + 0.010*\"성과급\" + 0.008*\"공기업\" + 0.007*\"공사\"\n",
            "2022-07-09 21:26:15,066 : INFO : topic #2 (0.073): 0.010*\"기업\" + 0.009*\"경제\" + 0.007*\"물가\" + 0.006*\"기관\" + 0.005*\"공공\" + 0.005*\"한국\" + 0.005*\"정책\" + 0.004*\"사업\" + 0.004*\"부채\" + 0.004*\"국제\"\n",
            "2022-07-09 21:26:15,073 : INFO : topic #3 (0.076): 0.021*\"원전\" + 0.015*\"발전\" + 0.010*\"산업\" + 0.009*\"정책\" + 0.008*\"발전사\" + 0.007*\"매각\" + 0.007*\"시장\" + 0.006*\"추진\" + 0.005*\"민간\" + 0.005*\"원자력\"\n",
            "2022-07-09 21:26:15,075 : INFO : topic #4 (0.043): 0.015*\"영업\" + 0.012*\"금리\" + 0.010*\"발행\" + 0.010*\"투자\" + 0.009*\"시장\" + 0.009*\"채권\" + 0.009*\"전망\" + 0.008*\"이익\" + 0.008*\"실적\" + 0.007*\"증가\"\n",
            "2022-07-09 21:26:15,078 : INFO : topic diff=0.477056, rho=0.475759\n",
            "2022-07-09 21:26:15,102 : INFO : PROGRESS: pass 3, at document #2000/2836\n",
            "2022-07-09 21:26:16,673 : INFO : optimized alpha [0.12905416, 0.035722762, 0.06821788, 0.07606405, 0.045391317]\n",
            "2022-07-09 21:26:16,676 : INFO : merging changes from 2000 documents into a model of 2836 documents\n",
            "2022-07-09 21:26:16,688 : INFO : topic #0 (0.129): 0.014*\"단가\" + 0.013*\"물가\" + 0.011*\"가스\" + 0.010*\"원전\" + 0.010*\"산업\" + 0.009*\"국민\" + 0.009*\"정책\" + 0.009*\"결정\" + 0.008*\"후보\" + 0.007*\"반영\"\n",
            "2022-07-09 21:26:16,691 : INFO : topic #1 (0.036): 0.038*\"기관\" + 0.026*\"공공\" + 0.019*\"평가\" + 0.018*\"경영\" + 0.017*\"한국\" + 0.014*\"재무\" + 0.011*\"성과급\" + 0.009*\"공사\" + 0.009*\"공기업\" + 0.008*\"등급\"\n",
            "2022-07-09 21:26:16,694 : INFO : topic #2 (0.068): 0.010*\"기업\" + 0.008*\"경제\" + 0.008*\"물가\" + 0.006*\"기관\" + 0.005*\"부총리\" + 0.005*\"한국\" + 0.004*\"공공\" + 0.004*\"정책\" + 0.004*\"국제\" + 0.004*\"장관\"\n",
            "2022-07-09 21:26:16,696 : INFO : topic #3 (0.076): 0.019*\"원전\" + 0.015*\"발전\" + 0.010*\"산업\" + 0.009*\"발전사\" + 0.009*\"정책\" + 0.008*\"매각\" + 0.007*\"시장\" + 0.006*\"추진\" + 0.006*\"민간\" + 0.005*\"지분\"\n",
            "2022-07-09 21:26:16,699 : INFO : topic #4 (0.045): 0.019*\"영업\" + 0.011*\"발행\" + 0.011*\"금리\" + 0.010*\"투자\" + 0.009*\"전망\" + 0.009*\"증가\" + 0.009*\"기록\" + 0.009*\"이익\" + 0.009*\"시장\" + 0.009*\"손실\"\n",
            "2022-07-09 21:26:16,701 : INFO : topic diff=0.387900, rho=0.429616\n",
            "2022-07-09 21:26:16,724 : INFO : PROGRESS: pass 3, at document #2836/2836\n",
            "2022-07-09 21:26:17,315 : INFO : optimized alpha [0.13521965, 0.038140606, 0.06783656, 0.075060956, 0.045464784]\n",
            "2022-07-09 21:26:17,318 : INFO : merging changes from 836 documents into a model of 2836 documents\n",
            "2022-07-09 21:26:17,333 : INFO : topic #0 (0.135): 0.013*\"물가\" + 0.012*\"단가\" + 0.012*\"후보\" + 0.011*\"국민\" + 0.011*\"원전\" + 0.011*\"가스\" + 0.010*\"산업\" + 0.009*\"정책\" + 0.009*\"결정\" + 0.007*\"반영\"\n",
            "2022-07-09 21:26:17,336 : INFO : topic #1 (0.038): 0.035*\"기관\" + 0.026*\"공공\" + 0.017*\"경영\" + 0.017*\"평가\" + 0.017*\"한국\" + 0.012*\"재무\" + 0.010*\"성과급\" + 0.009*\"후보\" + 0.008*\"부채\" + 0.008*\"공기업\"\n",
            "2022-07-09 21:26:17,340 : INFO : topic #2 (0.068): 0.011*\"기업\" + 0.010*\"경제\" + 0.008*\"물가\" + 0.005*\"정책\" + 0.005*\"한국\" + 0.004*\"부총리\" + 0.004*\"세계\" + 0.004*\"국제\" + 0.004*\"기관\" + 0.004*\"공급\"\n",
            "2022-07-09 21:26:17,343 : INFO : topic #3 (0.075): 0.023*\"원전\" + 0.016*\"발전\" + 0.010*\"산업\" + 0.009*\"정책\" + 0.008*\"발전사\" + 0.007*\"매각\" + 0.007*\"시장\" + 0.006*\"추진\" + 0.005*\"원자력\" + 0.005*\"민간\"\n",
            "2022-07-09 21:26:17,345 : INFO : topic #4 (0.045): 0.017*\"영업\" + 0.012*\"금리\" + 0.011*\"발행\" + 0.010*\"투자\" + 0.010*\"이익\" + 0.009*\"시장\" + 0.009*\"전망\" + 0.009*\"실적\" + 0.009*\"채권\" + 0.009*\"증가\"\n",
            "2022-07-09 21:26:17,348 : INFO : topic diff=0.389867, rho=0.429616\n",
            "2022-07-09 21:26:17,368 : INFO : PROGRESS: pass 4, at document #2000/2836\n",
            "2022-07-09 21:26:18,774 : INFO : optimized alpha [0.13360578, 0.039012767, 0.06510162, 0.076549076, 0.047556706]\n",
            "2022-07-09 21:26:18,779 : INFO : merging changes from 2000 documents into a model of 2836 documents\n",
            "2022-07-09 21:26:18,789 : INFO : topic #0 (0.134): 0.014*\"단가\" + 0.014*\"물가\" + 0.011*\"가스\" + 0.010*\"산업\" + 0.010*\"국민\" + 0.009*\"원전\" + 0.009*\"결정\" + 0.009*\"정책\" + 0.009*\"후보\" + 0.007*\"반영\"\n",
            "2022-07-09 21:26:18,792 : INFO : topic #1 (0.039): 0.039*\"기관\" + 0.027*\"공공\" + 0.018*\"평가\" + 0.018*\"경영\" + 0.017*\"한국\" + 0.015*\"재무\" + 0.012*\"성과급\" + 0.009*\"공기업\" + 0.009*\"공사\" + 0.009*\"부채\"\n",
            "2022-07-09 21:26:18,797 : INFO : topic #2 (0.065): 0.010*\"기업\" + 0.009*\"경제\" + 0.009*\"물가\" + 0.005*\"부총리\" + 0.005*\"정책\" + 0.004*\"국제\" + 0.004*\"한국\" + 0.004*\"장관\" + 0.004*\"필요\" + 0.004*\"공급\"\n",
            "2022-07-09 21:26:18,802 : INFO : topic #3 (0.077): 0.020*\"원전\" + 0.015*\"발전\" + 0.010*\"산업\" + 0.009*\"발전사\" + 0.009*\"정책\" + 0.009*\"매각\" + 0.008*\"시장\" + 0.006*\"추진\" + 0.006*\"민간\" + 0.006*\"지분\"\n",
            "2022-07-09 21:26:18,807 : INFO : topic #4 (0.048): 0.021*\"영업\" + 0.011*\"발행\" + 0.011*\"금리\" + 0.010*\"증가\" + 0.010*\"이익\" + 0.010*\"투자\" + 0.010*\"기록\" + 0.010*\"전망\" + 0.009*\"시장\" + 0.009*\"실적\"\n",
            "2022-07-09 21:26:18,811 : INFO : topic diff=0.333188, rho=0.394730\n",
            "2022-07-09 21:26:18,830 : INFO : PROGRESS: pass 4, at document #2836/2836\n",
            "2022-07-09 21:26:19,405 : INFO : optimized alpha [0.13780333, 0.04121891, 0.06539585, 0.07591805, 0.04760371]\n",
            "2022-07-09 21:26:19,408 : INFO : merging changes from 836 documents into a model of 2836 documents\n",
            "2022-07-09 21:26:19,421 : INFO : topic #0 (0.138): 0.013*\"물가\" + 0.013*\"단가\" + 0.012*\"후보\" + 0.012*\"국민\" + 0.011*\"가스\" + 0.010*\"산업\" + 0.010*\"원전\" + 0.009*\"정책\" + 0.009*\"결정\" + 0.007*\"반영\"\n",
            "2022-07-09 21:26:19,424 : INFO : topic #1 (0.041): 0.037*\"기관\" + 0.026*\"공공\" + 0.018*\"경영\" + 0.017*\"평가\" + 0.017*\"한국\" + 0.013*\"재무\" + 0.011*\"성과급\" + 0.009*\"부채\" + 0.008*\"공기업\" + 0.008*\"반납\"\n",
            "2022-07-09 21:26:19,427 : INFO : topic #2 (0.065): 0.011*\"기업\" + 0.011*\"경제\" + 0.009*\"물가\" + 0.006*\"정책\" + 0.004*\"세계\" + 0.004*\"한국\" + 0.004*\"부총리\" + 0.004*\"공급\" + 0.004*\"국제\" + 0.004*\"안정\"\n",
            "2022-07-09 21:26:19,430 : INFO : topic #3 (0.076): 0.023*\"원전\" + 0.016*\"발전\" + 0.009*\"산업\" + 0.009*\"정책\" + 0.008*\"발전사\" + 0.008*\"매각\" + 0.007*\"시장\" + 0.006*\"추진\" + 0.006*\"원자력\" + 0.006*\"탄소\"\n",
            "2022-07-09 21:26:19,433 : INFO : topic #4 (0.048): 0.019*\"영업\" + 0.011*\"금리\" + 0.011*\"발행\" + 0.011*\"이익\" + 0.010*\"투자\" + 0.009*\"증가\" + 0.009*\"실적\" + 0.009*\"시장\" + 0.009*\"전망\" + 0.009*\"채권\"\n",
            "2022-07-09 21:26:19,435 : INFO : topic diff=0.348494, rho=0.394730\n",
            "2022-07-09 21:26:19,458 : INFO : PROGRESS: pass 5, at document #2000/2836\n",
            "2022-07-09 21:26:20,832 : INFO : optimized alpha [0.1376511, 0.041985117, 0.063718654, 0.07763522, 0.04967581]\n",
            "2022-07-09 21:26:20,836 : INFO : merging changes from 2000 documents into a model of 2836 documents\n",
            "2022-07-09 21:26:20,851 : INFO : topic #0 (0.138): 0.014*\"단가\" + 0.014*\"물가\" + 0.011*\"가스\" + 0.011*\"산업\" + 0.010*\"국민\" + 0.009*\"결정\" + 0.009*\"후보\" + 0.009*\"정책\" + 0.009*\"원전\" + 0.008*\"반영\"\n",
            "2022-07-09 21:26:20,853 : INFO : topic #1 (0.042): 0.040*\"기관\" + 0.027*\"공공\" + 0.018*\"평가\" + 0.018*\"경영\" + 0.017*\"한국\" + 0.016*\"재무\" + 0.012*\"성과급\" + 0.010*\"부채\" + 0.009*\"공기업\" + 0.009*\"공사\"\n",
            "2022-07-09 21:26:20,858 : INFO : topic #2 (0.064): 0.010*\"기업\" + 0.010*\"경제\" + 0.010*\"물가\" + 0.005*\"정책\" + 0.005*\"부총리\" + 0.004*\"국제\" + 0.004*\"장관\" + 0.004*\"공급\" + 0.004*\"한국\" + 0.004*\"세계\"\n",
            "2022-07-09 21:26:20,864 : INFO : topic #3 (0.078): 0.021*\"원전\" + 0.015*\"발전\" + 0.010*\"산업\" + 0.009*\"발전사\" + 0.009*\"정책\" + 0.009*\"매각\" + 0.008*\"시장\" + 0.006*\"추진\" + 0.006*\"지분\" + 0.006*\"민간\"\n",
            "2022-07-09 21:26:20,869 : INFO : topic #4 (0.050): 0.022*\"영업\" + 0.012*\"발행\" + 0.011*\"증가\" + 0.011*\"이익\" + 0.011*\"금리\" + 0.010*\"투자\" + 0.010*\"기록\" + 0.009*\"전망\" + 0.009*\"실적\" + 0.009*\"시장\"\n",
            "2022-07-09 21:26:20,874 : INFO : topic diff=0.304480, rho=0.367161\n",
            "2022-07-09 21:26:20,897 : INFO : PROGRESS: pass 5, at document #2836/2836\n",
            "2022-07-09 21:26:21,470 : INFO : optimized alpha [0.14108877, 0.044064518, 0.06445969, 0.077385835, 0.049487267]\n",
            "2022-07-09 21:26:21,473 : INFO : merging changes from 836 documents into a model of 2836 documents\n",
            "2022-07-09 21:26:21,484 : INFO : topic #0 (0.141): 0.013*\"단가\" + 0.013*\"물가\" + 0.013*\"후보\" + 0.012*\"국민\" + 0.011*\"가스\" + 0.010*\"산업\" + 0.009*\"정책\" + 0.009*\"원전\" + 0.009*\"결정\" + 0.007*\"반영\"\n",
            "2022-07-09 21:26:21,488 : INFO : topic #1 (0.044): 0.037*\"기관\" + 0.027*\"공공\" + 0.018*\"경영\" + 0.017*\"평가\" + 0.017*\"한국\" + 0.014*\"재무\" + 0.011*\"성과급\" + 0.010*\"부채\" + 0.009*\"공기업\" + 0.008*\"반납\"\n",
            "2022-07-09 21:26:21,490 : INFO : topic #2 (0.064): 0.012*\"경제\" + 0.011*\"기업\" + 0.010*\"물가\" + 0.006*\"정책\" + 0.005*\"세계\" + 0.004*\"부총리\" + 0.004*\"공급\" + 0.004*\"한국\" + 0.004*\"국제\" + 0.004*\"안정\"\n",
            "2022-07-09 21:26:21,493 : INFO : topic #3 (0.077): 0.024*\"원전\" + 0.016*\"발전\" + 0.009*\"산업\" + 0.009*\"정책\" + 0.008*\"발전사\" + 0.008*\"매각\" + 0.008*\"시장\" + 0.006*\"추진\" + 0.006*\"원자력\" + 0.006*\"탄소\"\n",
            "2022-07-09 21:26:21,495 : INFO : topic #4 (0.049): 0.020*\"영업\" + 0.011*\"이익\" + 0.011*\"금리\" + 0.011*\"발행\" + 0.010*\"투자\" + 0.010*\"증가\" + 0.010*\"실적\" + 0.009*\"시장\" + 0.009*\"전망\" + 0.009*\"기업\"\n",
            "2022-07-09 21:26:21,497 : INFO : topic diff=0.323510, rho=0.367161\n",
            "2022-07-09 21:26:21,521 : INFO : PROGRESS: pass 6, at document #2000/2836\n",
            "2022-07-09 21:26:22,931 : INFO : optimized alpha [0.14160553, 0.044778004, 0.06318217, 0.07932386, 0.051503845]\n",
            "2022-07-09 21:26:22,935 : INFO : merging changes from 2000 documents into a model of 2836 documents\n",
            "2022-07-09 21:26:22,947 : INFO : topic #0 (0.142): 0.015*\"단가\" + 0.014*\"물가\" + 0.011*\"가스\" + 0.011*\"산업\" + 0.011*\"국민\" + 0.010*\"결정\" + 0.010*\"후보\" + 0.009*\"정책\" + 0.008*\"원전\" + 0.008*\"반영\"\n",
            "2022-07-09 21:26:22,951 : INFO : topic #1 (0.045): 0.040*\"기관\" + 0.027*\"공공\" + 0.018*\"경영\" + 0.018*\"평가\" + 0.017*\"한국\" + 0.016*\"재무\" + 0.012*\"성과급\" + 0.010*\"부채\" + 0.010*\"공기업\" + 0.009*\"공사\"\n",
            "2022-07-09 21:26:22,955 : INFO : topic #2 (0.063): 0.011*\"경제\" + 0.011*\"물가\" + 0.010*\"기업\" + 0.006*\"정책\" + 0.005*\"부총리\" + 0.004*\"장관\" + 0.004*\"국제\" + 0.004*\"공급\" + 0.004*\"세계\" + 0.004*\"안정\"\n",
            "2022-07-09 21:26:22,959 : INFO : topic #3 (0.079): 0.022*\"원전\" + 0.016*\"발전\" + 0.010*\"산업\" + 0.009*\"발전사\" + 0.009*\"정책\" + 0.009*\"매각\" + 0.008*\"시장\" + 0.006*\"지분\" + 0.006*\"추진\" + 0.006*\"민간\"\n",
            "2022-07-09 21:26:22,961 : INFO : topic #4 (0.052): 0.022*\"영업\" + 0.012*\"발행\" + 0.012*\"증가\" + 0.012*\"이익\" + 0.011*\"금리\" + 0.010*\"기록\" + 0.010*\"투자\" + 0.010*\"실적\" + 0.009*\"전망\" + 0.009*\"손실\"\n",
            "2022-07-09 21:26:22,963 : INFO : topic diff=0.281947, rho=0.344664\n",
            "2022-07-09 21:26:22,994 : INFO : PROGRESS: pass 6, at document #2836/2836\n",
            "2022-07-09 21:26:24,282 : INFO : optimized alpha [0.14414965, 0.046750333, 0.06379429, 0.07888966, 0.05127024]\n",
            "2022-07-09 21:26:24,293 : INFO : merging changes from 836 documents into a model of 2836 documents\n",
            "2022-07-09 21:26:24,304 : INFO : topic #0 (0.144): 0.013*\"단가\" + 0.013*\"후보\" + 0.013*\"물가\" + 0.012*\"국민\" + 0.011*\"가스\" + 0.010*\"산업\" + 0.009*\"결정\" + 0.009*\"정책\" + 0.009*\"원전\" + 0.008*\"발표\"\n",
            "2022-07-09 21:26:24,310 : INFO : topic #1 (0.047): 0.038*\"기관\" + 0.027*\"공공\" + 0.018*\"경영\" + 0.017*\"평가\" + 0.017*\"한국\" + 0.014*\"재무\" + 0.011*\"성과급\" + 0.010*\"부채\" + 0.009*\"공기업\" + 0.009*\"반납\"\n",
            "2022-07-09 21:26:24,317 : INFO : topic #2 (0.064): 0.012*\"경제\" + 0.011*\"기업\" + 0.011*\"물가\" + 0.007*\"정책\" + 0.005*\"세계\" + 0.005*\"공급\" + 0.004*\"부총리\" + 0.004*\"안정\" + 0.004*\"시장\" + 0.004*\"국제\"\n",
            "2022-07-09 21:26:24,329 : INFO : topic #3 (0.079): 0.024*\"원전\" + 0.016*\"발전\" + 0.009*\"산업\" + 0.009*\"정책\" + 0.008*\"발전사\" + 0.008*\"매각\" + 0.008*\"시장\" + 0.006*\"원자력\" + 0.006*\"추진\" + 0.006*\"탄소\"\n",
            "2022-07-09 21:26:24,331 : INFO : topic #4 (0.051): 0.020*\"영업\" + 0.012*\"이익\" + 0.011*\"금리\" + 0.011*\"발행\" + 0.011*\"증가\" + 0.010*\"투자\" + 0.010*\"실적\" + 0.009*\"기업\" + 0.009*\"시장\" + 0.009*\"전망\"\n",
            "2022-07-09 21:26:24,335 : INFO : topic diff=0.301201, rho=0.344664\n",
            "2022-07-09 21:26:24,377 : INFO : PROGRESS: pass 7, at document #2000/2836\n",
            "2022-07-09 21:26:27,475 : INFO : optimized alpha [0.14504704, 0.04743546, 0.06285708, 0.08072337, 0.053220183]\n",
            "2022-07-09 21:26:27,477 : INFO : merging changes from 2000 documents into a model of 2836 documents\n",
            "2022-07-09 21:26:27,490 : INFO : topic #0 (0.145): 0.015*\"단가\" + 0.014*\"물가\" + 0.011*\"가스\" + 0.011*\"산업\" + 0.011*\"국민\" + 0.010*\"후보\" + 0.010*\"결정\" + 0.009*\"정책\" + 0.008*\"원전\" + 0.008*\"반영\"\n",
            "2022-07-09 21:26:27,493 : INFO : topic #1 (0.047): 0.041*\"기관\" + 0.028*\"공공\" + 0.019*\"경영\" + 0.018*\"평가\" + 0.017*\"한국\" + 0.016*\"재무\" + 0.012*\"성과급\" + 0.010*\"부채\" + 0.010*\"공기업\" + 0.009*\"공사\"\n",
            "2022-07-09 21:26:27,498 : INFO : topic #2 (0.063): 0.012*\"물가\" + 0.011*\"경제\" + 0.010*\"기업\" + 0.006*\"정책\" + 0.005*\"부총리\" + 0.004*\"장관\" + 0.004*\"공급\" + 0.004*\"국제\" + 0.004*\"세계\" + 0.004*\"대통령\"\n",
            "2022-07-09 21:26:27,504 : INFO : topic #3 (0.081): 0.022*\"원전\" + 0.016*\"발전\" + 0.009*\"산업\" + 0.009*\"발전사\" + 0.009*\"정책\" + 0.009*\"매각\" + 0.008*\"시장\" + 0.006*\"추진\" + 0.006*\"지분\" + 0.006*\"민간\"\n",
            "2022-07-09 21:26:27,510 : INFO : topic #4 (0.053): 0.023*\"영업\" + 0.012*\"증가\" + 0.012*\"이익\" + 0.012*\"발행\" + 0.011*\"금리\" + 0.010*\"기록\" + 0.010*\"투자\" + 0.010*\"실적\" + 0.009*\"전망\" + 0.009*\"기업\"\n",
            "2022-07-09 21:26:27,515 : INFO : topic diff=0.261022, rho=0.325852\n",
            "2022-07-09 21:26:27,535 : INFO : PROGRESS: pass 7, at document #2836/2836\n",
            "2022-07-09 21:26:28,084 : INFO : optimized alpha [0.14732546, 0.049203448, 0.06361017, 0.08064338, 0.053048216]\n",
            "2022-07-09 21:26:28,087 : INFO : merging changes from 836 documents into a model of 2836 documents\n",
            "2022-07-09 21:26:28,099 : INFO : topic #0 (0.147): 0.014*\"단가\" + 0.013*\"후보\" + 0.013*\"물가\" + 0.012*\"국민\" + 0.011*\"가스\" + 0.011*\"산업\" + 0.010*\"결정\" + 0.009*\"정책\" + 0.009*\"원전\" + 0.008*\"발표\"\n",
            "2022-07-09 21:26:28,103 : INFO : topic #1 (0.049): 0.039*\"기관\" + 0.028*\"공공\" + 0.018*\"경영\" + 0.017*\"평가\" + 0.017*\"한국\" + 0.015*\"재무\" + 0.011*\"성과급\" + 0.010*\"부채\" + 0.009*\"공기업\" + 0.009*\"반납\"\n",
            "2022-07-09 21:26:28,106 : INFO : topic #2 (0.064): 0.013*\"경제\" + 0.011*\"물가\" + 0.011*\"기업\" + 0.007*\"정책\" + 0.005*\"세계\" + 0.005*\"공급\" + 0.005*\"시장\" + 0.004*\"안정\" + 0.004*\"부총리\" + 0.004*\"대통령\"\n",
            "2022-07-09 21:26:28,110 : INFO : topic #3 (0.081): 0.025*\"원전\" + 0.016*\"발전\" + 0.009*\"산업\" + 0.009*\"정책\" + 0.009*\"발전사\" + 0.008*\"시장\" + 0.008*\"매각\" + 0.006*\"원자력\" + 0.006*\"추진\" + 0.006*\"탄소\"\n",
            "2022-07-09 21:26:28,113 : INFO : topic #4 (0.053): 0.020*\"영업\" + 0.012*\"이익\" + 0.011*\"발행\" + 0.011*\"금리\" + 0.011*\"증가\" + 0.010*\"실적\" + 0.010*\"투자\" + 0.010*\"기업\" + 0.009*\"시장\" + 0.009*\"기록\"\n",
            "2022-07-09 21:26:28,116 : INFO : topic diff=0.280065, rho=0.325852\n",
            "2022-07-09 21:26:28,139 : INFO : PROGRESS: pass 8, at document #2000/2836\n",
            "2022-07-09 21:26:29,441 : INFO : optimized alpha [0.14822839, 0.04981387, 0.06281549, 0.0826537, 0.054846633]\n",
            "2022-07-09 21:26:29,444 : INFO : merging changes from 2000 documents into a model of 2836 documents\n",
            "2022-07-09 21:26:29,461 : INFO : topic #0 (0.148): 0.015*\"단가\" + 0.014*\"물가\" + 0.012*\"가스\" + 0.011*\"산업\" + 0.011*\"국민\" + 0.010*\"후보\" + 0.010*\"결정\" + 0.009*\"정책\" + 0.008*\"원전\" + 0.008*\"발표\"\n",
            "2022-07-09 21:26:29,467 : INFO : topic #1 (0.050): 0.041*\"기관\" + 0.028*\"공공\" + 0.019*\"경영\" + 0.018*\"평가\" + 0.017*\"한국\" + 0.017*\"재무\" + 0.012*\"성과급\" + 0.010*\"부채\" + 0.010*\"공기업\" + 0.009*\"공사\"\n",
            "2022-07-09 21:26:29,469 : INFO : topic #2 (0.063): 0.012*\"물가\" + 0.012*\"경제\" + 0.010*\"기업\" + 0.006*\"정책\" + 0.005*\"부총리\" + 0.005*\"장관\" + 0.004*\"대통령\" + 0.004*\"공급\" + 0.004*\"시장\" + 0.004*\"국제\"\n",
            "2022-07-09 21:26:29,473 : INFO : topic #3 (0.083): 0.023*\"원전\" + 0.016*\"발전\" + 0.009*\"산업\" + 0.009*\"발전사\" + 0.009*\"정책\" + 0.008*\"매각\" + 0.008*\"시장\" + 0.006*\"추진\" + 0.006*\"지분\" + 0.006*\"민간\"\n",
            "2022-07-09 21:26:29,479 : INFO : topic #4 (0.055): 0.023*\"영업\" + 0.012*\"증가\" + 0.012*\"이익\" + 0.012*\"발행\" + 0.011*\"금리\" + 0.011*\"기록\" + 0.010*\"투자\" + 0.010*\"실적\" + 0.010*\"기업\" + 0.009*\"전망\"\n",
            "2022-07-09 21:26:29,483 : INFO : topic diff=0.241690, rho=0.309819\n",
            "2022-07-09 21:26:29,508 : INFO : PROGRESS: pass 8, at document #2836/2836\n",
            "2022-07-09 21:26:30,056 : INFO : optimized alpha [0.14969353, 0.051373728, 0.06363006, 0.08244848, 0.05440735]\n",
            "2022-07-09 21:26:30,061 : INFO : merging changes from 836 documents into a model of 2836 documents\n",
            "2022-07-09 21:26:30,074 : INFO : topic #0 (0.150): 0.014*\"단가\" + 0.014*\"후보\" + 0.013*\"물가\" + 0.012*\"국민\" + 0.011*\"가스\" + 0.011*\"산업\" + 0.010*\"결정\" + 0.009*\"정책\" + 0.008*\"원전\" + 0.008*\"발표\"\n",
            "2022-07-09 21:26:30,077 : INFO : topic #1 (0.051): 0.039*\"기관\" + 0.028*\"공공\" + 0.019*\"경영\" + 0.018*\"평가\" + 0.017*\"한국\" + 0.015*\"재무\" + 0.012*\"성과급\" + 0.010*\"부채\" + 0.009*\"공기업\" + 0.009*\"반납\"\n",
            "2022-07-09 21:26:30,083 : INFO : topic #2 (0.064): 0.013*\"경제\" + 0.012*\"물가\" + 0.010*\"기업\" + 0.007*\"정책\" + 0.005*\"세계\" + 0.005*\"시장\" + 0.005*\"공급\" + 0.005*\"대통령\" + 0.004*\"안정\" + 0.004*\"부총리\"\n",
            "2022-07-09 21:26:30,089 : INFO : topic #3 (0.082): 0.025*\"원전\" + 0.016*\"발전\" + 0.009*\"산업\" + 0.009*\"정책\" + 0.009*\"발전사\" + 0.008*\"시장\" + 0.008*\"매각\" + 0.006*\"원자력\" + 0.006*\"추진\" + 0.006*\"탄소\"\n",
            "2022-07-09 21:26:30,096 : INFO : topic #4 (0.054): 0.021*\"영업\" + 0.012*\"이익\" + 0.011*\"발행\" + 0.011*\"증가\" + 0.011*\"금리\" + 0.011*\"실적\" + 0.010*\"투자\" + 0.010*\"기업\" + 0.009*\"기록\" + 0.009*\"시장\"\n",
            "2022-07-09 21:26:30,102 : INFO : topic diff=0.260565, rho=0.309819\n",
            "2022-07-09 21:26:30,128 : INFO : PROGRESS: pass 9, at document #2000/2836\n",
            "2022-07-09 21:26:31,448 : INFO : optimized alpha [0.15082869, 0.051959787, 0.063094124, 0.08473027, 0.056144472]\n",
            "2022-07-09 21:26:31,450 : INFO : merging changes from 2000 documents into a model of 2836 documents\n",
            "2022-07-09 21:26:31,468 : INFO : topic #0 (0.151): 0.015*\"단가\" + 0.014*\"물가\" + 0.012*\"가스\" + 0.011*\"국민\" + 0.011*\"산업\" + 0.011*\"후보\" + 0.010*\"결정\" + 0.009*\"정책\" + 0.008*\"발표\" + 0.008*\"반영\"\n",
            "2022-07-09 21:26:31,470 : INFO : topic #1 (0.052): 0.041*\"기관\" + 0.028*\"공공\" + 0.019*\"경영\" + 0.018*\"평가\" + 0.017*\"한국\" + 0.017*\"재무\" + 0.012*\"성과급\" + 0.010*\"부채\" + 0.010*\"공기업\" + 0.009*\"공사\"\n",
            "2022-07-09 21:26:31,475 : INFO : topic #2 (0.063): 0.012*\"물가\" + 0.012*\"경제\" + 0.010*\"기업\" + 0.007*\"정책\" + 0.005*\"부총리\" + 0.005*\"대통령\" + 0.005*\"장관\" + 0.004*\"시장\" + 0.004*\"공급\" + 0.004*\"세계\"\n",
            "2022-07-09 21:26:31,480 : INFO : topic #3 (0.085): 0.023*\"원전\" + 0.016*\"발전\" + 0.009*\"산업\" + 0.009*\"발전사\" + 0.009*\"정책\" + 0.008*\"시장\" + 0.008*\"매각\" + 0.006*\"추진\" + 0.006*\"지분\" + 0.006*\"민간\"\n",
            "2022-07-09 21:26:31,484 : INFO : topic #4 (0.056): 0.023*\"영업\" + 0.012*\"증가\" + 0.012*\"이익\" + 0.012*\"발행\" + 0.011*\"금리\" + 0.011*\"기록\" + 0.011*\"실적\" + 0.011*\"투자\" + 0.010*\"기업\" + 0.009*\"전망\"\n",
            "2022-07-09 21:26:31,489 : INFO : topic diff=0.223778, rho=0.295941\n",
            "2022-07-09 21:26:31,510 : INFO : PROGRESS: pass 9, at document #2836/2836\n",
            "2022-07-09 21:26:32,044 : INFO : optimized alpha [0.15216695, 0.053380545, 0.063967295, 0.084405586, 0.055557135]\n",
            "2022-07-09 21:26:32,046 : INFO : merging changes from 836 documents into a model of 2836 documents\n",
            "2022-07-09 21:26:32,057 : INFO : topic #0 (0.152): 0.014*\"단가\" + 0.014*\"후보\" + 0.013*\"물가\" + 0.012*\"국민\" + 0.011*\"가스\" + 0.011*\"산업\" + 0.010*\"결정\" + 0.009*\"정책\" + 0.008*\"원전\" + 0.008*\"발표\"\n",
            "2022-07-09 21:26:32,061 : INFO : topic #1 (0.053): 0.039*\"기관\" + 0.028*\"공공\" + 0.019*\"경영\" + 0.018*\"평가\" + 0.017*\"한국\" + 0.015*\"재무\" + 0.012*\"성과급\" + 0.010*\"부채\" + 0.009*\"공기업\" + 0.009*\"반납\"\n",
            "2022-07-09 21:26:32,064 : INFO : topic #2 (0.064): 0.013*\"경제\" + 0.012*\"물가\" + 0.010*\"기업\" + 0.007*\"정책\" + 0.005*\"시장\" + 0.005*\"대통령\" + 0.005*\"세계\" + 0.005*\"공급\" + 0.005*\"안정\" + 0.004*\"부총리\"\n",
            "2022-07-09 21:26:32,072 : INFO : topic #3 (0.084): 0.025*\"원전\" + 0.017*\"발전\" + 0.009*\"산업\" + 0.009*\"정책\" + 0.009*\"발전사\" + 0.008*\"시장\" + 0.008*\"매각\" + 0.006*\"원자력\" + 0.006*\"추진\" + 0.006*\"탄소\"\n",
            "2022-07-09 21:26:32,079 : INFO : topic #4 (0.056): 0.021*\"영업\" + 0.012*\"이익\" + 0.011*\"발행\" + 0.011*\"증가\" + 0.011*\"금리\" + 0.011*\"실적\" + 0.010*\"투자\" + 0.010*\"기업\" + 0.009*\"기록\" + 0.009*\"시장\"\n",
            "2022-07-09 21:26:32,084 : INFO : topic diff=0.242728, rho=0.295941\n",
            "2022-07-09 21:26:32,108 : INFO : PROGRESS: pass 10, at document #2000/2836\n",
            "2022-07-09 21:26:33,379 : INFO : optimized alpha [0.15328367, 0.053946365, 0.06356956, 0.086837865, 0.057302155]\n",
            "2022-07-09 21:26:33,384 : INFO : merging changes from 2000 documents into a model of 2836 documents\n",
            "2022-07-09 21:26:33,397 : INFO : topic #0 (0.153): 0.015*\"단가\" + 0.014*\"물가\" + 0.012*\"가스\" + 0.011*\"국민\" + 0.011*\"산업\" + 0.011*\"후보\" + 0.010*\"결정\" + 0.009*\"정책\" + 0.008*\"발표\" + 0.008*\"반영\"\n",
            "2022-07-09 21:26:33,399 : INFO : topic #1 (0.054): 0.041*\"기관\" + 0.028*\"공공\" + 0.019*\"경영\" + 0.018*\"평가\" + 0.017*\"한국\" + 0.017*\"재무\" + 0.012*\"성과급\" + 0.010*\"부채\" + 0.010*\"공기업\" + 0.009*\"공사\"\n",
            "2022-07-09 21:26:33,407 : INFO : topic #2 (0.064): 0.013*\"물가\" + 0.012*\"경제\" + 0.009*\"기업\" + 0.007*\"정책\" + 0.005*\"대통령\" + 0.005*\"부총리\" + 0.005*\"장관\" + 0.005*\"시장\" + 0.004*\"공급\" + 0.004*\"세계\"\n",
            "2022-07-09 21:26:33,410 : INFO : topic #3 (0.087): 0.023*\"원전\" + 0.016*\"발전\" + 0.009*\"산업\" + 0.009*\"발전사\" + 0.009*\"정책\" + 0.008*\"시장\" + 0.008*\"매각\" + 0.006*\"추진\" + 0.006*\"지분\" + 0.006*\"민간\"\n",
            "2022-07-09 21:26:33,412 : INFO : topic #4 (0.057): 0.023*\"영업\" + 0.013*\"증가\" + 0.012*\"이익\" + 0.012*\"발행\" + 0.011*\"실적\" + 0.011*\"금리\" + 0.011*\"기록\" + 0.011*\"투자\" + 0.010*\"기업\" + 0.009*\"전망\"\n",
            "2022-07-09 21:26:33,415 : INFO : topic diff=0.207604, rho=0.283775\n",
            "2022-07-09 21:26:33,441 : INFO : PROGRESS: pass 10, at document #2836/2836\n",
            "2022-07-09 21:26:33,932 : INFO : optimized alpha [0.15440188, 0.055116348, 0.06447522, 0.08631089, 0.05662565]\n",
            "2022-07-09 21:26:33,935 : INFO : merging changes from 836 documents into a model of 2836 documents\n",
            "2022-07-09 21:26:33,947 : INFO : topic #0 (0.154): 0.014*\"후보\" + 0.014*\"단가\" + 0.013*\"물가\" + 0.012*\"국민\" + 0.011*\"가스\" + 0.011*\"산업\" + 0.010*\"결정\" + 0.009*\"정책\" + 0.008*\"원전\" + 0.008*\"발표\"\n",
            "2022-07-09 21:26:33,951 : INFO : topic #1 (0.055): 0.040*\"기관\" + 0.029*\"공공\" + 0.019*\"경영\" + 0.018*\"평가\" + 0.017*\"한국\" + 0.016*\"재무\" + 0.012*\"성과급\" + 0.010*\"부채\" + 0.010*\"공기업\" + 0.009*\"반납\"\n",
            "2022-07-09 21:26:33,955 : INFO : topic #2 (0.064): 0.013*\"경제\" + 0.013*\"물가\" + 0.010*\"기업\" + 0.007*\"정책\" + 0.005*\"대통령\" + 0.005*\"시장\" + 0.005*\"세계\" + 0.005*\"공급\" + 0.005*\"안정\" + 0.004*\"장관\"\n",
            "2022-07-09 21:26:33,963 : INFO : topic #3 (0.086): 0.025*\"원전\" + 0.017*\"발전\" + 0.009*\"산업\" + 0.009*\"정책\" + 0.009*\"발전사\" + 0.008*\"시장\" + 0.007*\"매각\" + 0.006*\"원자력\" + 0.006*\"추진\" + 0.006*\"탄소\"\n",
            "2022-07-09 21:26:33,966 : INFO : topic #4 (0.057): 0.021*\"영업\" + 0.012*\"이익\" + 0.011*\"발행\" + 0.011*\"증가\" + 0.011*\"금리\" + 0.011*\"실적\" + 0.011*\"기업\" + 0.010*\"투자\" + 0.009*\"기록\" + 0.009*\"시장\"\n",
            "2022-07-09 21:26:33,968 : INFO : topic diff=0.226727, rho=0.283775\n",
            "2022-07-09 21:26:33,990 : INFO : PROGRESS: pass 11, at document #2000/2836\n",
            "2022-07-09 21:26:35,245 : INFO : optimized alpha [0.15561984, 0.05562316, 0.06413483, 0.08878559, 0.058327533]\n",
            "2022-07-09 21:26:35,248 : INFO : merging changes from 2000 documents into a model of 2836 documents\n",
            "2022-07-09 21:26:35,264 : INFO : topic #0 (0.156): 0.015*\"단가\" + 0.014*\"물가\" + 0.012*\"가스\" + 0.011*\"국민\" + 0.011*\"후보\" + 0.011*\"산업\" + 0.010*\"결정\" + 0.009*\"정책\" + 0.008*\"발표\" + 0.008*\"반영\"\n",
            "2022-07-09 21:26:35,266 : INFO : topic #1 (0.056): 0.041*\"기관\" + 0.029*\"공공\" + 0.019*\"경영\" + 0.018*\"평가\" + 0.017*\"한국\" + 0.017*\"재무\" + 0.012*\"성과급\" + 0.010*\"부채\" + 0.010*\"공기업\" + 0.010*\"공사\"\n",
            "2022-07-09 21:26:35,277 : INFO : topic #2 (0.064): 0.013*\"물가\" + 0.012*\"경제\" + 0.009*\"기업\" + 0.007*\"정책\" + 0.005*\"대통령\" + 0.005*\"시장\" + 0.005*\"장관\" + 0.005*\"부총리\" + 0.004*\"공급\" + 0.004*\"안정\"\n",
            "2022-07-09 21:26:35,281 : INFO : topic #3 (0.089): 0.024*\"원전\" + 0.016*\"발전\" + 0.009*\"산업\" + 0.009*\"발전사\" + 0.009*\"정책\" + 0.009*\"시장\" + 0.008*\"매각\" + 0.006*\"추진\" + 0.006*\"민간\" + 0.006*\"지분\"\n",
            "2022-07-09 21:26:35,283 : INFO : topic #4 (0.058): 0.023*\"영업\" + 0.013*\"이익\" + 0.013*\"증가\" + 0.012*\"발행\" + 0.011*\"실적\" + 0.011*\"기업\" + 0.011*\"기록\" + 0.011*\"금리\" + 0.011*\"투자\" + 0.009*\"전망\"\n",
            "2022-07-09 21:26:35,287 : INFO : topic diff=0.192922, rho=0.272996\n",
            "2022-07-09 21:26:35,309 : INFO : PROGRESS: pass 11, at document #2836/2836\n",
            "2022-07-09 21:26:35,817 : INFO : optimized alpha [0.15646681, 0.056650966, 0.06496219, 0.08800711, 0.057678375]\n",
            "2022-07-09 21:26:35,820 : INFO : merging changes from 836 documents into a model of 2836 documents\n",
            "2022-07-09 21:26:35,831 : INFO : topic #0 (0.156): 0.014*\"후보\" + 0.014*\"단가\" + 0.013*\"물가\" + 0.012*\"국민\" + 0.011*\"가스\" + 0.011*\"산업\" + 0.010*\"결정\" + 0.009*\"정책\" + 0.008*\"발표\" + 0.008*\"원전\"\n",
            "2022-07-09 21:26:35,835 : INFO : topic #1 (0.057): 0.040*\"기관\" + 0.029*\"공공\" + 0.019*\"경영\" + 0.018*\"평가\" + 0.017*\"한국\" + 0.016*\"재무\" + 0.012*\"성과급\" + 0.010*\"부채\" + 0.010*\"공기업\" + 0.009*\"반납\"\n",
            "2022-07-09 21:26:35,838 : INFO : topic #2 (0.065): 0.013*\"경제\" + 0.013*\"물가\" + 0.010*\"기업\" + 0.008*\"정책\" + 0.005*\"대통령\" + 0.005*\"시장\" + 0.005*\"세계\" + 0.005*\"공급\" + 0.005*\"안정\" + 0.004*\"장관\"\n",
            "2022-07-09 21:26:35,840 : INFO : topic #3 (0.088): 0.025*\"원전\" + 0.017*\"발전\" + 0.009*\"산업\" + 0.009*\"정책\" + 0.009*\"발전사\" + 0.008*\"시장\" + 0.007*\"매각\" + 0.006*\"원자력\" + 0.006*\"추진\" + 0.006*\"탄소\"\n",
            "2022-07-09 21:26:35,843 : INFO : topic #4 (0.058): 0.021*\"영업\" + 0.012*\"이익\" + 0.012*\"발행\" + 0.011*\"증가\" + 0.011*\"금리\" + 0.011*\"실적\" + 0.011*\"기업\" + 0.011*\"투자\" + 0.009*\"기록\" + 0.009*\"시장\"\n",
            "2022-07-09 21:26:35,845 : INFO : topic diff=0.212251, rho=0.272996\n",
            "2022-07-09 21:26:35,866 : INFO : PROGRESS: pass 12, at document #2000/2836\n",
            "2022-07-09 21:26:37,462 : INFO : optimized alpha [0.15768962, 0.057095055, 0.06462459, 0.09053127, 0.059339896]\n",
            "2022-07-09 21:26:37,466 : INFO : merging changes from 2000 documents into a model of 2836 documents\n",
            "2022-07-09 21:26:37,478 : INFO : topic #0 (0.158): 0.015*\"단가\" + 0.014*\"물가\" + 0.012*\"가스\" + 0.012*\"후보\" + 0.011*\"국민\" + 0.011*\"산업\" + 0.010*\"결정\" + 0.009*\"정책\" + 0.008*\"발표\" + 0.008*\"반영\"\n",
            "2022-07-09 21:26:37,482 : INFO : topic #1 (0.057): 0.042*\"기관\" + 0.029*\"공공\" + 0.019*\"경영\" + 0.018*\"평가\" + 0.017*\"재무\" + 0.017*\"한국\" + 0.012*\"성과급\" + 0.010*\"부채\" + 0.010*\"공기업\" + 0.010*\"공사\"\n",
            "2022-07-09 21:26:37,486 : INFO : topic #2 (0.065): 0.013*\"물가\" + 0.012*\"경제\" + 0.009*\"기업\" + 0.007*\"정책\" + 0.005*\"대통령\" + 0.005*\"시장\" + 0.005*\"장관\" + 0.005*\"부총리\" + 0.004*\"공급\" + 0.004*\"안정\"\n",
            "2022-07-09 21:26:37,489 : INFO : topic #3 (0.091): 0.024*\"원전\" + 0.016*\"발전\" + 0.009*\"산업\" + 0.009*\"발전사\" + 0.009*\"정책\" + 0.009*\"시장\" + 0.008*\"매각\" + 0.006*\"추진\" + 0.006*\"민간\" + 0.006*\"비용\"\n",
            "2022-07-09 21:26:37,493 : INFO : topic #4 (0.059): 0.023*\"영업\" + 0.013*\"이익\" + 0.013*\"증가\" + 0.012*\"발행\" + 0.011*\"기업\" + 0.011*\"실적\" + 0.011*\"기록\" + 0.011*\"금리\" + 0.011*\"투자\" + 0.009*\"전망\"\n",
            "2022-07-09 21:26:37,494 : INFO : topic diff=0.179804, rho=0.263359\n",
            "2022-07-09 21:26:37,515 : INFO : PROGRESS: pass 12, at document #2836/2836\n",
            "2022-07-09 21:26:38,470 : INFO : optimized alpha [0.15843168, 0.058006477, 0.065568194, 0.089758165, 0.058664475]\n",
            "2022-07-09 21:26:38,478 : INFO : merging changes from 836 documents into a model of 2836 documents\n",
            "2022-07-09 21:26:38,494 : INFO : topic #0 (0.158): 0.014*\"후보\" + 0.014*\"단가\" + 0.013*\"물가\" + 0.013*\"국민\" + 0.011*\"가스\" + 0.011*\"산업\" + 0.010*\"결정\" + 0.009*\"정책\" + 0.008*\"발표\" + 0.008*\"반영\"\n",
            "2022-07-09 21:26:38,501 : INFO : topic #1 (0.058): 0.040*\"기관\" + 0.029*\"공공\" + 0.020*\"경영\" + 0.018*\"평가\" + 0.017*\"한국\" + 0.016*\"재무\" + 0.012*\"성과급\" + 0.010*\"부채\" + 0.010*\"공기업\" + 0.009*\"반납\"\n",
            "2022-07-09 21:26:38,507 : INFO : topic #2 (0.066): 0.013*\"경제\" + 0.013*\"물가\" + 0.009*\"기업\" + 0.008*\"정책\" + 0.005*\"대통령\" + 0.005*\"시장\" + 0.005*\"세계\" + 0.005*\"안정\" + 0.005*\"공급\" + 0.004*\"장관\"\n",
            "2022-07-09 21:26:38,512 : INFO : topic #3 (0.090): 0.025*\"원전\" + 0.017*\"발전\" + 0.009*\"산업\" + 0.009*\"정책\" + 0.009*\"발전사\" + 0.008*\"시장\" + 0.007*\"매각\" + 0.006*\"원자력\" + 0.006*\"추진\" + 0.006*\"탄소\"\n",
            "2022-07-09 21:26:38,514 : INFO : topic #4 (0.059): 0.021*\"영업\" + 0.013*\"이익\" + 0.012*\"증가\" + 0.012*\"발행\" + 0.011*\"기업\" + 0.011*\"실적\" + 0.011*\"금리\" + 0.011*\"투자\" + 0.009*\"기록\" + 0.009*\"전망\"\n",
            "2022-07-09 21:26:38,519 : INFO : topic diff=0.199189, rho=0.263359\n",
            "2022-07-09 21:26:38,552 : INFO : PROGRESS: pass 13, at document #2000/2836\n",
            "2022-07-09 21:26:40,677 : INFO : optimized alpha [0.15964583, 0.05838311, 0.06527131, 0.09221331, 0.06023901]\n",
            "2022-07-09 21:26:40,680 : INFO : merging changes from 2000 documents into a model of 2836 documents\n",
            "2022-07-09 21:26:40,698 : INFO : topic #0 (0.160): 0.015*\"단가\" + 0.014*\"물가\" + 0.012*\"가스\" + 0.012*\"후보\" + 0.012*\"국민\" + 0.011*\"산업\" + 0.010*\"결정\" + 0.009*\"정책\" + 0.008*\"발표\" + 0.008*\"반영\"\n",
            "2022-07-09 21:26:40,701 : INFO : topic #1 (0.058): 0.042*\"기관\" + 0.029*\"공공\" + 0.020*\"경영\" + 0.018*\"평가\" + 0.017*\"재무\" + 0.017*\"한국\" + 0.012*\"성과급\" + 0.011*\"부채\" + 0.010*\"공기업\" + 0.010*\"공사\"\n",
            "2022-07-09 21:26:40,705 : INFO : topic #2 (0.065): 0.013*\"물가\" + 0.012*\"경제\" + 0.009*\"기업\" + 0.007*\"정책\" + 0.005*\"대통령\" + 0.005*\"시장\" + 0.005*\"장관\" + 0.004*\"부총리\" + 0.004*\"공급\" + 0.004*\"안정\"\n",
            "2022-07-09 21:26:40,708 : INFO : topic #3 (0.092): 0.024*\"원전\" + 0.016*\"발전\" + 0.009*\"산업\" + 0.009*\"발전사\" + 0.009*\"정책\" + 0.009*\"시장\" + 0.008*\"매각\" + 0.006*\"추진\" + 0.006*\"비용\" + 0.006*\"민간\"\n",
            "2022-07-09 21:26:40,714 : INFO : topic #4 (0.060): 0.023*\"영업\" + 0.013*\"이익\" + 0.013*\"증가\" + 0.012*\"발행\" + 0.011*\"기업\" + 0.011*\"실적\" + 0.011*\"기록\" + 0.011*\"투자\" + 0.011*\"금리\" + 0.009*\"전망\"\n",
            "2022-07-09 21:26:40,716 : INFO : topic diff=0.168100, rho=0.254675\n",
            "2022-07-09 21:26:40,737 : INFO : PROGRESS: pass 13, at document #2836/2836\n",
            "2022-07-09 21:26:41,369 : INFO : optimized alpha [0.16027325, 0.059228454, 0.06621619, 0.09134277, 0.05952196]\n",
            "2022-07-09 21:26:41,372 : INFO : merging changes from 836 documents into a model of 2836 documents\n",
            "2022-07-09 21:26:41,388 : INFO : topic #0 (0.160): 0.015*\"후보\" + 0.014*\"단가\" + 0.013*\"물가\" + 0.013*\"국민\" + 0.012*\"가스\" + 0.011*\"산업\" + 0.010*\"결정\" + 0.009*\"정책\" + 0.008*\"발표\" + 0.008*\"반영\"\n",
            "2022-07-09 21:26:41,390 : INFO : topic #1 (0.059): 0.040*\"기관\" + 0.029*\"공공\" + 0.020*\"경영\" + 0.018*\"평가\" + 0.017*\"한국\" + 0.016*\"재무\" + 0.012*\"성과급\" + 0.011*\"부채\" + 0.010*\"공기업\" + 0.009*\"반납\"\n",
            "2022-07-09 21:26:41,397 : INFO : topic #2 (0.066): 0.013*\"경제\" + 0.013*\"물가\" + 0.009*\"기업\" + 0.008*\"정책\" + 0.005*\"대통령\" + 0.005*\"시장\" + 0.005*\"세계\" + 0.005*\"안정\" + 0.005*\"공급\" + 0.004*\"장관\"\n",
            "2022-07-09 21:26:41,401 : INFO : topic #3 (0.091): 0.025*\"원전\" + 0.017*\"발전\" + 0.009*\"산업\" + 0.009*\"정책\" + 0.009*\"발전사\" + 0.008*\"시장\" + 0.007*\"매각\" + 0.006*\"원자력\" + 0.006*\"추진\" + 0.006*\"탄소\"\n",
            "2022-07-09 21:26:41,406 : INFO : topic #4 (0.060): 0.021*\"영업\" + 0.013*\"이익\" + 0.012*\"증가\" + 0.012*\"발행\" + 0.011*\"기업\" + 0.011*\"실적\" + 0.011*\"금리\" + 0.011*\"투자\" + 0.009*\"기록\" + 0.009*\"전망\"\n",
            "2022-07-09 21:26:41,412 : INFO : topic diff=0.187416, rho=0.254675\n",
            "2022-07-09 21:26:41,435 : INFO : PROGRESS: pass 14, at document #2000/2836\n",
            "2022-07-09 21:26:42,639 : INFO : optimized alpha [0.16138184, 0.059619226, 0.0659319, 0.09380614, 0.06094643]\n",
            "2022-07-09 21:26:42,646 : INFO : merging changes from 2000 documents into a model of 2836 documents\n",
            "2022-07-09 21:26:42,657 : INFO : topic #0 (0.161): 0.016*\"단가\" + 0.014*\"물가\" + 0.012*\"후보\" + 0.012*\"가스\" + 0.012*\"국민\" + 0.011*\"산업\" + 0.010*\"결정\" + 0.009*\"정책\" + 0.008*\"발표\" + 0.008*\"반영\"\n",
            "2022-07-09 21:26:42,659 : INFO : topic #1 (0.060): 0.042*\"기관\" + 0.029*\"공공\" + 0.020*\"경영\" + 0.019*\"평가\" + 0.018*\"재무\" + 0.017*\"한국\" + 0.012*\"성과급\" + 0.011*\"부채\" + 0.010*\"공기업\" + 0.010*\"공사\"\n",
            "2022-07-09 21:26:42,662 : INFO : topic #2 (0.066): 0.013*\"물가\" + 0.012*\"경제\" + 0.009*\"기업\" + 0.007*\"정책\" + 0.005*\"대통령\" + 0.005*\"시장\" + 0.005*\"장관\" + 0.004*\"부총리\" + 0.004*\"안정\" + 0.004*\"공급\"\n",
            "2022-07-09 21:26:42,665 : INFO : topic #3 (0.094): 0.024*\"원전\" + 0.016*\"발전\" + 0.009*\"산업\" + 0.009*\"발전사\" + 0.009*\"정책\" + 0.009*\"시장\" + 0.008*\"매각\" + 0.006*\"추진\" + 0.006*\"비용\" + 0.005*\"민간\"\n",
            "2022-07-09 21:26:42,669 : INFO : topic #4 (0.061): 0.023*\"영업\" + 0.013*\"이익\" + 0.013*\"증가\" + 0.012*\"발행\" + 0.011*\"기업\" + 0.011*\"실적\" + 0.011*\"투자\" + 0.011*\"기록\" + 0.011*\"금리\" + 0.009*\"전망\"\n",
            "2022-07-09 21:26:42,673 : INFO : topic diff=0.157577, rho=0.246797\n",
            "2022-07-09 21:26:42,704 : INFO : PROGRESS: pass 14, at document #2836/2836\n",
            "2022-07-09 21:26:43,244 : INFO : optimized alpha [0.16185506, 0.060349308, 0.06687648, 0.09301122, 0.060227722]\n",
            "2022-07-09 21:26:43,246 : INFO : merging changes from 836 documents into a model of 2836 documents\n",
            "2022-07-09 21:26:43,260 : INFO : topic #0 (0.162): 0.015*\"후보\" + 0.014*\"단가\" + 0.013*\"물가\" + 0.013*\"국민\" + 0.012*\"가스\" + 0.011*\"산업\" + 0.010*\"결정\" + 0.009*\"정책\" + 0.008*\"발표\" + 0.008*\"반영\"\n",
            "2022-07-09 21:26:43,263 : INFO : topic #1 (0.060): 0.041*\"기관\" + 0.029*\"공공\" + 0.020*\"경영\" + 0.018*\"평가\" + 0.017*\"한국\" + 0.016*\"재무\" + 0.012*\"성과급\" + 0.011*\"부채\" + 0.010*\"공기업\" + 0.009*\"반납\"\n",
            "2022-07-09 21:26:43,266 : INFO : topic #2 (0.067): 0.013*\"경제\" + 0.013*\"물가\" + 0.009*\"기업\" + 0.008*\"정책\" + 0.006*\"대통령\" + 0.005*\"시장\" + 0.005*\"안정\" + 0.005*\"세계\" + 0.004*\"공급\" + 0.004*\"장관\"\n",
            "2022-07-09 21:26:43,269 : INFO : topic #3 (0.093): 0.026*\"원전\" + 0.017*\"발전\" + 0.009*\"산업\" + 0.009*\"정책\" + 0.009*\"발전사\" + 0.008*\"시장\" + 0.007*\"매각\" + 0.006*\"원자력\" + 0.006*\"추진\" + 0.006*\"탄소\"\n",
            "2022-07-09 21:26:43,272 : INFO : topic #4 (0.060): 0.021*\"영업\" + 0.013*\"이익\" + 0.012*\"증가\" + 0.012*\"발행\" + 0.011*\"기업\" + 0.011*\"실적\" + 0.011*\"금리\" + 0.011*\"투자\" + 0.010*\"기록\" + 0.009*\"전망\"\n",
            "2022-07-09 21:26:43,275 : INFO : topic diff=0.176815, rho=0.246797\n",
            "2022-07-09 21:26:43,294 : INFO : PROGRESS: pass 15, at document #2000/2836\n",
            "2022-07-09 21:26:44,517 : INFO : optimized alpha [0.16301157, 0.060733236, 0.06660664, 0.09550164, 0.061615855]\n",
            "2022-07-09 21:26:44,521 : INFO : merging changes from 2000 documents into a model of 2836 documents\n",
            "2022-07-09 21:26:44,540 : INFO : topic #0 (0.163): 0.016*\"단가\" + 0.014*\"물가\" + 0.012*\"후보\" + 0.012*\"가스\" + 0.012*\"국민\" + 0.011*\"산업\" + 0.010*\"결정\" + 0.009*\"정책\" + 0.008*\"발표\" + 0.008*\"반영\"\n",
            "2022-07-09 21:26:44,542 : INFO : topic #1 (0.061): 0.042*\"기관\" + 0.029*\"공공\" + 0.020*\"경영\" + 0.019*\"평가\" + 0.018*\"재무\" + 0.017*\"한국\" + 0.013*\"성과급\" + 0.011*\"부채\" + 0.010*\"공기업\" + 0.010*\"공사\"\n",
            "2022-07-09 21:26:44,551 : INFO : topic #2 (0.067): 0.013*\"물가\" + 0.012*\"경제\" + 0.009*\"기업\" + 0.007*\"정책\" + 0.006*\"대통령\" + 0.005*\"시장\" + 0.005*\"장관\" + 0.004*\"부총리\" + 0.004*\"안정\" + 0.004*\"공급\"\n",
            "2022-07-09 21:26:44,554 : INFO : topic #3 (0.096): 0.024*\"원전\" + 0.016*\"발전\" + 0.009*\"산업\" + 0.009*\"발전사\" + 0.009*\"정책\" + 0.009*\"시장\" + 0.008*\"매각\" + 0.006*\"비용\" + 0.006*\"추진\" + 0.005*\"민간\"\n",
            "2022-07-09 21:26:44,557 : INFO : topic #4 (0.062): 0.023*\"영업\" + 0.013*\"이익\" + 0.013*\"증가\" + 0.012*\"발행\" + 0.011*\"기업\" + 0.011*\"실적\" + 0.011*\"투자\" + 0.011*\"기록\" + 0.011*\"금리\" + 0.009*\"전망\"\n",
            "2022-07-09 21:26:44,559 : INFO : topic diff=0.148054, rho=0.239608\n",
            "2022-07-09 21:26:44,581 : INFO : PROGRESS: pass 15, at document #2836/2836\n",
            "2022-07-09 21:26:45,089 : INFO : optimized alpha [0.16319586, 0.061409153, 0.06753965, 0.09446299, 0.06090804]\n",
            "2022-07-09 21:26:45,092 : INFO : merging changes from 836 documents into a model of 2836 documents\n",
            "2022-07-09 21:26:45,105 : INFO : topic #0 (0.163): 0.015*\"후보\" + 0.015*\"단가\" + 0.013*\"물가\" + 0.013*\"국민\" + 0.012*\"가스\" + 0.011*\"산업\" + 0.010*\"결정\" + 0.009*\"정책\" + 0.008*\"발표\" + 0.008*\"반영\"\n",
            "2022-07-09 21:26:45,108 : INFO : topic #1 (0.061): 0.041*\"기관\" + 0.029*\"공공\" + 0.020*\"경영\" + 0.018*\"평가\" + 0.017*\"한국\" + 0.017*\"재무\" + 0.012*\"성과급\" + 0.011*\"부채\" + 0.010*\"공기업\" + 0.009*\"반납\"\n",
            "2022-07-09 21:26:45,113 : INFO : topic #2 (0.068): 0.013*\"물가\" + 0.013*\"경제\" + 0.009*\"기업\" + 0.008*\"정책\" + 0.006*\"대통령\" + 0.005*\"시장\" + 0.005*\"안정\" + 0.004*\"세계\" + 0.004*\"장관\" + 0.004*\"공급\"\n",
            "2022-07-09 21:26:45,119 : INFO : topic #3 (0.094): 0.026*\"원전\" + 0.017*\"발전\" + 0.009*\"산업\" + 0.009*\"발전사\" + 0.009*\"정책\" + 0.008*\"시장\" + 0.007*\"매각\" + 0.006*\"원자력\" + 0.006*\"추진\" + 0.006*\"탄소\"\n",
            "2022-07-09 21:26:45,125 : INFO : topic #4 (0.061): 0.022*\"영업\" + 0.013*\"이익\" + 0.012*\"증가\" + 0.012*\"발행\" + 0.012*\"기업\" + 0.011*\"실적\" + 0.011*\"금리\" + 0.011*\"투자\" + 0.010*\"기록\" + 0.009*\"전망\"\n",
            "2022-07-09 21:26:45,136 : INFO : topic diff=0.167032, rho=0.239608\n",
            "2022-07-09 21:26:45,160 : INFO : PROGRESS: pass 16, at document #2000/2836\n",
            "2022-07-09 21:26:46,383 : INFO : optimized alpha [0.16439937, 0.06176295, 0.06726527, 0.0968843, 0.062227998]\n",
            "2022-07-09 21:26:46,390 : INFO : merging changes from 2000 documents into a model of 2836 documents\n",
            "2022-07-09 21:26:46,401 : INFO : topic #0 (0.164): 0.016*\"단가\" + 0.014*\"물가\" + 0.012*\"후보\" + 0.012*\"가스\" + 0.012*\"국민\" + 0.011*\"산업\" + 0.010*\"결정\" + 0.009*\"정책\" + 0.008*\"발표\" + 0.008*\"반영\"\n",
            "2022-07-09 21:26:46,404 : INFO : topic #1 (0.062): 0.042*\"기관\" + 0.029*\"공공\" + 0.020*\"경영\" + 0.019*\"평가\" + 0.018*\"재무\" + 0.017*\"한국\" + 0.013*\"성과급\" + 0.011*\"부채\" + 0.010*\"공기업\" + 0.010*\"공사\"\n",
            "2022-07-09 21:26:46,409 : INFO : topic #2 (0.067): 0.013*\"물가\" + 0.012*\"경제\" + 0.008*\"기업\" + 0.007*\"정책\" + 0.006*\"대통령\" + 0.005*\"시장\" + 0.005*\"장관\" + 0.004*\"국민\" + 0.004*\"안정\" + 0.004*\"부총리\"\n",
            "2022-07-09 21:26:46,413 : INFO : topic #3 (0.097): 0.024*\"원전\" + 0.016*\"발전\" + 0.009*\"산업\" + 0.009*\"발전사\" + 0.009*\"정책\" + 0.009*\"시장\" + 0.008*\"매각\" + 0.006*\"비용\" + 0.006*\"추진\" + 0.005*\"민간\"\n",
            "2022-07-09 21:26:46,417 : INFO : topic #4 (0.062): 0.024*\"영업\" + 0.013*\"이익\" + 0.013*\"증가\" + 0.012*\"발행\" + 0.012*\"기업\" + 0.011*\"실적\" + 0.011*\"투자\" + 0.011*\"기록\" + 0.011*\"금리\" + 0.010*\"전망\"\n",
            "2022-07-09 21:26:46,421 : INFO : topic diff=0.139382, rho=0.233012\n",
            "2022-07-09 21:26:46,443 : INFO : PROGRESS: pass 16, at document #2836/2836\n",
            "2022-07-09 21:26:46,949 : INFO : optimized alpha [0.16453426, 0.06237998, 0.068126865, 0.09574857, 0.061499134]\n",
            "2022-07-09 21:26:46,952 : INFO : merging changes from 836 documents into a model of 2836 documents\n",
            "2022-07-09 21:26:46,965 : INFO : topic #0 (0.165): 0.015*\"후보\" + 0.015*\"단가\" + 0.013*\"물가\" + 0.013*\"국민\" + 0.012*\"가스\" + 0.011*\"산업\" + 0.010*\"결정\" + 0.009*\"정책\" + 0.008*\"발표\" + 0.008*\"반영\"\n",
            "2022-07-09 21:26:46,970 : INFO : topic #1 (0.062): 0.041*\"기관\" + 0.030*\"공공\" + 0.020*\"경영\" + 0.018*\"평가\" + 0.017*\"한국\" + 0.017*\"재무\" + 0.012*\"성과급\" + 0.011*\"부채\" + 0.010*\"공기업\" + 0.009*\"반납\"\n",
            "2022-07-09 21:26:46,974 : INFO : topic #2 (0.068): 0.013*\"물가\" + 0.013*\"경제\" + 0.009*\"기업\" + 0.008*\"정책\" + 0.006*\"대통령\" + 0.005*\"시장\" + 0.005*\"안정\" + 0.004*\"장관\" + 0.004*\"세계\" + 0.004*\"공급\"\n",
            "2022-07-09 21:26:46,978 : INFO : topic #3 (0.096): 0.026*\"원전\" + 0.017*\"발전\" + 0.009*\"산업\" + 0.009*\"발전사\" + 0.009*\"정책\" + 0.008*\"시장\" + 0.007*\"매각\" + 0.006*\"원자력\" + 0.005*\"추진\" + 0.005*\"탄소\"\n",
            "2022-07-09 21:26:46,981 : INFO : topic #4 (0.061): 0.022*\"영업\" + 0.013*\"이익\" + 0.012*\"증가\" + 0.012*\"발행\" + 0.012*\"기업\" + 0.011*\"실적\" + 0.011*\"금리\" + 0.011*\"투자\" + 0.010*\"기록\" + 0.009*\"전망\"\n",
            "2022-07-09 21:26:46,983 : INFO : topic diff=0.158113, rho=0.233012\n",
            "2022-07-09 21:26:47,011 : INFO : PROGRESS: pass 17, at document #2000/2836\n",
            "2022-07-09 21:26:48,167 : INFO : optimized alpha [0.16568089, 0.062717035, 0.06784256, 0.09810893, 0.062843345]\n",
            "2022-07-09 21:26:48,170 : INFO : merging changes from 2000 documents into a model of 2836 documents\n",
            "2022-07-09 21:26:48,183 : INFO : topic #0 (0.166): 0.016*\"단가\" + 0.014*\"물가\" + 0.013*\"후보\" + 0.012*\"가스\" + 0.012*\"국민\" + 0.011*\"산업\" + 0.010*\"결정\" + 0.009*\"정책\" + 0.008*\"발표\" + 0.008*\"반영\"\n",
            "2022-07-09 21:26:48,187 : INFO : topic #1 (0.063): 0.042*\"기관\" + 0.029*\"공공\" + 0.020*\"경영\" + 0.019*\"평가\" + 0.018*\"재무\" + 0.017*\"한국\" + 0.013*\"성과급\" + 0.011*\"부채\" + 0.011*\"공기업\" + 0.010*\"공사\"\n",
            "2022-07-09 21:26:48,192 : INFO : topic #2 (0.068): 0.013*\"물가\" + 0.012*\"경제\" + 0.008*\"기업\" + 0.007*\"정책\" + 0.006*\"대통령\" + 0.005*\"시장\" + 0.005*\"장관\" + 0.004*\"국민\" + 0.004*\"안정\" + 0.004*\"부총리\"\n",
            "2022-07-09 21:26:48,195 : INFO : topic #3 (0.098): 0.024*\"원전\" + 0.016*\"발전\" + 0.009*\"산업\" + 0.009*\"발전사\" + 0.009*\"정책\" + 0.009*\"시장\" + 0.008*\"매각\" + 0.006*\"비용\" + 0.006*\"추진\" + 0.005*\"민간\"\n",
            "2022-07-09 21:26:48,197 : INFO : topic #4 (0.063): 0.024*\"영업\" + 0.013*\"이익\" + 0.013*\"증가\" + 0.012*\"발행\" + 0.012*\"기업\" + 0.011*\"실적\" + 0.011*\"투자\" + 0.011*\"기록\" + 0.011*\"금리\" + 0.010*\"전망\"\n",
            "2022-07-09 21:26:48,199 : INFO : topic diff=0.131577, rho=0.226933\n",
            "2022-07-09 21:26:48,223 : INFO : PROGRESS: pass 17, at document #2836/2836\n",
            "2022-07-09 21:26:48,693 : INFO : optimized alpha [0.1657746, 0.06326313, 0.06866348, 0.09689456, 0.062110804]\n",
            "2022-07-09 21:26:48,696 : INFO : merging changes from 836 documents into a model of 2836 documents\n",
            "2022-07-09 21:26:48,714 : INFO : topic #0 (0.166): 0.015*\"후보\" + 0.015*\"단가\" + 0.013*\"물가\" + 0.013*\"국민\" + 0.012*\"가스\" + 0.011*\"산업\" + 0.010*\"결정\" + 0.009*\"정책\" + 0.008*\"발표\" + 0.008*\"반영\"\n",
            "2022-07-09 21:26:48,716 : INFO : topic #1 (0.063): 0.041*\"기관\" + 0.030*\"공공\" + 0.020*\"경영\" + 0.018*\"평가\" + 0.017*\"한국\" + 0.017*\"재무\" + 0.012*\"성과급\" + 0.011*\"부채\" + 0.010*\"공기업\" + 0.009*\"반납\"\n",
            "2022-07-09 21:26:48,724 : INFO : topic #2 (0.069): 0.013*\"물가\" + 0.013*\"경제\" + 0.009*\"기업\" + 0.008*\"정책\" + 0.006*\"대통령\" + 0.005*\"시장\" + 0.005*\"안정\" + 0.005*\"장관\" + 0.004*\"세계\" + 0.004*\"공급\"\n",
            "2022-07-09 21:26:48,726 : INFO : topic #3 (0.097): 0.026*\"원전\" + 0.017*\"발전\" + 0.009*\"산업\" + 0.009*\"발전사\" + 0.009*\"정책\" + 0.008*\"시장\" + 0.007*\"매각\" + 0.006*\"원자력\" + 0.005*\"추진\" + 0.005*\"탄소\"\n",
            "2022-07-09 21:26:48,733 : INFO : topic #4 (0.062): 0.022*\"영업\" + 0.013*\"이익\" + 0.012*\"증가\" + 0.012*\"발행\" + 0.012*\"기업\" + 0.011*\"실적\" + 0.011*\"금리\" + 0.011*\"투자\" + 0.010*\"기록\" + 0.009*\"전망\"\n",
            "2022-07-09 21:26:48,737 : INFO : topic diff=0.149995, rho=0.226933\n",
            "2022-07-09 21:26:48,760 : INFO : PROGRESS: pass 18, at document #2000/2836\n",
            "2022-07-09 21:26:50,894 : INFO : optimized alpha [0.16682509, 0.06357151, 0.068394415, 0.099174455, 0.063406445]\n",
            "2022-07-09 21:26:50,900 : INFO : merging changes from 2000 documents into a model of 2836 documents\n",
            "2022-07-09 21:26:50,913 : INFO : topic #0 (0.167): 0.016*\"단가\" + 0.014*\"물가\" + 0.013*\"후보\" + 0.012*\"가스\" + 0.012*\"국민\" + 0.011*\"산업\" + 0.010*\"결정\" + 0.009*\"정책\" + 0.008*\"발표\" + 0.008*\"반영\"\n",
            "2022-07-09 21:26:50,917 : INFO : topic #1 (0.064): 0.042*\"기관\" + 0.029*\"공공\" + 0.020*\"경영\" + 0.019*\"평가\" + 0.018*\"재무\" + 0.017*\"한국\" + 0.013*\"성과급\" + 0.011*\"부채\" + 0.011*\"공기업\" + 0.010*\"공사\"\n",
            "2022-07-09 21:26:50,922 : INFO : topic #2 (0.068): 0.013*\"물가\" + 0.012*\"경제\" + 0.008*\"기업\" + 0.008*\"정책\" + 0.006*\"대통령\" + 0.005*\"시장\" + 0.005*\"장관\" + 0.005*\"국민\" + 0.004*\"안정\" + 0.004*\"부총리\"\n",
            "2022-07-09 21:26:50,930 : INFO : topic #3 (0.099): 0.024*\"원전\" + 0.016*\"발전\" + 0.009*\"산업\" + 0.009*\"발전사\" + 0.009*\"정책\" + 0.009*\"시장\" + 0.008*\"매각\" + 0.006*\"비용\" + 0.005*\"추진\" + 0.005*\"민간\"\n",
            "2022-07-09 21:26:50,935 : INFO : topic #4 (0.063): 0.024*\"영업\" + 0.013*\"이익\" + 0.013*\"증가\" + 0.012*\"발행\" + 0.012*\"기업\" + 0.011*\"실적\" + 0.011*\"투자\" + 0.011*\"기록\" + 0.011*\"금리\" + 0.010*\"전망\"\n",
            "2022-07-09 21:26:50,941 : INFO : topic diff=0.124465, rho=0.221306\n",
            "2022-07-09 21:26:50,962 : INFO : PROGRESS: pass 18, at document #2836/2836\n",
            "2022-07-09 21:26:51,897 : INFO : optimized alpha [0.16683818, 0.064055115, 0.06919696, 0.097958356, 0.06263637]\n",
            "2022-07-09 21:26:51,899 : INFO : merging changes from 836 documents into a model of 2836 documents\n",
            "2022-07-09 21:26:51,914 : INFO : topic #0 (0.167): 0.015*\"후보\" + 0.015*\"단가\" + 0.013*\"물가\" + 0.013*\"국민\" + 0.012*\"가스\" + 0.011*\"산업\" + 0.010*\"결정\" + 0.009*\"정책\" + 0.008*\"발표\" + 0.008*\"반영\"\n",
            "2022-07-09 21:26:51,918 : INFO : topic #1 (0.064): 0.041*\"기관\" + 0.030*\"공공\" + 0.020*\"경영\" + 0.018*\"평가\" + 0.017*\"한국\" + 0.017*\"재무\" + 0.012*\"성과급\" + 0.011*\"부채\" + 0.010*\"공기업\" + 0.009*\"반납\"\n",
            "2022-07-09 21:26:51,921 : INFO : topic #2 (0.069): 0.013*\"물가\" + 0.013*\"경제\" + 0.008*\"기업\" + 0.008*\"정책\" + 0.006*\"대통령\" + 0.005*\"시장\" + 0.005*\"장관\" + 0.005*\"안정\" + 0.004*\"국민\" + 0.004*\"세계\"\n",
            "2022-07-09 21:26:51,926 : INFO : topic #3 (0.098): 0.026*\"원전\" + 0.017*\"발전\" + 0.009*\"산업\" + 0.009*\"발전사\" + 0.009*\"정책\" + 0.008*\"시장\" + 0.007*\"매각\" + 0.006*\"원자력\" + 0.005*\"비용\" + 0.005*\"추진\"\n",
            "2022-07-09 21:26:51,929 : INFO : topic #4 (0.063): 0.022*\"영업\" + 0.013*\"이익\" + 0.012*\"증가\" + 0.012*\"기업\" + 0.012*\"발행\" + 0.011*\"실적\" + 0.011*\"금리\" + 0.011*\"투자\" + 0.010*\"기록\" + 0.009*\"전망\"\n",
            "2022-07-09 21:26:51,931 : INFO : topic diff=0.142591, rho=0.221306\n",
            "2022-07-09 21:26:51,955 : INFO : PROGRESS: pass 19, at document #2000/2836\n",
            "2022-07-09 21:26:53,120 : INFO : optimized alpha [0.16781773, 0.06433494, 0.06890915, 0.10027733, 0.06387587]\n",
            "2022-07-09 21:26:53,122 : INFO : merging changes from 2000 documents into a model of 2836 documents\n",
            "2022-07-09 21:26:53,139 : INFO : topic #0 (0.168): 0.016*\"단가\" + 0.014*\"물가\" + 0.013*\"후보\" + 0.012*\"가스\" + 0.012*\"국민\" + 0.011*\"산업\" + 0.010*\"결정\" + 0.009*\"정책\" + 0.008*\"발표\" + 0.008*\"반영\"\n",
            "2022-07-09 21:26:53,142 : INFO : topic #1 (0.064): 0.042*\"기관\" + 0.029*\"공공\" + 0.020*\"경영\" + 0.019*\"평가\" + 0.018*\"재무\" + 0.017*\"한국\" + 0.013*\"성과급\" + 0.011*\"공기업\" + 0.011*\"부채\" + 0.010*\"공사\"\n",
            "2022-07-09 21:26:53,149 : INFO : topic #2 (0.069): 0.013*\"물가\" + 0.012*\"경제\" + 0.008*\"기업\" + 0.008*\"정책\" + 0.006*\"대통령\" + 0.005*\"시장\" + 0.005*\"장관\" + 0.005*\"국민\" + 0.004*\"안정\" + 0.004*\"부총리\"\n",
            "2022-07-09 21:26:53,153 : INFO : topic #3 (0.100): 0.024*\"원전\" + 0.016*\"발전\" + 0.009*\"산업\" + 0.009*\"발전사\" + 0.009*\"정책\" + 0.009*\"시장\" + 0.007*\"매각\" + 0.006*\"비용\" + 0.005*\"추진\" + 0.005*\"민간\"\n",
            "2022-07-09 21:26:53,157 : INFO : topic #4 (0.064): 0.024*\"영업\" + 0.013*\"이익\" + 0.013*\"증가\" + 0.012*\"발행\" + 0.012*\"기업\" + 0.011*\"실적\" + 0.011*\"투자\" + 0.011*\"기록\" + 0.011*\"금리\" + 0.010*\"전망\"\n",
            "2022-07-09 21:26:53,160 : INFO : topic diff=0.117926, rho=0.216078\n",
            "2022-07-09 21:26:53,191 : INFO : PROGRESS: pass 19, at document #2836/2836\n",
            "2022-07-09 21:26:53,682 : INFO : optimized alpha [0.16777389, 0.06480123, 0.0697181, 0.09899416, 0.06311266]\n",
            "2022-07-09 21:26:53,688 : INFO : merging changes from 836 documents into a model of 2836 documents\n",
            "2022-07-09 21:26:53,700 : INFO : topic #0 (0.168): 0.015*\"후보\" + 0.015*\"단가\" + 0.013*\"물가\" + 0.013*\"국민\" + 0.012*\"가스\" + 0.011*\"산업\" + 0.010*\"결정\" + 0.009*\"정책\" + 0.008*\"발표\" + 0.008*\"반영\"\n",
            "2022-07-09 21:26:53,703 : INFO : topic #1 (0.065): 0.041*\"기관\" + 0.030*\"공공\" + 0.020*\"경영\" + 0.018*\"평가\" + 0.017*\"한국\" + 0.017*\"재무\" + 0.012*\"성과급\" + 0.011*\"부채\" + 0.010*\"공기업\" + 0.010*\"반납\"\n",
            "2022-07-09 21:26:53,710 : INFO : topic #2 (0.070): 0.013*\"물가\" + 0.013*\"경제\" + 0.008*\"기업\" + 0.008*\"정책\" + 0.006*\"대통령\" + 0.005*\"시장\" + 0.005*\"장관\" + 0.005*\"국민\" + 0.005*\"안정\" + 0.004*\"세계\"\n",
            "2022-07-09 21:26:53,716 : INFO : topic #3 (0.099): 0.026*\"원전\" + 0.017*\"발전\" + 0.009*\"산업\" + 0.009*\"발전사\" + 0.009*\"정책\" + 0.008*\"시장\" + 0.007*\"매각\" + 0.006*\"원자력\" + 0.006*\"비용\" + 0.005*\"추진\"\n",
            "2022-07-09 21:26:53,722 : INFO : topic #4 (0.063): 0.022*\"영업\" + 0.013*\"이익\" + 0.012*\"증가\" + 0.012*\"기업\" + 0.012*\"발행\" + 0.011*\"실적\" + 0.011*\"금리\" + 0.011*\"투자\" + 0.010*\"기록\" + 0.009*\"전망\"\n",
            "2022-07-09 21:26:53,728 : INFO : topic diff=0.135800, rho=0.216078\n"
          ]
        }
      ]
    },
    {
      "cell_type": "code",
      "source": [
        "top_topics = model.top_topics(corpus) #, num_words=20)\n",
        "\n",
        "# Average topic coherence is the sum of topic coherences of all topics, divided by the number of topics.\n",
        "avg_topic_coherence = sum([t[1] for t in top_topics]) / num_topics\n",
        "print('Average topic coherence: %.4f.' % avg_topic_coherence)\n",
        "\n",
        "from pprint import pprint\n",
        "pprint(top_topics)"
      ],
      "metadata": {
        "colab": {
          "base_uri": "https://localhost:8080/"
        },
        "id": "WticoI-SZ0Gp",
        "outputId": "bdeb3186-dd1f-46b4-e979-ea211dc097b0"
      },
      "execution_count": null,
      "outputs": [
        {
          "output_type": "stream",
          "name": "stderr",
          "text": [
            "2022-07-09 21:27:07,340 : INFO : CorpusAccumulator accumulated stats from 1000 documents\n",
            "2022-07-09 21:27:07,382 : INFO : CorpusAccumulator accumulated stats from 2000 documents\n"
          ]
        },
        {
          "output_type": "stream",
          "name": "stdout",
          "text": [
            "Average topic coherence: -1.3052.\n",
            "[([(0.01524945, '후보'),\n",
            "   (0.014800063, '단가'),\n",
            "   (0.01322821, '물가'),\n",
            "   (0.01281813, '국민'),\n",
            "   (0.011858739, '가스'),\n",
            "   (0.010960233, '산업'),\n",
            "   (0.010288112, '결정'),\n",
            "   (0.009155416, '정책'),\n",
            "   (0.00831113, '발표'),\n",
            "   (0.008002558, '반영'),\n",
            "   (0.007134421, '원전'),\n",
            "   (0.0070603937, '공약'),\n",
            "   (0.007021735, '동결'),\n",
            "   (0.006810347, '국제'),\n",
            "   (0.0066747516, '대선'),\n",
            "   (0.006522878, '기자'),\n",
            "   (0.0064972537, '서울'),\n",
            "   (0.0063531045, '연동'),\n",
            "   (0.006103425, '예정'),\n",
            "   (0.00599609, '최대')],\n",
            "  -0.9115895166694079),\n",
            " ([(0.013056193, '물가'),\n",
            "   (0.012969216, '경제'),\n",
            "   (0.008364702, '기업'),\n",
            "   (0.007984413, '정책'),\n",
            "   (0.0060336622, '대통령'),\n",
            "   (0.005244408, '시장'),\n",
            "   (0.00455205, '장관'),\n",
            "   (0.0045388252, '국민'),\n",
            "   (0.0045238542, '안정'),\n",
            "   (0.004387625, '세계'),\n",
            "   (0.004323399, '공급'),\n",
            "   (0.0039611566, '부총리'),\n",
            "   (0.0038171748, '기자'),\n",
            "   (0.003753166, '미국'),\n",
            "   (0.0036840646, '문제'),\n",
            "   (0.0036569836, '관련'),\n",
            "   (0.0036342787, '국제'),\n",
            "   (0.0036246954, '한국'),\n",
            "   (0.0034647188, '재정'),\n",
            "   (0.0033923713, '생각')],\n",
            "  -1.1985916409283366),\n",
            " ([(0.025576748, '원전'),\n",
            "   (0.016845401, '발전'),\n",
            "   (0.009361159, '산업'),\n",
            "   (0.008984703, '발전사'),\n",
            "   (0.00892957, '정책'),\n",
            "   (0.008499528, '시장'),\n",
            "   (0.0069297533, '매각'),\n",
            "   (0.00572801, '원자력'),\n",
            "   (0.0055029523, '비용'),\n",
            "   (0.005419325, '추진'),\n",
            "   (0.0054190825, '탄소'),\n",
            "   (0.0053467085, '석탄'),\n",
            "   (0.005190741, '민간'),\n",
            "   (0.0048423363, '사업'),\n",
            "   (0.004763476, '상한'),\n",
            "   (0.0047478275, '지분'),\n",
            "   (0.00464346, '구조'),\n",
            "   (0.0045849355, '기업'),\n",
            "   (0.004502475, '재생'),\n",
            "   (0.0044711805, '확대')],\n",
            "  -1.2726279657992756),\n",
            " ([(0.021812558, '영업'),\n",
            "   (0.012819681, '이익'),\n",
            "   (0.01198027, '증가'),\n",
            "   (0.011979414, '기업'),\n",
            "   (0.01184907, '발행'),\n",
            "   (0.011182409, '실적'),\n",
            "   (0.010858219, '금리'),\n",
            "   (0.010808275, '투자'),\n",
            "   (0.009674702, '기록'),\n",
            "   (0.009208756, '전망'),\n",
            "   (0.008982062, '시장'),\n",
            "   (0.008795612, '채권'),\n",
            "   (0.008381596, '대비'),\n",
            "   (0.007972839, '손실'),\n",
            "   (0.006644246, '전년'),\n",
            "   (0.0063042976, '금융'),\n",
            "   (0.0060467864, '증권'),\n",
            "   (0.005880997, '업종'),\n",
            "   (0.0058490457, '주가'),\n",
            "   (0.005625133, '매출')],\n",
            "  -1.5363612269100007),\n",
            " ([(0.04109709, '기관'),\n",
            "   (0.02971608, '공공'),\n",
            "   (0.020340864, '경영'),\n",
            "   (0.01840487, '평가'),\n",
            "   (0.017185658, '한국'),\n",
            "   (0.01690289, '재무'),\n",
            "   (0.012253593, '성과급'),\n",
            "   (0.010544018, '부채'),\n",
            "   (0.010200266, '공기업'),\n",
            "   (0.009519963, '반납'),\n",
            "   (0.009392694, '공사'),\n",
            "   (0.007417736, '등급'),\n",
            "   (0.0071361572, '발전'),\n",
            "   (0.0067030108, '민영화'),\n",
            "   (0.006123863, '구조'),\n",
            "   (0.0058518867, '이상'),\n",
            "   (0.005460595, '기관장'),\n",
            "   (0.0053500957, '사업'),\n",
            "   (0.005303216, '충전'),\n",
            "   (0.004760332, '운영')],\n",
            "  -1.6070282387942718)]\n"
          ]
        }
      ]
    },
    {
      "cell_type": "markdown",
      "source": [
        "## 시각화"
      ],
      "metadata": {
        "id": "kO2vNczbhhnf"
      }
    },
    {
      "cell_type": "code",
      "source": [
        "!pip install pyLDAvis\n",
        "\n",
        "import pickle\n",
        "import pyLDAvis.gensim_models as gensimvis\n",
        "import pyLDAvis\n",
        "from gensim.models.coherencemodel import CoherenceModel\n",
        "import matplotlib.pyplot as plt"
      ],
      "metadata": {
        "colab": {
          "base_uri": "https://localhost:8080/"
        },
        "id": "gEq1sUI7hw1-",
        "outputId": "a930aa10-b275-4f4f-c3ac-e1789ed096ee"
      },
      "execution_count": null,
      "outputs": [
        {
          "output_type": "stream",
          "name": "stdout",
          "text": [
            "Looking in indexes: https://pypi.org/simple, https://us-python.pkg.dev/colab-wheels/public/simple/\n",
            "Requirement already satisfied: pyLDAvis in /usr/local/lib/python3.7/dist-packages (3.3.1)\n",
            "Requirement already satisfied: setuptools in /usr/local/lib/python3.7/dist-packages (from pyLDAvis) (57.4.0)\n",
            "Requirement already satisfied: numpy>=1.20.0 in /usr/local/lib/python3.7/dist-packages (from pyLDAvis) (1.21.6)\n",
            "Requirement already satisfied: funcy in /usr/local/lib/python3.7/dist-packages (from pyLDAvis) (1.17)\n",
            "Requirement already satisfied: sklearn in /usr/local/lib/python3.7/dist-packages (from pyLDAvis) (0.0)\n",
            "Requirement already satisfied: joblib in /usr/local/lib/python3.7/dist-packages (from pyLDAvis) (1.1.0)\n",
            "Requirement already satisfied: gensim in /usr/local/lib/python3.7/dist-packages (from pyLDAvis) (3.6.0)\n",
            "Requirement already satisfied: scipy in /usr/local/lib/python3.7/dist-packages (from pyLDAvis) (1.4.1)\n",
            "Requirement already satisfied: jinja2 in /usr/local/lib/python3.7/dist-packages (from pyLDAvis) (2.11.3)\n",
            "Requirement already satisfied: scikit-learn in /usr/local/lib/python3.7/dist-packages (from pyLDAvis) (1.0.2)\n",
            "Requirement already satisfied: future in /usr/local/lib/python3.7/dist-packages (from pyLDAvis) (0.16.0)\n",
            "Requirement already satisfied: pandas>=1.2.0 in /usr/local/lib/python3.7/dist-packages (from pyLDAvis) (1.3.5)\n",
            "Requirement already satisfied: numexpr in /usr/local/lib/python3.7/dist-packages (from pyLDAvis) (2.8.1)\n",
            "Requirement already satisfied: python-dateutil>=2.7.3 in /usr/local/lib/python3.7/dist-packages (from pandas>=1.2.0->pyLDAvis) (2.8.2)\n",
            "Requirement already satisfied: pytz>=2017.3 in /usr/local/lib/python3.7/dist-packages (from pandas>=1.2.0->pyLDAvis) (2022.1)\n",
            "Requirement already satisfied: six>=1.5 in /usr/local/lib/python3.7/dist-packages (from python-dateutil>=2.7.3->pandas>=1.2.0->pyLDAvis) (1.15.0)\n",
            "Requirement already satisfied: smart-open>=1.2.1 in /usr/local/lib/python3.7/dist-packages (from gensim->pyLDAvis) (5.2.1)\n",
            "Requirement already satisfied: MarkupSafe>=0.23 in /usr/local/lib/python3.7/dist-packages (from jinja2->pyLDAvis) (2.0.1)\n",
            "Requirement already satisfied: packaging in /usr/local/lib/python3.7/dist-packages (from numexpr->pyLDAvis) (21.3)\n",
            "Requirement already satisfied: pyparsing!=3.0.5,>=2.0.2 in /usr/local/lib/python3.7/dist-packages (from packaging->numexpr->pyLDAvis) (3.0.9)\n",
            "Requirement already satisfied: threadpoolctl>=2.0.0 in /usr/local/lib/python3.7/dist-packages (from scikit-learn->pyLDAvis) (3.1.0)\n"
          ]
        }
      ]
    },
    {
      "cell_type": "code",
      "source": [
        "lda_visualization = gensimvis.prepare(model, corpus, dictionary, sort_topics=False)\n",
        "pyLDAvis.save_html(lda_visualization, 'file_name2.html')"
      ],
      "metadata": {
        "colab": {
          "base_uri": "https://localhost:8080/"
        },
        "id": "jmEUqD_JZUk7",
        "outputId": "a8215940-5952-4d6c-9e36-78222d8a0cda"
      },
      "execution_count": null,
      "outputs": [
        {
          "output_type": "stream",
          "name": "stderr",
          "text": [
            "/usr/local/lib/python3.7/dist-packages/pyLDAvis/_prepare.py:247: FutureWarning: In a future version of pandas all arguments of DataFrame.drop except for the argument 'labels' will be keyword-only\n",
            "  by='saliency', ascending=False).head(R).drop('saliency', 1)\n"
          ]
        }
      ]
    },
    {
      "cell_type": "code",
      "source": [
        "pyLDAvis.display(lda_visualization)"
      ],
      "metadata": {
        "id": "ymL64SqFUAIN",
        "colab": {
          "base_uri": "https://localhost:8080/",
          "height": 862
        },
        "outputId": "87c0cc34-4d7b-4d9d-90d6-7158bb9da460"
      },
      "execution_count": null,
      "outputs": [
        {
          "output_type": "execute_result",
          "data": {
            "text/plain": [
              "<IPython.core.display.HTML object>"
            ],
            "text/html": [
              "\n",
              "<link rel=\"stylesheet\" type=\"text/css\" href=\"https://cdn.jsdelivr.net/gh/bmabey/pyLDAvis@3.3.1/pyLDAvis/js/ldavis.v1.0.0.css\">\n",
              "\n",
              "\n",
              "<div id=\"ldavis_el591404380477929764380361330\"></div>\n",
              "<script type=\"text/javascript\">\n",
              "\n",
              "var ldavis_el591404380477929764380361330_data = {\"mdsDat\": {\"x\": [0.004568592061173358, -0.2058026711903215, 0.047205730094336255, -0.020186116973764857, 0.17421446600857685], \"y\": [0.13490455742965088, -0.11643885657815524, 0.07187402946394118, 0.0629325775465194, -0.15327230786195617], \"topics\": [1, 2, 3, 4, 5], \"cluster\": [1, 1, 1, 1, 1], \"Freq\": [27.738935246536233, 16.77516078041104, 16.901356419992037, 25.93836856016129, 12.646178992899399]}, \"tinfo\": {\"Term\": [\"\\uae30\\uad00\", \"\\uacf5\\uacf5\", \"\\uc6d0\\uc804\", \"\\uacbd\\uc601\", \"\\uc601\\uc5c5\", \"\\ub2e8\\uac00\", \"\\ud3c9\\uac00\", \"\\uc7ac\\ubb34\", \"\\ubb3c\\uac00\", \"\\uc131\\uacfc\\uae09\", \"\\ubc1c\\uc804\", \"\\uc774\\uc775\", \"\\ubc1c\\ud589\", \"\\ud6c4\\ubcf4\", \"\\uae08\\ub9ac\", \"\\ubc18\\ub0a9\", \"\\ud55c\\uad6d\", \"\\uae30\\uc5c5\", \"\\uc2e4\\uc801\", \"\\uc99d\\uac00\", \"\\ubc1c\\uc804\\uc0ac\", \"\\ubd80\\ucc44\", \"\\uacf5\\uc0ac\", \"\\ucc44\\uad8c\", \"\\uacf5\\uae30\\uc5c5\", \"\\uac00\\uc2a4\", \"\\uc2dc\\uc7a5\", \"\\ud22c\\uc790\", \"\\ub4f1\\uae09\", \"\\uacbd\\uc81c\", \"\\uc6d0\\ub8cc\\ube44\", \"\\ubbfc\\uc218\", \"\\ud0dd\\uc6a9\", \"\\uc804\\uad8c\", \"\\uc6a9\\uc8fc\", \"\\uc5f4\\ub7c9\", \"\\uc601\\uc5c5\\uc6a9\", \"\\ubd09\\uc0ac\", \"\\ubd80\\uc801\\ud569\", \"\\uc785\\uac01\", \"\\ud68c\\uc2e0\", \"\\ubc15\\uc8fc\\ud5cc\", \"\\uc4f0\\ub808\\uae30\", \"\\ube14\\ub799\", \"\\ubaa9\\uc695\\ud0d5\", \"\\uc815\\ucca0\\uc9c4\", \"\\uc2a4\\uc644\", \"\\ucf54\\ubfd4\\uc18c\", \"\\ud68c\\uc0c9\", \"\\uc0c1\\uc218\", \"\\ub3d9\\ub355\", \"\\uc9c0\\uc8fc\", \"\\ubb34\\uc0c9\", \"\\uc120\\ub300\\uc704\", \"\\uc628\\ub2f9\", \"\\uc18c\\uac01\\uc7a5\", \"\\ub300\\ud559\\uc6d0\\uc0dd\", \"\\ubd84\\uad8c\", \"\\uc544\\ubd80\", \"\\ub3c4\\ub8cc\", \"\\ud1b5\\ubcf4\", \"\\ubc31\\uc9c0\\ud654\", \"\\ubbf8\\uc218\\uae08\", \"\\ubd84\\ub9bd\", \"\\ub2f9\\uc0ac\", \"\\uc0c1\\uc2dd\", \"\\ucd9c\\uc138\", \"\\ub2e8\\uac00\", \"\\ud504\\ub808\\uc2a4\\uc13c\\ud130\", \"\\ud559\\ud68c\", \"\\uc878\\uc18d\", \"\\ub3c4\\ubaa8\", \"\\uae30\\ubcf8\\uc694\\uae08\", \"\\uad8c\\ud55c\", \"\\ub300\\uc120\", \"\\ubc31\\uc9c0\", \"\\ubc15\\uc77c\\uc900\", \"\\ud68c\\ud53c\", \"\\uc0b0\\uc815\", \"\\uc5ec\\uc758\\ub3c4\", \"\\ub2f9\\uc120\\uc778\", \"\\ud6c4\\ubcf4\", \"\\uac00\\uc2a4\", \"\\uacf5\\uc57d\", \"\\ub3d9\\uacb0\", \"\\ub0b4\\ub2ec\", \"\\uc5f0\\ub3d9\", \"\\uacb0\\uc815\", \"\\ubd80\\ucc98\", \"\\uc804\\uae30\\ub8cc\", \"\\ubc18\\uc601\", \"\\uc804\\ub825\\ub7c9\", \"\\uac00\\uad6c\", \"\\ud0ac\\ub85c\\uc640\\ud2b8\", \"\\uad6d\\ubbfc\", \"\\ucc28\\ub840\", \"\\uc815\\uce58\", \"\\ucc45\\uc784\", \"\\ubb3c\\uac00\", \"\\ud611\\uc758\", \"\\uc608\\uc815\", \"\\uc81c\\ucd9c\", \"\\ubc1c\\ud45c\", \"\\ubd88\\uac00\\ud53c\", \"\\uc0b0\\uc5c5\", \"\\uc5f0\\uac04\", \"\\uad6d\\uc81c\", \"\\uae30\\ud6c4\", \"\\ud1b5\\uc0c1\", \"\\uc11c\\uc6b8\", \"\\uae30\\uc790\", \"\\uc724\\uc11d\\uc5f4\", \"\\uc815\\ucc45\", \"\\ucd5c\\ub300\", \"\\uae09\\ub4f1\", \"\\uc7a5\\uad00\", \"\\uc6d0\\uac00\", \"\\ud544\\uc694\", \"\\uc6d0\\uc804\", \"\\uacc4\\ud68d\", \"\\uc804\\ub9dd\", \"\\uacbd\\uc81c\", \"\\uae30\\uad00\\uc7a5\", \"\\ud574\\uc784\", \"\\ucf54\\ub808\", \"\\uc2ac\\ub9bc\", \"\\uc9c1\\uae09\", \"\\uc778\\ucc9c\\uad6d\\uc81c\\uacf5\\ud56d\\uacf5\\uc0ac\", \"\\ucd5c\\uc0c1\\ub300\", \"\\ud589\\ubcf5\", \"\\ubc30\\uc810\", \"\\uad50\\ud1b5\\uc548\\uc804\\uacf5\\ub2e8\", \"\\uacf5\\uc6b4\", \"\\uac15\\uc6d0\\ub79c\\ub4dc\", \"\\uc815\\uaddc\\uc9c1\", \"\\ud765\\uc6d0\", \"\\uac10\\ucc30\", \"\\ud55c\\uad6d\\uacf5\\ud56d\\uacf5\\uc0ac\", \"\\ube44\\uc11c\", \"\\ubcf5\\ub9ac\", \"\\uc784\\uc6d0\\uc9c4\", \"\\ubcf4\\ud589\\uc790\", \"\\ud55c\\uad6d\\ub0a8\\ubd80\\ubc1c\\uc804\", \"\\ud638\\ud654\", \"\\uc131\\uacfc\\uae09\", \"\\uc2dc\\uc18d\", \"\\uac74\\uc804\\ud654\", \"\\ud3b8\\ub78c\", \"\\uc778\\ucc9c\\uacf5\\ud56d\\uacf5\\uc0ac\", \"\\uc6b0\\uccb4\\uad6d\", \"\\uc0c1\\uc784\", \"\\ud6c4\\uc0dd\\ube44\", \"\\uae30\\uad00\", \"\\ud1a0\\uc9c0\", \"\\ubc18\\ub0a9\", \"\\ub9c8\\uc0ac\\ud68c\", \"\\uacf5\\uacf5\", \"\\ucda9\\uc804\", \"\\ucc44\\uc6a9\", \"\\uacbd\\uc601\\uc9c4\", \"\\uac04\\ubd80\", \"\\uc724\\ub9ac\", \"\\ub3d9\\uc11c\", \"\\uad8c\\uace0\", \"\\ud3c9\\uac00\", \"\\uacbd\\uc601\", \"\\uacf5\\uc0ac\", \"\\ub4f1\\uae09\", \"\\uc7ac\\ubb34\", \"\\ucca0\\ub3c4\", \"\\uacf5\\uae30\\uc5c5\", \"\\ubbfc\\uc601\\ud654\", \"\\ubd80\\ucc44\", \"\\uc804\\uae30\\ucc28\", \"\\uc790\\uc728\", \"\\uac10\\uc0ac\", \"\\ud55c\\uad6d\", \"\\uc704\\ud5d8\", \"\\uc9c0\\ud45c\", \"\\uad00\\ub9ac\", \"\\ub300\\uc0c1\", \"\\uc790\\ud68c\\uc0ac\", \"\\uad6c\\uc870\", \"\\uc774\\uc0c1\", \"\\uacb0\\uacfc\", \"\\uc6b4\\uc601\", \"\\uc0ac\\uc5c5\", \"\\ubc1c\\uc804\", \"\\uae30\\ud68d\", \"\\uc7ac\\uc815\\ubd80\", \"\\uc545\\ud654\", \"\\ub300\\ud1b5\\ub839\", \"\\ub9e4\\uac01\", \"\\uacbd\\ucc30\", \"\\uaca9\\ub9ac\", \"\\ub300\\uc911\\uad50\\ud1b5\", \"\\ubc15\\uc9c4\", \"\\ub098\\ud1a0\", \"\\ubc31\\uc2e0\", \"\\ub178\\ub3d9\", \"\\ucd5c\\uc800\\uc784\\uae08\", \"\\ud574\\uc81c\", \"\\uae30\\uc0c1\\ub3c4\", \"\\uc5d0\\ub514\\uc2a8\", \"\\ud589\\uc548\", \"\\uacbd\\ucc30\\uad6d\", \"\\ucd95\\uc0b0\", \"\\uba74\\uc81c\", \"\\ud30c\\ub9ac\", \"\\uc9d1\\uac12\", \"\\ucf54\\ub09c\", \"\\uc591\\ub3c4\\uc138\", \"\\ud638\\ubd09\", \"\\ubd81\\ud55c\", \"\\ubb34\\ub354\\uc704\", \"\\ucfe0\\ud321\", \"\\uace0\\uae09\", \"\\ucca0\\uac15\\uc5c5\", \"\\uc900\\uce59\", \"\\ub178\\ub3d9\\ubd80\", \"\\uc30d\\uc6a9\", \"\\uc190\\ub2d8\", \"\\uc6d4\\uc138\", \"\\uc18c\\ub4dd\", \"\\uacf5\\ud3ec\", \"\\ud654\\ubb3c\", \"\\ubc1c\\uc0ac\", \"\\ubc95\\ubb34\\ubd80\", \"\\uacbd\\uc720\", \"\\uae30\\ub984\", \"\\uacf5\\uc81c\", \"\\ud718\\ubc1c\\uc720\", \"\\uc784\\uae08\", \"\\uc138\\uc81c\", \"\\ub0b4\\uc815\\uc790\", \"\\ud68c\\uad00\", \"\\ucd94\\uacbd\", \"\\ub2e4\\ucd94\", \"\\uc720\\ub958\", \"\\uc21c\\uc775\", \"\\uc8fc\\uc720\\uc18c\", \"\\ub300\\ud559\", \"\\ub300\\ucd9c\", \"\\uacbd\\uc81c\", \"\\uace0\\uc6a9\", \"\\uacf5\\ub300\", \"\\uc778\\ud558\", \"\\uc138\\uc728\", \"\\ubb3c\\uac00\", \"\\uc138\\uacc4\", \"\\ubbf8\\uad6d\", \"\\ubd80\\ucd1d\\ub9ac\", \"\\uc8fc\\ub3c4\", \"\\uae30\\uc5c5\", \"\\uc0dd\\uac01\", \"\\uc7ac\\uc815\", \"\\uc131\\uc7a5\", \"\\uc548\\uc815\", \"\\ub300\\ud1b5\\ub839\", \"\\uc7a5\\uad00\", \"\\ub098\\ub77c\", \"\\uc758\\uc6d0\", \"\\uc815\\ucc45\", \"\\uac1c\\ubc1c\", \"\\uacf5\\uae09\", \"\\uc2dc\\uc7a5\", \"\\ubd80\\ubd84\", \"\\uad00\\ub828\", \"\\ubb38\\uc81c\", \"\\uad6d\\ubbfc\", \"\\uae30\\uc790\", \"\\uad6d\\uc81c\", \"\\ub300\\ucc45\", \"\\ud544\\uc694\", \"\\ud55c\\uad6d\", \"\\uc704\\uae30\", \"\\uc18c\\ube44\\uc790\", \"\\uac00\\ub2a5\", \"\\uc11c\\uc6b8\", \"\\uc724\\uc11d\\uc5f4\", \"\\uc0c1\\ud55c\\uc81c\", \"\\ubc30\\ucd9c\", \"\\ubc1c\\uc804\\uae30\", \"\\ud575\\ud3d0\\uae30\\ubb3c\", \"\\uc6d4\\ubcc4\", \"\\ud575\\uc5f0\\ub8cc\", \"\\ud3c9\\uade0\\uac12\", \"\\uace0\\uc900\", \"\\uc6b0\\ub77c\\ub284\", \"\\ubcc0\\uc804\\uc18c\", \"\\ud3c9\\uc2dc\", \"\\uc6d0\\uc548\", \"\\uc900\\uc704\", \"\\uc0b0\\ubd88\", \"\\ubc29\\ud3d0\", \"\\uc774\\uc724\\uc138\", \"\\ud669\\uc9c4\\ud658\", \"\\uc6d4\\ubd81\", \"\\ub85c\\ub4dc\\ub9f5\", \"\\uc758\\ucd1d\", \"\\uc758\\uc815\\ubd80\", \"\\ub450\\uc0b0\", \"\\uace0\\uc815\\ube44\", \"\\uc7ac\\uc0dd\", \"\\ube14\\ub85d\", \"\\ubd84\\ub2f4\\uae08\", \"\\ube4c\\ub9ac\", \"\\uc18c\\ub178\", \"\\uc728\\ucd0c\", \"\\uc6d0\\uc790\\ub85c\", \"\\ud638\\uae30\", \"\\uc628\\uc2e4\\uac00\\uc2a4\", \"\\ud48d\\ub825\", \"\\ud55c\\uc6b8\", \"\\ud654\\uc11d\", \"\\ubc1c\\uc804\\ub7c9\", \"\\ubc1c\\uc804\\uc18c\", \"\\ud0c4\\uc18c\", \"\\ubc1c\\uc804\\uc0ac\", \"\\uc804\\uc6d0\", \"\\ud654\\ub825\", \"\\uc0ac\\uc5c5\\uc790\", \"\\uc0c1\\ud55c\", \"\\uac74\\uc124\", \"\\uc6b4\\uc804\", \"\\uc720\\uc5f0\\ud0c4\", \"\\uc6d0\\uc790\\ub825\", \"\\uc6d0\\uc804\", \"\\uc7ac\\uac1c\", \"\\ub179\\uc0c9\", \"\\uc5d0\\ub108\\uc9c0\\uc6d0\", \"\\ubc1c\\uc804\", \"\\uc218\\uc18c\", \"\\uc2e0\\uc7ac\", \"\\uad6c\\ub9e4\", \"\\uac00\\ub3d9\", \"\\uc9c0\\ubd84\", \"\\uc5f0\\ub8cc\", \"\\ub9e4\\uac01\", \"\\uc911\\ub9bd\", \"\\ud574\\uc678\", \"\\uc11d\\ud0c4\", \"\\uc5c5\\uacc4\", \"\\ub3c4\\ub9e4\\uac00\\uaca9\", \"\\ubbfc\\uac04\", \"\\uc2dc\\uc7a5\", \"\\uc0b0\\uc5c5\", \"\\ucd94\\uc9c4\", \"\\ube44\\uc911\", \"\\ud0dc\\uc591\\uad11\", \"\\uac70\\ub798\", \"\\ube44\\uc6a9\", \"\\uc815\\ucc45\", \"\\uc0ac\\uc5c5\", \"\\ud655\\ub300\", \"\\uc704\\uc6d0\\ud68c\", \"\\uad6c\\uc870\", \"\\uae30\\uc5c5\", \"\\uc790\\uc6d0\", \"\\uae09\\ub4f1\", \"\\uad6d\\uc81c\", \"\\ud55c\\uad6d\", \"\\uc804\\ucc44\", \"\\uacc4\\uc591\", \"\\ub9e4\\uc218\", \"\\uc0ac\\uc774\\ud074\", \"\\uae40\\ud615\\uc8fc\", \"\\ucf54\\uc2a4\\ub2e5\", \"\\uc724\\uae30\\ucc2c\", \"\\uc724\\ud615\", \"\\uc678\\ud654\\ucc44\", \"\\uc720\\uac00\\uc99d\\uad8c\", \"\\uc0bc\\uc131\\uc99d\\uad8c\", \"\\ub9ac\\uc11c\\uce58\", \"\\uc9c4\\ud589\\uc790\", \"\\ud640\\ub529\\uc2a4\", \"\\uc678\\uad6d\\uc778\", \"\\ud589\\ub7c9\", \"\\uac74\\uc124\\uc5c5\", \"\\uc12c\\uc720\", \"\\ub2e4\\uc717\", \"\\uc2b9\\uc7a5\", \"\\ub9e4\\ub3c4\", \"\\uc2e0\\ud55c\", \"\\uae40\\uc218\\ud604\", \"\\uba85\\uc9c0\", \"\\uc2ec\\ud604\\uc218\", \"\\uc139\\ud130\", \"\\uc794\\uc561\", \"\\ub808\\ub4dc\", \"\\uc2a4\\ud504\", \"\\uacf5\\ucc9c\", \"\\ubc1c\\ud589\", \"\\uacf5\\uc0ac\\ucc44\", \"\\uc8fc\\uac00\", \"\\ucc44\\uad8c\", \"\\uc801\\ub9bd\\uae08\", \"\\ubc15\\uc9c0\\ud604\", \"\\uc21c\\uc774\\uc775\", \"\\ud638\\uc7ac\", \"\\uc6a9\\ud1f4\", \"\\uc5c5\\uc885\", \"\\ub9e4\\ucd9c\\uc561\", \"\\ucf54\\uc2a4\\ud53c\", \"\\uc0bc\\uc131\\uc804\\uc790\", \"\\uc218\\ud61c\", \"\\uc99d\\uad8c\", \"\\uc57d\\uc138\", \"\\uae08\\ub9ac\", \"\\ud22c\\uc790\\uc790\", \"\\ud68c\\uc0ac\\ucc44\", \"\\ub3d9\\uae30\", \"\\uc99d\\uc2dc\", \"\\uc774\\uc775\", \"\\uc8fc\\uc2dd\", \"\\uc601\\uc5c5\", \"\\ub9e4\\ucd9c\", \"\\uc804\\ub144\", \"\\ud558\\ub77d\", \"\\uc99d\\uac00\", \"\\uc2e4\\uc801\", \"\\uac10\\uc18c\", \"\\ud22c\\uc790\", \"\\uae08\\uc735\", \"\\uc0c1\\uc7a5\", \"\\uc6b4\\uc6a9\", \"\\uc870\\ub2ec\", \"\\uae30\\uc5c5\", \"\\uc5f0\\uad6c\\uc6d0\", \"\\ub300\\ube44\", \"\\uae30\\ub85d\", \"\\uc804\\ub9dd\", \"\\uc190\\uc2e4\", \"\\uc2dc\\uc7a5\", \"\\ubd84\\uc11d\", \"\\uc120\\uac70\", \"\\uc608\\uc0c1\", \"\\uc601\\ud5a5\", \"\\uc720\\uac00\", \"\\uc790\\uc0b0\", \"\\uac00\\ub2a5\"], \"Freq\": [4455.0, 3301.0, 5511.0, 2644.0, 3033.0, 2694.0, 2347.0, 2350.0, 3871.0, 1286.0, 3877.0, 1420.0, 956.0, 3178.0, 1063.0, 1024.0, 3293.0, 2791.0, 1567.0, 1623.0, 1578.0, 1612.0, 1178.0, 715.0, 1435.0, 2461.0, 2862.0, 1661.0, 946.0, 2743.0, 499.78644473878126, 139.932647860222, 109.38612325801103, 99.6924140263143, 107.09695329630864, 122.66981142402463, 78.6996958992454, 47.31483915844633, 43.85240282039998, 103.00653346132502, 50.7535743118049, 37.05685999364895, 36.5472719719271, 32.305987394206724, 31.307050987718938, 27.57803029095332, 28.2864150742229, 29.970514524989945, 29.970597361157566, 30.80055551625502, 29.019203894511616, 26.50668252302849, 28.50746213243157, 26.556123164164966, 27.019661807249086, 27.33648253635139, 26.55655993668516, 149.78118541976693, 39.84722642227428, 27.43614699693641, 203.07600768191188, 298.24651078628096, 344.12742576092944, 80.92395242777408, 217.8558676464117, 179.43382242697064, 48.45991111555568, 2552.9921308409653, 70.94832912597403, 196.4142126334424, 147.5435144524571, 107.57581663040303, 262.4234929991905, 108.40578482624807, 1151.3861816392155, 338.2012962069334, 76.31290978946647, 214.56250243667088, 429.34164404335814, 263.3853765368818, 479.28135049807963, 2630.5107185399984, 2045.6174111920282, 1217.9089458367507, 1211.2403632429098, 210.18260784864816, 1095.9024563208086, 1774.6862321072988, 556.3439677675251, 1013.8620781888013, 1380.4310567707696, 214.9373436257259, 391.2763666673089, 459.1516195653077, 2211.111101457002, 483.26563963102984, 783.6217114861112, 754.1309915745547, 2281.8493731230055, 526.7990679819693, 1052.8330309975292, 587.6098918531127, 1433.6593892023693, 642.3411233840841, 1890.6263429068983, 690.5950686443123, 1174.7762236406597, 624.9928803488805, 795.1660811099829, 1120.7680062621976, 1125.188184329554, 1030.1554804451193, 1579.297621595758, 1034.317892440328, 991.8419957886285, 812.3182484262359, 759.4437519397317, 932.6940402074719, 1230.6785276446265, 823.0216050319127, 775.9674487827892, 762.1182054679834, 569.6429889051727, 197.1826430164099, 211.8206448921763, 121.65306818177989, 153.77894141903406, 125.01338742917994, 116.32311139518083, 102.49786766321782, 101.87377142100557, 108.61601464853375, 85.77845806406873, 88.08169987985016, 144.2500034217212, 70.11312017908453, 68.54522865639893, 76.39853685874003, 87.17678461726828, 60.621811335429875, 62.41093580702345, 55.288126244756896, 87.96601922689837, 47.65927227033227, 1278.2807484030145, 45.35980733587655, 62.63561166865115, 43.384416428420145, 51.406542725001216, 38.51392757775918, 192.46003546447278, 36.18909620964087, 4287.201288967501, 246.61888633715665, 993.1115865594561, 116.4058870322098, 3099.947412425889, 553.225432276413, 125.41869172938605, 365.17154785717236, 194.57372884381817, 90.878298336841, 262.0054150855635, 301.2774271102504, 1919.9748773077201, 2121.935578808971, 979.8350350306335, 773.8097291413984, 1763.2901175532297, 411.54550551448733, 1064.0800367713705, 699.2503999008346, 1099.939861188072, 478.7368800916891, 299.79181330776305, 239.9494239771042, 1792.7881679226377, 492.3869421094293, 336.0077575572458, 475.3909275665023, 375.5859034226349, 453.4352727715895, 638.8343860925604, 610.4621135330974, 472.7216075813251, 496.59237195031653, 558.1158499446157, 744.4357450730303, 480.29397532016714, 452.1658034508864, 417.8956695986059, 480.57285732262216, 458.2945524214028, 173.74526692124235, 76.17466136851462, 85.91690513703217, 66.95771334348908, 64.52904261403695, 61.48253163750216, 90.23811004723764, 57.45027823447523, 59.88548281266371, 51.74516378419329, 49.9254685576113, 60.06436221641111, 48.52885839021586, 41.83726737313432, 52.3463635176403, 46.63878357949248, 46.270817162806104, 41.02941631989246, 50.06220218987487, 35.71910723237029, 82.59526284460668, 41.6302398064319, 33.43540780121497, 35.947868411091335, 34.47092799947053, 36.09773091918656, 36.63926951698103, 31.1252884957451, 30.9290864396597, 33.441531754946325, 222.2556922719052, 81.373414777401, 58.75935440587841, 63.08240690252432, 41.8333764295048, 149.73641949742117, 153.59044810514152, 95.09641200637748, 178.86376655885206, 300.7224926261929, 123.70707111942127, 90.76733955921044, 70.79147967872365, 182.63248806284608, 131.827299174811, 234.7053170197644, 164.18022626943684, 83.3327251369533, 134.4890961588956, 149.61915281897697, 1363.111589879691, 101.5724839005337, 154.16859583293441, 312.9422091011007, 99.1889322108106, 1372.2531049881256, 461.15527522488014, 394.47132891987707, 416.3318982690069, 170.85106558716097, 879.1604260826393, 356.55051043410447, 364.1544910252916, 232.25226059643296, 475.4734583546184, 634.1597456332129, 478.43693806237997, 307.7936097108853, 315.81017715486234, 839.1906954127895, 250.83589679786138, 454.404904040515, 551.2062467899115, 300.1682901080948, 384.36221688621634, 387.2085278009081, 477.0469657469311, 401.1988928120239, 381.9758448741455, 278.82886249188397, 349.40573460523075, 380.9686043723167, 310.6494889209175, 275.2215662058276, 297.69051762774575, 301.1241897310889, 288.9910528697737, 235.7663692967471, 230.08584200015952, 157.6234877480629, 94.72380198712332, 79.84558444406525, 76.01127546382332, 68.46257839007987, 64.78313612084513, 59.68511590546353, 61.91413277129377, 54.227840035371386, 63.427595859848005, 51.496244568180224, 46.8991176302864, 47.00766375450684, 47.68155388450076, 45.232923826163116, 49.616746973459065, 51.90382066474706, 53.00513052365276, 41.36862171437356, 71.74512923443386, 38.49336999135376, 726.2565509366234, 52.44592222345648, 43.93221527223695, 37.772149958047386, 37.42539339752146, 36.026339858027704, 38.44888495229517, 492.66134823804936, 233.61950140711843, 201.83911910071834, 302.518207815204, 166.89872167068052, 250.0681685192217, 633.0007364604518, 874.1068690167259, 1449.2472352657874, 239.95876030783245, 202.3011889006824, 259.9232665220966, 768.3564858495604, 549.0831748140657, 133.41998357170309, 435.1863773266331, 923.9373986193207, 4125.571290162443, 196.31981955649763, 185.8141771495932, 253.4249956708768, 2717.190802183988, 132.8861349360271, 646.5072881505788, 526.3264014731768, 477.63900029512035, 765.8323495261089, 682.893909410577, 1117.7805525905433, 566.9663107394764, 641.3836031284715, 862.4328230216814, 715.7012971016088, 511.84057802834076, 837.2749842505407, 1370.9878175615956, 1509.970271257847, 874.1460023309506, 695.3389793413521, 394.8471035501301, 456.83239548373393, 887.6352031658264, 1440.3542834981529, 781.0767658826753, 721.2087289612854, 688.611804891093, 748.9976634406297, 739.5575963931256, 593.5403097915978, 619.2973164083619, 630.4920731940642, 623.6167029108585, 128.85354391579136, 158.22612040425966, 119.85595158540264, 103.86737494036603, 91.39464235667198, 111.87054376081419, 71.82348974368388, 58.77584104813337, 75.99170708465147, 65.81553992926035, 38.62432958512458, 46.517224593650006, 34.83292916611028, 72.79763916840213, 106.08035840387457, 38.05907673673713, 35.76227327446907, 37.97125822512105, 32.67954574540929, 31.047740518070636, 55.31124295293755, 53.47184464254803, 29.416397625933488, 29.416397625933488, 29.416397625933488, 29.946783076005637, 30.062419518508165, 30.915208241620135, 30.432239615159503, 28.269456141623998, 931.8364704561299, 119.19098539350699, 459.9815948965028, 691.705902161271, 61.60000876014694, 74.46895803395236, 440.3561705394651, 35.81771458925122, 93.44273236841298, 462.4943180530251, 302.26484886731635, 236.47156511379566, 305.8370428923272, 54.828720640161535, 475.5323538384454, 70.34422308980729, 853.9138181136152, 171.00215403529185, 271.7158261268031, 300.84915101485825, 267.43703743145636, 1008.1674446047354, 166.9542216655112, 1715.3867160651184, 442.3726111889963, 522.5178782154549, 358.3180940429029, 942.1543273292647, 879.4087938446584, 387.2330685437138, 849.9861112065302, 495.78358780011484, 283.2335572872431, 191.76038203238323, 209.32443225139522, 942.0870186480479, 306.4057792762428, 659.14681075737, 760.8394616165458, 724.1964397832146, 627.0013125230348, 706.3687944132786, 389.2878143513259, 370.69157561829024, 441.5550926909099, 341.6704013484213, 317.1244121054364, 312.7078566751945, 313.88378108354664], \"Total\": [4455.0, 3301.0, 5511.0, 2644.0, 3033.0, 2694.0, 2347.0, 2350.0, 3871.0, 1286.0, 3877.0, 1420.0, 956.0, 3178.0, 1063.0, 1024.0, 3293.0, 2791.0, 1567.0, 1623.0, 1578.0, 1612.0, 1178.0, 715.0, 1435.0, 2461.0, 2862.0, 1661.0, 946.0, 2743.0, 500.22375510143394, 140.29802547515575, 109.6984966093329, 99.9771139566085, 107.4090346247006, 123.05019014646373, 78.99518945800351, 47.61508709663961, 44.13333384471491, 103.67233194194499, 51.08667512771119, 37.33757625451131, 36.83511814538889, 32.57234323336289, 31.576137166943678, 27.83046704064435, 28.54639648655199, 30.24696595167758, 30.247399615932896, 31.089631685475837, 29.293377825548365, 26.759103292750584, 28.779420602831113, 26.810714357790978, 27.27909990108359, 27.599919755524446, 26.812979050609353, 151.2600509945378, 40.24167988010736, 27.70789046055101, 206.02396333962042, 304.9794062968051, 353.46680662343175, 81.99792380431899, 223.01893959221692, 183.661266975092, 48.974815564017604, 2694.317667281521, 72.23220759880294, 203.37906324502967, 151.90960766744033, 110.12019722869292, 275.0942050794379, 111.86441782656253, 1250.2802021933858, 358.7899911856609, 78.33982955917509, 228.51778048465982, 472.0864744246407, 284.1310353568992, 530.2484405200386, 3178.982332653956, 2461.3099932350437, 1444.08454599811, 1488.0877734342741, 227.66011952041117, 1349.9273271625127, 2315.385165124103, 661.417889422364, 1279.9008010274902, 1883.2084273840014, 235.14989220722558, 465.99484324282804, 560.1046404977831, 3446.6562947962016, 598.4463559830975, 1057.7318201183414, 1023.600959985258, 3871.329235257806, 670.1130123783363, 1546.6292957856863, 766.1418149168671, 2320.0201123604083, 872.2466224671588, 3607.0104097624394, 1022.3078721404438, 2348.3959728780833, 921.8931701797339, 1344.4148453847733, 2319.341569786774, 2341.4774152276746, 2038.4655461123348, 4274.053149951415, 2122.226831403692, 2004.4683374597073, 1459.6354928598926, 1281.9830606978796, 2101.78870073219, 5511.353595289582, 1958.4984330600078, 2129.6727603306417, 2743.8341224851806, 570.029003586033, 197.49860194092736, 212.1613162046709, 121.945437901783, 154.15501505160105, 125.3470735027855, 116.63440597270758, 102.78170218225056, 102.16327852223928, 108.93224404833555, 86.07202937516918, 88.38558437760352, 144.76258208138427, 70.39574060237797, 68.82217968628991, 76.71895450757087, 87.59859781647508, 60.918581981236144, 62.71646910700744, 55.564185067477176, 88.43925779292437, 47.93444837920198, 1286.0747759930716, 45.63881536133992, 63.021649435775295, 43.66182598502954, 51.73940337126843, 38.7848942504986, 193.91222858187962, 36.463888976398806, 4455.1425379384855, 250.03104756774735, 1024.2630356477212, 117.67700536315864, 3301.2592227436044, 573.9656402247034, 127.5449325354255, 380.58571486325246, 200.75537396490063, 92.21198582943921, 277.43438458615145, 322.86388822167294, 2347.54207420722, 2644.670393798234, 1178.751977582615, 946.8190321517698, 2350.793885442188, 476.3109224893304, 1435.5613712307509, 918.9438389681969, 1612.5214758653183, 611.9618775464121, 356.07861183941657, 279.4893697467981, 3293.3707958427453, 694.2184489876997, 476.55386784438565, 838.9766015833006, 609.4741151715946, 858.091547278796, 1856.5086360904381, 1743.6196215413374, 1108.2072702083547, 1235.5140470724418, 1609.2255970613544, 3877.4305248247433, 1249.710854156413, 1122.820085051035, 894.2150703815872, 2282.6424518229487, 1711.4227082866116, 174.17946221996937, 76.46779873485325, 86.27757415995916, 67.26201726715061, 64.84521847294198, 61.796471702928564, 90.70102752517847, 57.74701365974152, 60.19817919309228, 52.023577698585484, 50.20610309879407, 60.42063336705116, 48.82254617735677, 42.09593426849528, 52.68471540139568, 46.94328403673147, 46.57525464427082, 41.30334862507722, 50.396533956958855, 35.990359072487, 83.22980268150249, 41.96041165343335, 33.70627702919735, 36.24187160536185, 34.7576040362393, 36.400761236842605, 36.95355444170437, 31.395069144105943, 31.202698572560124, 33.73830867312271, 224.25508656757717, 82.09777113097935, 59.35837402335291, 63.82489420548146, 42.220669989198925, 153.28819071493936, 158.7944067662567, 98.7331592654513, 190.218968117364, 340.0135187766942, 134.6731632903836, 97.51771021405604, 74.58843055341525, 217.06879334734398, 152.28972134337957, 301.1052378454438, 199.75790659693072, 91.20327768041913, 162.35796049597943, 184.83680475561658, 2743.8341224851806, 117.54128195901134, 198.05307353119107, 521.8345824919618, 116.06295631774317, 3871.329235257806, 968.127725914278, 818.1428588420466, 904.5792962855616, 256.4619039465491, 2791.998756158472, 748.0056793899964, 789.7160609984735, 432.40452421195994, 1349.8355291199668, 2282.6424518229487, 1459.6354928598926, 705.4639380936621, 738.4397250866707, 4274.053149951415, 542.770342584863, 1839.5128397133017, 2862.008025499205, 905.8156651639408, 1713.1261652106853, 1862.6936698462207, 3446.6562947962016, 2341.4774152276746, 2348.3959728780833, 860.192356869766, 2101.78870073219, 3293.3707958427453, 1419.7078046258137, 1017.3637620171442, 1979.4934455917619, 2319.341569786774, 2038.4655461123348, 236.08440089283073, 230.63049312666593, 158.01941661375477, 95.01042233911004, 80.12892450647875, 76.30805428132018, 68.75064848065458, 65.05955575678524, 59.9748186941467, 62.21536609632047, 54.50262018057074, 63.77032000577223, 51.78664724774051, 47.169303325937086, 47.281024553069585, 47.964373779924486, 45.50187464898238, 49.91420032786346, 52.21680674948233, 53.3323007233805, 41.645600470423815, 72.23753628827437, 38.75873814849818, 731.336091046308, 52.81967081597766, 44.254947129086766, 38.05234328304856, 37.71149909109747, 36.30272932042433, 38.75026860828583, 498.549508716906, 235.8697292850658, 204.3503694675532, 308.1670737645994, 170.58857321668347, 258.0049098334461, 666.3888270610855, 928.6734455248763, 1578.548583546471, 251.72878223346325, 211.6617941686093, 274.4684956388505, 849.3856722455594, 618.5883517415325, 140.20011593220576, 489.85060800503607, 1102.1891308457043, 5511.353595289582, 214.16866676762507, 202.83291484762043, 285.5112374543399, 3877.4305248247433, 142.12417373958732, 815.7960963417917, 653.4329838428845, 598.0656451150674, 1071.7959277317818, 942.1308645517632, 1711.4227082866116, 771.6015766326028, 900.8418824672733, 1355.1350632868255, 1070.4284590167092, 704.4541974538246, 1390.6296175154816, 2862.008025499205, 3607.0104097624394, 1628.690361943317, 1170.1187433937314, 521.4346959826559, 659.3893854689761, 1897.7177766694538, 4274.053149951415, 1609.2255970613544, 1616.2592696172662, 1468.177602003088, 1856.5086360904381, 2791.998756158472, 1450.0088429815285, 2004.4683374597073, 2348.3959728780833, 3293.3707958427453, 129.1825562230222, 158.67524200054936, 120.20479048414929, 104.18683402475985, 91.71077468390764, 112.26144941909772, 72.1319485660529, 59.07818794029525, 76.41228807549149, 66.26330499933731, 38.891799276188884, 46.85917710525976, 35.093285679564325, 73.34373588252497, 106.88611103875992, 38.36840790307017, 36.07356420533531, 38.30308346682285, 32.965258179674954, 31.328872967172714, 55.81448956196455, 53.96451960341999, 29.695009698555427, 29.695009698555427, 29.695009698555427, 30.235118973198098, 30.35975774995253, 31.222446093384303, 30.735786940821225, 28.555636092772048, 956.0047186035499, 120.40697943103655, 472.5017861482462, 715.6424649266502, 62.31444409791281, 75.59464154310186, 460.78649461605573, 36.233737957548136, 96.42306596355674, 494.8334189418729, 323.0805192949339, 251.8905226411881, 330.49918020722856, 56.05114004217043, 541.87739976343, 72.79621676143928, 1063.7792675050603, 189.86282478781928, 312.86315106987263, 354.359145808866, 317.4988527731814, 1420.3288964257367, 191.23885821821221, 3033.9906754577314, 623.4796293704954, 774.4260358610194, 498.97241360681033, 1623.1485246030163, 1567.722743492538, 580.6447211053451, 1661.4382227973933, 882.2737392085414, 426.12690513437633, 244.204796158157, 278.99505317567366, 2791.998756158472, 498.8656886823138, 1691.2548934992578, 2209.959236952791, 2129.6727603306417, 2026.8364769090645, 2862.008025499205, 867.0926420015826, 843.6707011452145, 1374.2272689913616, 1290.5416691756136, 1538.7384599280388, 967.982133051428, 1979.4934455917619], \"Category\": [\"Default\", \"Default\", \"Default\", \"Default\", \"Default\", \"Default\", \"Default\", \"Default\", \"Default\", \"Default\", \"Default\", \"Default\", \"Default\", \"Default\", \"Default\", \"Default\", \"Default\", \"Default\", \"Default\", \"Default\", \"Default\", \"Default\", \"Default\", \"Default\", \"Default\", \"Default\", \"Default\", \"Default\", \"Default\", \"Default\", \"Topic1\", \"Topic1\", \"Topic1\", \"Topic1\", \"Topic1\", \"Topic1\", \"Topic1\", \"Topic1\", \"Topic1\", \"Topic1\", \"Topic1\", \"Topic1\", \"Topic1\", \"Topic1\", \"Topic1\", \"Topic1\", \"Topic1\", \"Topic1\", \"Topic1\", \"Topic1\", \"Topic1\", \"Topic1\", \"Topic1\", \"Topic1\", \"Topic1\", \"Topic1\", \"Topic1\", \"Topic1\", \"Topic1\", \"Topic1\", \"Topic1\", \"Topic1\", \"Topic1\", \"Topic1\", \"Topic1\", \"Topic1\", \"Topic1\", \"Topic1\", \"Topic1\", \"Topic1\", \"Topic1\", \"Topic1\", \"Topic1\", \"Topic1\", \"Topic1\", \"Topic1\", \"Topic1\", \"Topic1\", \"Topic1\", \"Topic1\", \"Topic1\", \"Topic1\", \"Topic1\", \"Topic1\", \"Topic1\", \"Topic1\", \"Topic1\", \"Topic1\", \"Topic1\", \"Topic1\", \"Topic1\", \"Topic1\", \"Topic1\", \"Topic1\", \"Topic1\", \"Topic1\", \"Topic1\", \"Topic1\", \"Topic1\", \"Topic1\", \"Topic1\", \"Topic1\", \"Topic1\", \"Topic1\", \"Topic1\", \"Topic1\", \"Topic1\", \"Topic1\", \"Topic1\", \"Topic1\", \"Topic1\", \"Topic1\", \"Topic1\", \"Topic1\", \"Topic1\", \"Topic1\", \"Topic1\", \"Topic1\", \"Topic1\", \"Topic1\", \"Topic1\", \"Topic1\", \"Topic2\", \"Topic2\", \"Topic2\", \"Topic2\", \"Topic2\", \"Topic2\", \"Topic2\", \"Topic2\", \"Topic2\", \"Topic2\", \"Topic2\", \"Topic2\", \"Topic2\", \"Topic2\", \"Topic2\", \"Topic2\", \"Topic2\", \"Topic2\", \"Topic2\", \"Topic2\", \"Topic2\", \"Topic2\", \"Topic2\", \"Topic2\", \"Topic2\", \"Topic2\", \"Topic2\", \"Topic2\", \"Topic2\", \"Topic2\", \"Topic2\", \"Topic2\", \"Topic2\", \"Topic2\", \"Topic2\", \"Topic2\", \"Topic2\", \"Topic2\", \"Topic2\", \"Topic2\", \"Topic2\", \"Topic2\", \"Topic2\", \"Topic2\", \"Topic2\", \"Topic2\", \"Topic2\", \"Topic2\", \"Topic2\", \"Topic2\", \"Topic2\", \"Topic2\", \"Topic2\", \"Topic2\", \"Topic2\", \"Topic2\", \"Topic2\", \"Topic2\", \"Topic2\", \"Topic2\", \"Topic2\", \"Topic2\", \"Topic2\", \"Topic2\", \"Topic2\", \"Topic2\", \"Topic2\", \"Topic2\", \"Topic2\", \"Topic2\", \"Topic2\", \"Topic3\", \"Topic3\", \"Topic3\", \"Topic3\", \"Topic3\", \"Topic3\", \"Topic3\", \"Topic3\", \"Topic3\", \"Topic3\", \"Topic3\", \"Topic3\", \"Topic3\", \"Topic3\", \"Topic3\", \"Topic3\", \"Topic3\", \"Topic3\", \"Topic3\", \"Topic3\", \"Topic3\", \"Topic3\", \"Topic3\", \"Topic3\", \"Topic3\", \"Topic3\", \"Topic3\", \"Topic3\", \"Topic3\", \"Topic3\", \"Topic3\", \"Topic3\", \"Topic3\", \"Topic3\", \"Topic3\", \"Topic3\", \"Topic3\", \"Topic3\", \"Topic3\", \"Topic3\", \"Topic3\", \"Topic3\", \"Topic3\", \"Topic3\", \"Topic3\", \"Topic3\", \"Topic3\", \"Topic3\", \"Topic3\", \"Topic3\", \"Topic3\", \"Topic3\", \"Topic3\", \"Topic3\", \"Topic3\", \"Topic3\", \"Topic3\", \"Topic3\", \"Topic3\", \"Topic3\", \"Topic3\", \"Topic3\", \"Topic3\", \"Topic3\", \"Topic3\", \"Topic3\", \"Topic3\", \"Topic3\", \"Topic3\", \"Topic3\", \"Topic3\", \"Topic3\", \"Topic3\", \"Topic3\", \"Topic3\", \"Topic3\", \"Topic3\", \"Topic3\", \"Topic3\", \"Topic3\", \"Topic3\", \"Topic3\", \"Topic3\", \"Topic3\", \"Topic3\", \"Topic3\", \"Topic3\", \"Topic4\", \"Topic4\", \"Topic4\", \"Topic4\", \"Topic4\", \"Topic4\", \"Topic4\", \"Topic4\", \"Topic4\", \"Topic4\", \"Topic4\", \"Topic4\", \"Topic4\", \"Topic4\", \"Topic4\", \"Topic4\", \"Topic4\", \"Topic4\", \"Topic4\", \"Topic4\", \"Topic4\", \"Topic4\", \"Topic4\", \"Topic4\", \"Topic4\", \"Topic4\", \"Topic4\", \"Topic4\", \"Topic4\", \"Topic4\", \"Topic4\", \"Topic4\", \"Topic4\", \"Topic4\", \"Topic4\", \"Topic4\", \"Topic4\", \"Topic4\", \"Topic4\", \"Topic4\", \"Topic4\", \"Topic4\", \"Topic4\", \"Topic4\", \"Topic4\", \"Topic4\", \"Topic4\", \"Topic4\", \"Topic4\", \"Topic4\", \"Topic4\", \"Topic4\", \"Topic4\", \"Topic4\", \"Topic4\", \"Topic4\", \"Topic4\", \"Topic4\", \"Topic4\", \"Topic4\", \"Topic4\", \"Topic4\", \"Topic4\", \"Topic4\", \"Topic4\", \"Topic4\", \"Topic4\", \"Topic4\", \"Topic4\", \"Topic4\", \"Topic4\", \"Topic4\", \"Topic4\", \"Topic4\", \"Topic4\", \"Topic4\", \"Topic4\", \"Topic4\", \"Topic4\", \"Topic4\", \"Topic4\", \"Topic4\", \"Topic5\", \"Topic5\", \"Topic5\", \"Topic5\", \"Topic5\", \"Topic5\", \"Topic5\", \"Topic5\", \"Topic5\", \"Topic5\", \"Topic5\", \"Topic5\", \"Topic5\", \"Topic5\", \"Topic5\", \"Topic5\", \"Topic5\", \"Topic5\", \"Topic5\", \"Topic5\", \"Topic5\", \"Topic5\", \"Topic5\", \"Topic5\", \"Topic5\", \"Topic5\", \"Topic5\", \"Topic5\", \"Topic5\", \"Topic5\", \"Topic5\", \"Topic5\", \"Topic5\", \"Topic5\", \"Topic5\", \"Topic5\", \"Topic5\", \"Topic5\", \"Topic5\", \"Topic5\", \"Topic5\", \"Topic5\", \"Topic5\", \"Topic5\", \"Topic5\", \"Topic5\", \"Topic5\", \"Topic5\", \"Topic5\", \"Topic5\", \"Topic5\", \"Topic5\", \"Topic5\", \"Topic5\", \"Topic5\", \"Topic5\", \"Topic5\", \"Topic5\", \"Topic5\", \"Topic5\", \"Topic5\", \"Topic5\", \"Topic5\", \"Topic5\", \"Topic5\", \"Topic5\", \"Topic5\", \"Topic5\", \"Topic5\", \"Topic5\", \"Topic5\", \"Topic5\", \"Topic5\", \"Topic5\", \"Topic5\", \"Topic5\", \"Topic5\", \"Topic5\", \"Topic5\"], \"logprob\": [30.0, 29.0, 28.0, 27.0, 26.0, 25.0, 24.0, 23.0, 22.0, 21.0, 20.0, 19.0, 18.0, 17.0, 16.0, 15.0, 14.0, 13.0, 12.0, 11.0, 10.0, 9.0, 8.0, 7.0, 6.0, 5.0, 4.0, 3.0, 2.0, 1.0, -5.844, -7.117, -7.3633, -7.4561, -7.3844, -7.2486, -7.6925, -8.2013, -8.2773, -7.4234, -8.1312, -8.4457, -8.4595, -8.5829, -8.6143, -8.7411, -8.7158, -8.6579, -8.6579, -8.6306, -8.6902, -8.7807, -8.708, -8.7789, -8.7616, -8.7499, -8.7789, -7.049, -8.3731, -8.7463, -6.7446, -6.3602, -6.2171, -7.6646, -6.6743, -6.8683, -8.1774, -4.2131, -7.7962, -6.7779, -7.064, -7.3799, -6.4882, -7.3723, -5.0094, -6.2345, -7.7233, -6.6895, -5.9959, -6.4845, -5.8859, -4.1832, -4.4347, -4.9533, -4.9587, -6.7102, -5.0588, -4.5768, -5.7368, -5.1366, -4.828, -6.6878, -6.0887, -5.9288, -4.3569, -5.8776, -5.3942, -5.4326, -4.3254, -5.7913, -5.0989, -5.6821, -4.7902, -5.593, -4.5135, -5.5206, -4.9893, -5.6204, -5.3796, -5.0364, -5.0324, -5.1207, -4.6934, -5.1166, -5.1586, -5.3583, -5.4256, -5.2201, -4.9428, -5.3452, -5.404, -5.422, -5.2102, -6.2711, -6.1995, -6.754, -6.5197, -6.7268, -6.7988, -6.9254, -6.9315, -6.8674, -7.1034, -7.0769, -6.5837, -7.3051, -7.3277, -7.2192, -7.0873, -7.4506, -7.4215, -7.5426, -7.0783, -7.6911, -4.4019, -7.7406, -7.4179, -7.7851, -7.6154, -7.9042, -6.2953, -7.9664, -3.1918, -6.0474, -4.6544, -6.7981, -3.5161, -5.2394, -6.7235, -5.6548, -6.2844, -7.0457, -5.9868, -5.8472, -3.9951, -3.8951, -4.6678, -4.9039, -4.0803, -5.5353, -4.5853, -5.0052, -4.5522, -5.3841, -5.8521, -6.0748, -4.0637, -5.3559, -5.7381, -5.3911, -5.6267, -5.4384, -5.0956, -5.141, -5.3967, -5.3474, -5.2306, -4.9426, -5.3808, -5.4412, -5.52, -5.3802, -5.4277, -6.4051, -7.2297, -7.1093, -7.3586, -7.3956, -7.4439, -7.0603, -7.5118, -7.4703, -7.6164, -7.6522, -7.4673, -7.6805, -7.8289, -7.6048, -7.7203, -7.7282, -7.8484, -7.6494, -7.987, -7.1487, -7.8339, -8.0531, -7.9806, -8.0226, -7.9765, -7.9616, -8.1247, -8.131, -8.0529, -6.1589, -7.1637, -7.4893, -7.4183, -7.829, -6.5538, -6.5284, -7.0078, -6.3761, -5.8565, -6.7448, -7.0544, -7.303, -6.3552, -6.6812, -6.1044, -6.4617, -7.1399, -6.6612, -6.5546, -4.3452, -6.9419, -6.5247, -5.8167, -6.9657, -4.3385, -5.429, -5.5852, -5.5312, -6.4219, -4.7837, -5.6862, -5.6651, -6.1149, -5.3984, -5.1104, -5.3922, -5.8333, -5.8076, -4.8303, -6.0379, -5.4437, -5.2506, -5.8584, -5.6111, -5.6037, -5.3951, -5.5682, -5.6173, -5.9321, -5.7065, -5.62, -5.824, -5.9451, -5.8666, -5.8552, -5.8963, -6.5282, -6.5526, -6.9308, -7.4401, -7.6109, -7.6601, -7.7647, -7.82, -7.9019, -7.8653, -7.9978, -7.8411, -8.0495, -8.143, -8.1407, -8.1265, -8.1792, -8.0867, -8.0416, -8.0206, -8.2685, -7.7179, -8.3405, -5.4031, -8.0312, -8.2084, -8.3595, -8.3687, -8.4068, -8.3417, -5.7912, -6.5373, -6.6836, -6.2789, -6.8736, -6.4693, -5.5406, -5.2178, -4.7122, -6.5106, -6.6813, -6.4306, -5.3468, -5.6828, -7.0975, -5.9153, -5.1624, -3.6661, -6.7113, -6.7663, -6.456, -4.0837, -7.1015, -5.5194, -5.7251, -5.8222, -5.3501, -5.4647, -4.9719, -5.6507, -5.5274, -5.2313, -5.4178, -5.753, -5.2609, -4.7677, -4.6712, -5.2178, -5.4466, -6.0125, -5.8667, -5.2025, -4.7184, -5.3304, -5.4101, -5.4564, -5.3723, -5.385, -5.6049, -5.5624, -5.5445, -5.5555, -6.414, -6.2086, -6.4864, -6.6295, -6.7575, -6.5553, -6.9985, -7.1989, -6.942, -7.0858, -7.6188, -7.4328, -7.7221, -6.985, -6.6085, -7.6335, -7.6958, -7.6358, -7.7859, -7.8371, -7.2597, -7.2935, -7.8911, -7.8911, -7.8911, -7.8732, -7.8694, -7.8414, -7.8572, -7.9309, -4.4355, -6.4919, -5.1415, -4.7335, -7.152, -6.9623, -5.1851, -7.6942, -6.7353, -5.136, -5.5614, -5.8068, -5.5496, -7.2684, -5.1082, -7.0193, -4.5228, -6.131, -5.6679, -5.5661, -5.6838, -4.3568, -6.1549, -3.8253, -5.1805, -5.014, -5.3912, -4.4245, -4.4934, -5.3136, -4.5274, -5.0665, -5.6264, -6.0164, -5.9288, -4.4246, -5.5478, -4.7817, -4.6382, -4.6876, -4.8317, -4.7125, -5.3083, -5.3573, -5.1824, -5.4388, -5.5134, -5.5274, -5.5236], \"loglift\": [30.0, 29.0, 28.0, 27.0, 26.0, 25.0, 24.0, 23.0, 22.0, 21.0, 20.0, 19.0, 18.0, 17.0, 16.0, 15.0, 14.0, 13.0, 12.0, 11.0, 10.0, 9.0, 8.0, 7.0, 6.0, 5.0, 4.0, 3.0, 2.0, 1.0, 1.2815, 1.2797, 1.2795, 1.2795, 1.2794, 1.2792, 1.2786, 1.276, 1.2759, 1.2759, 1.2758, 1.2748, 1.2745, 1.2741, 1.2738, 1.2732, 1.2732, 1.2732, 1.2731, 1.273, 1.2729, 1.2729, 1.2728, 1.2728, 1.2728, 1.2727, 1.2727, 1.2725, 1.2725, 1.2725, 1.2679, 1.26, 1.2556, 1.2691, 1.2589, 1.259, 1.2718, 1.2285, 1.2644, 1.2475, 1.2532, 1.259, 1.2352, 1.2509, 1.1999, 1.2232, 1.2561, 1.2193, 1.1874, 1.2065, 1.1813, 1.093, 1.0973, 1.112, 1.0765, 1.2025, 1.0739, 1.0164, 1.1093, 1.0493, 0.9718, 1.1925, 1.1076, 1.0836, 0.8384, 1.0686, 0.9824, 0.9768, 0.7537, 1.0417, 0.8977, 1.017, 0.801, 0.9764, 0.6364, 0.8901, 0.5897, 0.8936, 0.7572, 0.5551, 0.5495, 0.5998, 0.2868, 0.5636, 0.5788, 0.6963, 0.7588, 0.4699, -0.2169, 0.4154, 0.2727, 0.0013, 1.7846, 1.7837, 1.7837, 1.7829, 1.7828, 1.7826, 1.7826, 1.7825, 1.7824, 1.7824, 1.7819, 1.7818, 1.7817, 1.7812, 1.7812, 1.7811, 1.7804, 1.7804, 1.7804, 1.7803, 1.7799, 1.7795, 1.7792, 1.7791, 1.7791, 1.7789, 1.7788, 1.7783, 1.7778, 1.7777, 1.7468, 1.7715, 1.7544, 1.7744, 1.7224, 1.7485, 1.7685, 1.7439, 1.754, 1.7707, 1.7281, 1.7161, 1.5842, 1.5651, 1.6004, 1.5835, 1.4977, 1.6391, 1.4858, 1.5121, 1.4027, 1.5398, 1.6132, 1.6327, 1.1771, 1.4417, 1.4358, 1.2172, 1.3012, 1.1474, 0.7185, 0.7358, 0.9333, 0.8738, 0.7263, 0.135, 0.829, 0.8757, 1.0246, 0.2272, 0.4677, 1.7753, 1.7739, 1.7736, 1.7732, 1.7729, 1.7727, 1.7727, 1.7726, 1.7726, 1.7724, 1.7722, 1.7719, 1.7717, 1.7716, 1.7713, 1.7713, 1.7712, 1.7711, 1.7711, 1.7702, 1.7701, 1.7699, 1.7697, 1.7696, 1.7695, 1.7694, 1.7692, 1.7691, 1.769, 1.7689, 1.7688, 1.7689, 1.7676, 1.7661, 1.7686, 1.7543, 1.7445, 1.7402, 1.7162, 1.655, 1.6928, 1.706, 1.7255, 1.605, 1.6335, 1.5286, 1.5816, 1.6875, 1.5895, 1.5664, 1.0782, 1.6318, 1.5273, 1.2664, 1.6207, 0.7406, 1.0361, 1.0483, 1.0018, 1.3716, 0.6222, 1.0368, 1.0037, 1.1562, 0.7343, 0.497, 0.6624, 0.9484, 0.9284, 0.1499, 1.0059, 0.3795, 0.1306, 0.6733, 0.2833, 0.207, -0.1998, 0.0137, -0.0384, 0.6512, -0.0165, -0.3792, 0.2582, 0.4704, -0.1168, -0.2637, -0.1758, 1.3481, 1.3471, 1.3469, 1.3464, 1.3459, 1.3456, 1.3452, 1.3452, 1.3446, 1.3446, 1.3444, 1.3441, 1.3438, 1.3437, 1.3436, 1.3435, 1.3435, 1.3435, 1.3434, 1.3433, 1.3428, 1.3426, 1.3426, 1.3425, 1.3423, 1.3421, 1.3421, 1.3418, 1.3418, 1.3416, 1.3376, 1.3399, 1.3371, 1.3309, 1.3276, 1.3182, 1.298, 1.2889, 1.264, 1.3016, 1.3042, 1.295, 1.2492, 1.2303, 1.2999, 1.2311, 1.173, 1.0598, 1.2624, 1.2618, 1.2302, 0.9939, 1.2822, 1.1169, 1.1331, 1.1246, 1.0133, 1.0276, 0.9235, 1.0413, 1.0097, 0.8975, 0.9469, 1.03, 0.8421, 0.6135, 0.4787, 0.7272, 0.829, 1.0714, 0.9824, 0.5896, 0.2618, 0.6266, 0.5425, 0.5923, 0.4417, 0.021, 0.4562, 0.1749, 0.0345, -0.3147, 2.0653, 2.065, 2.0649, 2.0647, 2.0644, 2.0643, 2.0635, 2.0627, 2.0623, 2.061, 2.0609, 2.0605, 2.0604, 2.0603, 2.0602, 2.0597, 2.0591, 2.0591, 2.0591, 2.0588, 2.0588, 2.0586, 2.0584, 2.0584, 2.0584, 2.0582, 2.058, 2.0579, 2.0579, 2.0577, 2.0422, 2.0577, 2.041, 2.0338, 2.0563, 2.0528, 2.0225, 2.0563, 2.0364, 2.0002, 2.0012, 2.0046, 1.9903, 2.0458, 1.9372, 2.0336, 1.8481, 1.9632, 1.9268, 1.9041, 1.8962, 1.7251, 1.932, 1.4976, 1.7247, 1.6744, 1.7367, 1.5239, 1.4897, 1.6627, 1.3976, 1.4915, 1.6593, 1.8261, 1.7805, 0.9814, 1.5804, 1.1255, 1.0015, 0.9892, 0.8945, 0.6687, 1.267, 1.2454, 0.9325, 0.7388, 0.4884, 0.9379, 0.2262]}, \"token.table\": {\"Topic\": [1, 2, 3, 4, 5, 1, 2, 3, 4, 5, 1, 2, 3, 4, 5, 1, 2, 3, 4, 5, 2, 3, 1, 2, 3, 4, 5, 1, 2, 3, 4, 5, 2, 2, 1, 2, 3, 4, 5, 1, 2, 3, 4, 5, 1, 2, 3, 4, 5, 5, 2, 3, 1, 2, 3, 4, 5, 1, 2, 3, 4, 5, 1, 2, 3, 4, 5, 1, 2, 4, 1, 3, 1, 2, 3, 4, 5, 3, 3, 5, 1, 2, 3, 4, 5, 3, 2, 3, 4, 4, 1, 2, 3, 4, 5, 1, 2, 3, 4, 5, 1, 2, 3, 4, 5, 1, 2, 3, 1, 2, 3, 4, 5, 2, 5, 1, 2, 3, 4, 5, 2, 3, 4, 5, 3, 1, 2, 3, 4, 5, 1, 2, 3, 4, 5, 2, 1, 2, 3, 4, 5, 1, 2, 3, 4, 5, 1, 2, 3, 4, 5, 1, 2, 3, 4, 5, 2, 3, 1, 2, 3, 4, 2, 3, 4, 5, 1, 2, 3, 4, 5, 1, 2, 3, 4, 5, 1, 2, 3, 4, 5, 2, 1, 2, 3, 4, 5, 1, 3, 1, 2, 3, 1, 2, 3, 4, 5, 1, 2, 3, 4, 5, 1, 2, 3, 4, 5, 1, 2, 3, 4, 5, 5, 5, 1, 2, 3, 4, 5, 3, 1, 2, 3, 4, 3, 5, 3, 3, 2, 4, 5, 1, 3, 1, 2, 3, 4, 5, 1, 2, 1, 2, 3, 4, 5, 1, 2, 3, 4, 5, 1, 2, 3, 4, 5, 1, 2, 3, 4, 5, 3, 1, 2, 3, 4, 5, 2, 3, 5, 1, 2, 3, 4, 5, 1, 2, 3, 4, 5, 1, 1, 1, 2, 3, 4, 5, 1, 4, 1, 2, 3, 4, 5, 1, 2, 3, 4, 5, 1, 2, 4, 4, 2, 5, 5, 4, 5, 2, 3, 1, 2, 3, 4, 5, 5, 5, 1, 2, 3, 4, 5, 2, 4, 5, 3, 5, 1, 3, 1, 1, 2, 3, 4, 5, 1, 2, 3, 4, 5, 1, 2, 3, 4, 5, 1, 4, 1, 2, 3, 4, 5, 1, 1, 2, 3, 4, 5, 1, 4, 1, 3, 5, 3, 1, 2, 3, 5, 1, 2, 3, 4, 5, 3, 1, 2, 3, 4, 5, 4, 1, 4, 5, 1, 2, 3, 4, 5, 1, 2, 3, 4, 5, 1, 2, 3, 4, 5, 1, 2, 4, 5, 4, 2, 4, 3, 1, 4, 1, 4, 3, 4, 2, 2, 1, 1, 2, 3, 4, 5, 1, 1, 2, 3, 4, 5, 1, 2, 3, 4, 5, 1, 2, 3, 4, 5, 3, 1, 2, 4, 1, 2, 1, 2, 3, 4, 5, 1, 2, 3, 4, 5, 1, 4, 2, 1, 2, 3, 4, 5, 1, 2, 3, 4, 5, 4, 1, 2, 3, 4, 5, 1, 3, 4, 5, 4, 1, 2, 3, 4, 5, 1, 3, 4, 5, 3, 4, 5, 5, 1, 1, 2, 3, 2, 4, 1, 2, 3, 4, 5, 1, 2, 3, 4, 5, 4, 1, 2, 3, 4, 5, 1, 2, 3, 4, 5, 1, 2, 3, 4, 5, 1, 2, 3, 4, 5, 1, 5, 2, 3, 1, 2, 3, 4, 5, 1, 2, 3, 4, 5, 1, 3, 4, 1, 3, 4, 5, 1, 4, 2, 3, 1, 2, 3, 4, 5, 3, 1, 2, 3, 4, 5, 3, 4, 3, 5, 2, 5, 3, 5, 1, 5, 2, 5, 2, 1, 2, 3, 4, 5, 1, 2, 3, 4, 5, 5, 1, 2, 3, 4, 5, 5, 3, 1, 1, 1, 2, 3, 4, 5, 1, 2, 3, 4, 5, 3, 5, 3, 1, 2, 3, 4, 5, 3, 5, 1, 4, 3, 1, 2, 3, 4, 5, 1, 2, 3, 4, 5, 1, 2, 3, 4, 5, 1, 2, 3, 4, 5, 1, 2, 3, 4, 5, 1, 1, 2, 3, 4, 5, 1, 1, 2, 3, 4, 5, 1, 2, 3, 4, 5, 1, 2, 3, 4, 5, 1, 1, 4, 5, 5, 1, 3, 5, 4, 2, 1, 2, 3, 4, 5, 1, 2, 3, 4, 5, 1, 3, 4, 1, 2, 3, 4, 5, 1, 4, 1, 2, 3, 4, 5, 4, 1, 2, 3, 4, 5, 4, 4, 3, 1, 2, 3, 4, 5, 1, 2, 3, 4, 5, 1, 2, 3, 4, 5, 1, 2, 3, 4, 5, 5, 1, 3, 4, 1, 2, 3, 4, 5, 5, 2, 3, 1, 2, 3, 4, 5, 5, 4, 1, 2, 3, 4, 5, 4, 4, 1, 2, 3, 4, 5, 4, 1, 2, 3, 4, 5, 2, 2, 1, 2, 3, 4, 5, 2, 3, 2, 1, 1, 2, 3, 4, 5, 1, 2, 3, 4, 5, 1, 2, 3, 4, 5, 1, 2, 3, 4, 5, 5, 1, 2, 3, 4, 5, 1, 3, 4, 5, 1, 2, 3, 4, 5, 1, 4, 1, 2, 3, 4, 5, 1, 2, 3, 4, 5, 5, 1, 1, 2, 3, 4, 5, 1, 2, 3, 4, 5, 1, 2, 3, 4, 5, 1, 4, 1, 2, 3, 4, 5, 2, 3, 4, 5, 2, 1, 2, 3, 4, 5, 1, 1, 2, 3, 4, 5, 1, 2, 3, 4, 5, 1, 2, 3, 4, 5, 1, 2, 3, 4, 5, 1, 2, 3, 4, 5, 1, 2, 3, 4, 5, 2, 3, 4, 3, 1, 2, 3, 4, 5, 1, 2, 3, 4, 5, 1, 2, 3, 4, 5, 3, 5, 1, 2, 3, 4, 5, 1, 1, 2, 3, 4, 5, 2, 5, 3, 1, 2, 3, 4, 5, 3, 5, 2, 3, 1, 2, 3, 4, 5, 3, 1, 2, 3, 4, 5, 1, 2, 3, 4, 5, 2, 3, 1, 2, 3, 1, 2, 3, 4, 5, 3, 1, 2, 4, 3, 2, 1, 5, 3, 4, 5, 3, 1, 2, 3, 4, 5, 1, 2, 3, 4, 1, 2, 3, 4, 5, 1, 2, 3, 1, 2, 3, 1, 2, 3, 4, 5, 1, 2, 3, 4, 5, 3, 4, 5, 3, 2, 1, 2, 3, 4, 5, 4, 4, 2, 4, 5, 1, 2, 1, 2, 3, 4, 5, 1, 2, 3, 4, 5, 1, 2, 4, 1, 2, 3, 4, 5, 2, 2, 1, 4, 1, 2, 3, 4, 5, 2, 3, 4, 4, 5, 2, 3, 1, 2, 3, 4, 5, 1, 4, 3, 5, 2, 5, 4, 5, 3, 1, 3, 4, 1, 2, 3, 4, 5, 4, 3, 4, 1, 2, 4, 5, 1, 1, 1, 5, 1, 2, 3, 4, 5, 2, 1, 3, 2], \"Freq\": [0.8390650790876917, 0.021459464938304137, 0.10944327118535109, 0.027897304419795377, 0.0021459464938304133, 0.3495843856119106, 0.06567336723923176, 0.15054356490223894, 0.2753229626567793, 0.15862644087014438, 0.10032343521162472, 0.0016720572535270787, 0.0468176030987582, 0.7992433671859436, 0.05350583211286652, 0.831264654035237, 0.019501810065342802, 0.046723086614883794, 0.07556951400320336, 0.026814988839846354, 0.971331407716603, 0.024905933531194947, 0.02504567528397095, 0.858708866879004, 0.028623628895966802, 0.01788976805997925, 0.06798111862792115, 0.022388905861836707, 0.06372227052984293, 0.08438895286384605, 0.16188901161635771, 0.6665005052716004, 1.0025837646311209, 0.9956374743650931, 0.06632639474838539, 0.06632639474838539, 0.46244236338457595, 0.4034855680526778, 0.0036847997082436333, 0.0015165545913190157, 0.0015165545913190157, 0.08189394793122685, 0.6930654482327901, 0.22293352492389532, 0.004849751844751036, 0.0501141023957607, 0.02101559132725449, 0.8875045875894396, 0.0355648468615076, 0.9979607170248946, 0.9996564762114429, 0.9938824087708434, 0.2833404981551553, 0.4268154637814919, 0.04511791371897377, 0.10738063465115757, 0.13715845770568028, 0.7666111136653418, 0.07385380306297096, 0.0699667607964988, 0.0764451645739524, 0.012956807554907187, 0.05407101026098971, 0.8023684179987424, 0.006806141151732971, 0.1312072766472967, 0.005671784293110809, 0.03678540589740819, 0.959048082325285, 0.0026275289926720137, 0.01957097925161708, 0.978548962580854, 0.277713581063651, 0.06961062202514087, 0.49675014565584824, 0.11954075405364506, 0.03608089832716726, 0.998969670604777, 1.0036346695643155, 0.9957445030993114, 0.42021989198843723, 0.21291821987749493, 0.06229262068358365, 0.28746512659719337, 0.016849643299657872, 0.9933261833716649, 0.1276147388389958, 0.8677802241051714, 0.9804240750668612, 0.9990845963195955, 0.0015145735801518213, 0.9390356196941293, 0.03574393649158299, 0.0051495501725161924, 0.01847779767785222, 0.39684419931190834, 0.005979844099220537, 0.2468044746405567, 0.29029424990761515, 0.05979844099220537, 0.0919500918911132, 0.7411734679707912, 0.038312538287963833, 0.08498417583875613, 0.043885271129849475, 0.20701521702738418, 0.010098303269628498, 0.7775693517613943, 0.08313877886421743, 0.8313877886421742, 0.01696709772739131, 0.038175969886630454, 0.03054077590930436, 0.00830516640086261, 0.9883148017026505, 0.8434409213611197, 0.12533892181146358, 0.011772163927043541, 0.018696966237069155, 0.0006924802310025614, 0.9991631500303633, 0.9621894073558972, 0.03038492865334412, 0.9805419815910635, 0.9866284904467386, 0.3163806676978419, 0.12199918735949991, 0.2241516169667367, 0.25450548176431564, 0.08230567185497363, 0.08939462657058782, 0.5661659682803896, 0.18236503820399916, 0.15971839947278357, 0.0023838567085490087, 1.0006220008800553, 0.1331429575047574, 0.024486061150300213, 0.030607576437875265, 0.8049792603161194, 0.007651894109468816, 0.15674583696675257, 0.34419446674142573, 0.03770518415007794, 0.40344547040583395, 0.05763506720083342, 0.6414912921077136, 0.09864633166740056, 0.13839500060397078, 0.08471979072612047, 0.036557169970860205, 0.5003415154727827, 0.02725264424702816, 0.16266422034944933, 0.26826821680668345, 0.04130478893690206, 0.9322814070594927, 0.06504288886461576, 0.965454450113404, 0.008939393056605594, 0.008939393056605594, 0.008939393056605594, 0.0009400446413524817, 0.19552928540131617, 0.0009400446413524817, 0.8027981237150194, 0.17001526094901118, 0.08387419540151218, 0.10767633193437375, 0.07707358496355173, 0.5621837962047302, 0.49489432257990984, 0.029933124349591323, 0.044400801118560464, 0.30881006620661716, 0.1222269244274979, 0.0031424359334815306, 0.9622587747739515, 0.008080549543238221, 0.009202848090910197, 0.017283397634148417, 0.9999491191047288, 0.27421320260892457, 0.11900671994413724, 0.026244827972471328, 0.23620345175224197, 0.3443502428801842, 0.03148725513588104, 0.9698074581851361, 0.9524010144973546, 0.043621420511329216, 0.9995467882135656, 0.019340982828480527, 0.06339544371557507, 0.31482822048582193, 0.2650430980199183, 0.3373927004523825, 0.4804658770926518, 0.1306867185692013, 0.171259392634803, 0.15545740378820025, 0.06192671304749735, 0.450504209135672, 0.38408884615474703, 0.16003701923114458, 0.004000925480778615, 0.001600370192311446, 0.6779527392291548, 0.002169448765533295, 0.024948660803632897, 0.29287558334699487, 0.0010847243827666476, 0.9765950674672035, 0.99224982357463, 0.1304106348066589, 0.04394271390224376, 0.43659212522229285, 0.34020165601737107, 0.0481952346024609, 1.0023869381691204, 0.9224276981070993, 0.03514010278503236, 0.03514010278503236, 0.004392512848129045, 0.9331638304493681, 0.06152728552413416, 0.9922710079002813, 1.0012568630811658, 0.07888266069646589, 0.9170109305964159, 1.0010538919530279, 0.1313286269327687, 0.8667689377562735, 0.9475497381034115, 0.00037115148378512005, 0.0029692118702809604, 0.04676508695692513, 0.0025980603864958402, 0.9774954557608699, 0.02241962054497408, 0.9033501343827114, 0.009429542112554399, 0.07732224532294607, 0.007543633690043519, 0.0018859084225108797, 0.3151506032879567, 0.025424907957564986, 0.07982238544816914, 0.19039117121711452, 0.3896514963729145, 0.11977539026320616, 0.6169252977940481, 0.059067315746238656, 0.12633842534612158, 0.07875642099498488, 0.9205936381147066, 0.011997310661790269, 0.001599641421572036, 0.013596952083362304, 0.05198834620109116, 0.9967827774174024, 0.1522915182328614, 0.0685893097384643, 0.32434605791578885, 0.4347864719014517, 0.019763021450065987, 0.05951195712641611, 0.8115266880874924, 0.1298442700939988, 0.30885257541625827, 0.21072069329818474, 0.2777482734949046, 0.16209284099860363, 0.040742254629378756, 0.05543306883448362, 0.00615922987049818, 0.8253368026467561, 0.0615922987049818, 0.04311460909348726, 1.0069750156831752, 0.974451665255467, 0.23990204134042026, 0.001419538706156333, 0.001419538706156333, 0.7268038175520425, 0.031229851535439324, 0.9807465180589009, 0.01816197255664631, 0.8137960822063615, 0.04099220562724034, 0.054432273046007666, 0.07123235731946682, 0.020160101128150986, 0.0818378764679662, 0.002821995740274697, 0.002821995740274697, 0.06490590202631802, 0.8494207178226837, 0.9899848413762481, 0.9443674416594939, 0.05406683826294813, 0.9967117332555966, 0.8174740617971991, 0.18166090262159978, 0.9928754431116966, 0.9958479508231423, 1.0030052361872235, 0.9857490819214569, 0.008497836913116008, 0.060768154761788484, 0.26761360462403005, 0.013439111149241683, 0.6532576636892262, 0.004674473443214499, 0.9854072021735447, 0.9982963201106674, 0.12189652463342614, 0.0785911803557616, 0.028870229518443032, 0.06094826231671307, 0.7089245248417678, 0.00928561092617707, 0.052618461915003405, 0.9347514999018252, 0.9870035285152639, 0.9765950674672035, 0.9817540326767131, 1.0009434689748429, 1.0076644835979494, 0.3280195825492029, 0.0842865375781094, 0.20776363084540345, 0.30547159160474047, 0.07462311288762552, 0.5894616193365515, 0.0018081644764924895, 0.3544002373925279, 0.019889809241417384, 0.0343551250533573, 0.006111402117567485, 0.0024445608470269943, 0.48157848686431787, 0.23345556089107794, 0.2762353757140503, 0.9732172683656904, 0.025462079695613996, 0.01653927092469965, 0.22435880558723004, 0.14885343832229683, 0.601885641911896, 0.008629184830278079, 0.9978757685708947, 0.02502873301356993, 0.7606558424558861, 0.010882057831986926, 0.08705646265589541, 0.11643801880226011, 0.9701323123583303, 0.02552979769364027, 0.9909588064257244, 0.013228450847667942, 0.9789053627274277, 0.9961045285616408, 0.0009763117140780368, 0.9694775320794906, 0.02733672799418503, 0.0019526234281560736, 0.7327919628720984, 0.04672876284981497, 0.02442639876240328, 0.11416686378079793, 0.0817753349871762, 0.9870756667010563, 0.09774514271074669, 0.19187964690447373, 0.0018053192585098334, 0.7007217750530311, 0.007737082536470715, 0.9998771251396135, 0.02325537139534776, 0.9689738081394899, 0.0038758952325579597, 0.05448042644768446, 0.013936853277314629, 0.0006334933307870286, 0.9179318363104044, 0.012669866615740571, 0.03151313339482957, 0.016506879397291677, 0.0015006253997537889, 0.9498958780441484, 0.0015006253997537889, 0.6180980899088138, 0.13706777726011352, 0.12241273189268, 0.07930965728258141, 0.043103074610098595, 0.0010460199416805333, 0.0020920398833610666, 0.0219664187752912, 0.9748905856462571, 0.9940562930747375, 0.9984017885428007, 0.9972662195786935, 0.9871113725269396, 0.9420552643707867, 0.05574291505152584, 0.9771151554737674, 0.019673459506183235, 0.9947734133718064, 0.9965383777379523, 0.9898462459803553, 1.0013365054818402, 0.9870820965760027, 0.27047445680425297, 0.06513466510796297, 0.331193212413371, 0.1081897827217012, 0.2252113844410923, 0.9969788404115572, 0.23999680363470904, 0.6821614573596381, 0.024805871176714112, 0.007441761353014234, 0.04589086167692111, 0.8406183275229694, 0.0544285248036455, 0.055940428270413435, 0.04535710400303792, 0.0030238069335358614, 0.36702144451379615, 0.1680339143557139, 0.4598822919209012, 0.002210972557312025, 0.0033164588359680374, 0.9972389375668487, 0.9916696379099905, 0.006611130919399936, 0.9942391270213675, 0.9878298893676815, 0.012195430732934338, 0.1672254993022249, 0.11302137194219339, 0.10033529958133494, 0.17068533721882267, 0.4486256498521758, 0.7360303651094644, 0.053883842928574496, 0.06305556087386377, 0.09744950316869855, 0.04929798395592986, 0.9824285520614108, 0.9844817129051529, 0.9931665822125466, 0.2671630135065704, 0.11803651878791276, 0.02213184727273364, 0.46793048519493985, 0.12488685246756841, 0.06665990134793859, 0.13930210153479475, 0.01965612475644343, 0.5939568132925297, 0.18032357928737233, 0.9986244399547431, 0.047849102164799984, 0.3467506364669921, 0.05779177274449868, 0.4853266076715427, 0.06214169112311686, 0.0036434054031316363, 0.04736427024071127, 0.9472854048142255, 0.9982067405492382, 0.9964107308355349, 0.5242568734711643, 0.014416370925700977, 0.02439693541272473, 0.418629232650163, 0.018297701559543546, 0.9087318176671918, 0.0021182559852382095, 0.08473023940952837, 0.004236511970476419, 0.06656597449411411, 0.006051452226737647, 0.9258721906908599, 1.002782096118586, 0.9971169910797718, 0.974620304804256, 0.010889612344181631, 0.010889612344181631, 0.9901386900874476, 0.005156972344205456, 0.016427031280253464, 0.030507343806185003, 0.014080312525931539, 0.274566094255665, 0.6641214074731043, 0.08594446832027033, 0.0011773214838393196, 0.0011773214838393196, 0.9041828995885975, 0.008241250386875237, 0.9996424969523122, 0.18449057781558545, 0.04010664735121423, 0.47726910347944934, 0.0935821771528332, 0.20454390149119256, 0.4833268262867629, 0.13236515224802514, 0.12977821116174454, 0.20997338483644382, 0.04440915531448401, 0.22654568412936188, 0.08486238982044501, 0.0044276029471536525, 0.6360989567410748, 0.04796569859416457, 0.4670068540547597, 0.018964745342325267, 0.0687472018659291, 0.005926482919476646, 0.4397450326251672, 1.007060074553889, 0.9920872305989316, 0.9937213790801266, 0.0054429183517690815, 0.057816231330052585, 0.0023126492532021033, 0.536534626742888, 0.12257041041971148, 0.2798305596374545, 0.07127158757367263, 0.02995472521212328, 0.4761768387168563, 0.33776534980566597, 0.08366664628213744, 0.008616013513065448, 0.8529853377934794, 0.13785621620904717, 0.0074253843569693995, 0.9207476602642056, 0.0668284592127246, 0.9922236465017215, 0.9782637137774879, 0.9811330997641132, 0.008918415321640068, 0.9899441007020475, 0.4108658236177239, 0.0019658651847737985, 0.2703064629063973, 0.3135554969714209, 0.0019658651847737985, 0.9935038127523246, 0.3206968136824008, 0.08535469041085438, 0.01973518853430159, 0.26494490607299886, 0.30934908027517743, 0.06332490640537063, 0.9358013946571436, 0.01784085032432246, 0.9812467678377353, 0.041233847393534175, 0.9548890975344757, 0.8209937858976334, 0.17521208845376324, 0.9808593534105295, 0.9760609044356694, 1.0004474304177, 0.9895025599064059, 0.986002805807246, 0.07617029653925426, 0.005590480479945267, 0.19252217152811513, 0.47903429612531, 0.2466799511775849, 0.13238602205170588, 0.024515930009575162, 0.03187070901244771, 0.7930903358097565, 0.017161151006702614, 0.9821267823653737, 0.12502210662795868, 0.26407730685701475, 0.0031893394547948643, 0.046564356040005014, 0.5606858761529371, 0.9765950674672035, 0.9874162040448918, 1.004476213540576, 0.9939942894822631, 0.21583174606713054, 0.46744906661171276, 0.02236598404840731, 0.1330776050880235, 0.16103508514853263, 0.35559887826699804, 0.049635676758101814, 0.35189472328505017, 0.13409041034651384, 0.10816132547287857, 0.0274739552270169, 0.9615884329455915, 0.9921317216517803, 0.19338050876389187, 0.009342053563473037, 0.027091955334071806, 0.6688910351446694, 0.10182838384185611, 0.06466822727621592, 0.9336475313003673, 0.1085771624136428, 0.8861297448597301, 0.995894859666991, 0.9256292599984499, 0.01759751444863973, 0.02111701733836768, 0.03167552600755152, 0.0035195028897279466, 0.6759216267729874, 0.022498114928768034, 0.0567343767768933, 0.11151239573389372, 0.1349886895726082, 0.158359257395849, 0.008018190247891088, 0.008018190247891088, 0.21047749400714105, 0.6133915539636682, 0.8118955575954917, 0.0007407806182440618, 0.03703903091220309, 0.14445222055759205, 0.005926244945952494, 0.2642944938636168, 0.0021228473402700146, 0.004245694680540029, 0.72495236670221, 0.004245694680540029, 0.9995921164656146, 0.17765380901135508, 0.11931480308369302, 0.00593278026383004, 0.13183956141844533, 0.5652621195815843, 1.0000608966448399, 0.3068478991871384, 0.08213605382281987, 0.1735705288331288, 0.1735705288331288, 0.2650050038434377, 0.31799689167916445, 0.07931730250121036, 0.09387093598767098, 0.1870141903010189, 0.3216353000507796, 0.6808354160038569, 0.07370867751608708, 0.13836541217932136, 0.10151107342127781, 0.005819106119691084, 0.9897687276304705, 0.008479256774754907, 0.9920730426463241, 0.9917097644385379, 0.9946044270381726, 0.9961918042916054, 0.0311128874613244, 0.9644995113010564, 1.0004198646432216, 1.0055461218512574, 0.20639182581875462, 0.4022617154192982, 0.083366110036595, 0.2881391764371633, 0.020234492727328884, 0.028664465686687474, 0.0450441603647946, 0.10646801540769633, 0.036854313025741034, 0.7862253445491422, 0.007132661719649029, 0.035663308598245146, 0.9486440087133209, 0.5920515046328454, 0.0078004150808016525, 0.05850311310601239, 0.2839351089411801, 0.057723071597932225, 0.9995526899729331, 0.9879203992436842, 0.03447684152976793, 0.12066894535418776, 0.0036291412136597824, 0.8383316203554098, 0.0036291412136597824, 0.9806383636750997, 0.22335710796202685, 0.0052618652566196415, 0.02159179191509439, 0.748636415476298, 0.0012701054067702584, 0.9983910366041625, 1.001718943137884, 0.9781166068436953, 0.225398493237375, 0.10917739516185353, 0.21905916061507386, 0.38388180879490436, 0.06268895593164493, 0.23157961239575217, 0.21114611718436227, 0.08173398084555959, 0.4692892733549213, 0.006130048563416969, 0.018726094097551615, 0.7087106381534919, 0.044654532078776926, 0.14116594012000447, 0.0878685953808191, 0.4016277074330758, 0.01949649065209106, 0.14167449873852836, 0.23070847271641087, 0.20601291789042886, 0.9960263829378878, 0.1361650175645405, 0.7804580275040736, 0.07970635174509688, 0.08369898767090739, 0.002041438723680668, 0.006124316171042004, 0.8880258448010906, 0.020414387236806678, 0.9981707333757652, 0.9868565260954149, 0.010844577209839723, 0.5052820254746848, 0.16335816940103887, 0.14177330617687758, 0.18396190247864738, 0.005396215806040323, 0.9986765345549483, 0.9916609762932063, 0.046043026729107, 0.03791778671808811, 0.4279293072469944, 0.3696984205013591, 0.11917018682827693, 0.9844977509477306, 0.9937692408001664, 0.1703353164478935, 0.34984694623978124, 0.12617430847992112, 0.21965800067186264, 0.13363006307191644, 1.0007427642074298, 0.014081245583561722, 0.04646811042575368, 0.004224373675068517, 0.22529992933698756, 0.7096947774115108, 0.9857090858593273, 0.9972311000720907, 0.2874474115603685, 0.0076652643082764935, 0.5998069321226356, 0.0996484360075944, 0.0038326321541382468, 0.11470132170130998, 0.8852589187716488, 0.9885760611652898, 0.9935148372825116, 0.03305846141924591, 0.3708746140471651, 0.005165384596757174, 0.2675669221120216, 0.3233530757569991, 0.4862039313845625, 0.083447766946854, 0.018620576095578992, 0.4096526741027378, 0.0020689528995087767, 0.08144269000093257, 0.8425105862165437, 0.0645924782766017, 0.002808368620721813, 0.005616737241443626, 0.013984521859065896, 0.5279157001797375, 0.006992260929532948, 0.4218664094151545, 0.029134420539720617, 0.9881501771879886, 0.5563032715853137, 0.07056556277498437, 0.32747901948002456, 0.03836574286795267, 0.0068510255121344045, 0.02334608547302134, 0.03268451966222988, 0.9151665505424366, 0.02334608547302134, 0.06848750160404456, 0.7499594119747239, 0.002552329252324642, 0.12463874515518668, 0.05402430250753825, 0.005469441545373864, 0.9927036404853564, 0.21273468819614744, 0.19753935332499403, 0.46092515775831944, 0.09876967666249702, 0.031656947648236226, 0.433729327150275, 0.4025578149320828, 0.16031063426498873, 0.0017812292696109857, 0.0008906146348054929, 0.9949539131341887, 1.0002289128230029, 0.7922488986536863, 0.0046878633056431146, 0.061723533524301, 0.1265723092523641, 0.014844900467869862, 0.0016340887180903822, 0.782728495965293, 0.12582483129295943, 0.08987487949497103, 0.0016340887180903822, 0.1614098625455212, 0.03873836701092508, 0.016786625704734204, 0.10846742763059024, 0.6753388648904607, 0.9143104340040755, 0.08505213339572795, 0.36437522912183107, 0.0385035680257605, 0.08029402600493958, 0.17655294606934083, 0.33995833232500733, 0.007945058893365324, 0.035752765020143955, 0.9534070672038388, 0.9985868353409338, 0.994732187900907, 0.36943855038816004, 0.07206274447090139, 0.196300787698332, 0.33691672739642203, 0.025034784605150805, 1.0060916318475022, 0.7412086741536095, 0.021744642226445177, 0.09265108426920118, 0.04821638058907409, 0.09643276117814818, 0.7674819316105373, 0.06526206901450148, 0.0574306207327613, 0.06787255177508153, 0.04176772416928094, 0.04659580824830734, 0.0035842929421774877, 0.0573486870748398, 0.13978742474492203, 0.7491172249150949, 0.9742635918328535, 0.02633144842791496, 0.023280335275915293, 0.0021163941159922993, 0.9735412933564577, 0.007798429198345314, 0.04679057519007188, 0.6667656964585243, 0.08968193578097111, 0.1910615153594602, 0.005229062803015455, 0.01045812560603091, 0.08889406765126275, 0.026145314015077276, 0.873253488103581, 0.07675162755146094, 0.910055012395894, 0.9848098440515507, 0.9889903061577465, 0.21384093163739679, 0.00388801693886176, 0.04406419197376661, 0.7348352014448726, 0.00388801693886176, 0.15895033392775976, 0.09734167736661256, 0.03696519393668831, 0.12629774595035173, 0.5803535448060065, 0.08489005081238382, 0.0018454358872257352, 0.012918051210580147, 0.022145230646708824, 0.87842748231945, 0.15433126630855956, 0.8409479204976612, 0.06157888670063745, 0.20526295566879152, 0.014928214957730291, 0.7146882911013377, 0.003732053739432573, 1.0090024207692594, 0.05665676395017028, 0.7050619513798968, 0.07134555460391813, 0.04406637196124355, 0.12380552122444616, 0.9989944209628914, 0.9973417798374278, 0.987648921113487, 0.8070898839488326, 0.02339390967967631, 0.05848477419919077, 0.1069435871070917, 0.005012980645644923, 0.0321389536356781, 0.9669633006908367, 0.9800467765764144, 0.01568074842522263, 0.7366151747365098, 0.17389589005716014, 0.06740908097721376, 0.006838602417978208, 0.01465414803852473, 0.9782032145987566, 0.05248672415350713, 0.8649812140497976, 0.06928247588262941, 0.002099468966140285, 0.014696282762981997, 0.4872240727048425, 0.09801025833907857, 0.10931913430127996, 0.18188442172540545, 0.12345522925403167, 0.9945607304515613, 0.9870640295939268, 0.1335981996896047, 0.023034172360276675, 0.8430507083861263, 0.1780571720544711, 0.19279293801759975, 0.05832907360405088, 0.5366274771572681, 0.034383453913966834, 0.9977210561978885, 0.9800955745766236, 0.9634723078257864, 0.034845291422270754, 0.9926555924598074, 0.9992396530736297, 0.9918350173676218, 0.9976710667780383, 0.05557970126546864, 0.003969978661819189, 0.9369149641893285, 0.9790461275629594, 0.8194897289050701, 0.0017853806729957954, 0.06070294288185705, 0.10533745970675193, 0.012497664710970567, 0.002153609548800678, 0.001076804774400339, 0.05599384826881763, 0.9411273728258963, 0.1361627842316838, 0.001917785693403997, 0.001917785693403997, 0.7575253488945788, 0.10356042744381584, 0.9936325781034133, 0.987877315248515, 0.011998509901803825, 0.9853222737267918, 0.009707608608145733, 0.0048538043040728665, 0.5913353327874551, 0.022314540859903968, 0.028265085089211692, 0.35331356361514615, 0.004462908171980793, 0.08486623099509277, 0.10894175751852335, 0.07583790854880632, 0.21848540320013246, 0.5116049386228997, 0.0842713681200138, 0.010533921015001725, 0.9006502467826475, 1.0012081805615507, 0.9848419993873719, 0.030670376812869205, 0.8178767150098454, 0.036208083737415034, 0.05495109178972399, 0.06006282125853552, 0.9890815796324336, 0.9907780547264421, 0.004893556114459486, 0.9884983351208161, 0.004893556114459486, 0.9829410225747639, 0.01384423975457414, 0.44390761053904954, 0.1365503582258384, 0.16604904188438188, 0.2226674830999734, 0.030450254099141663, 0.02605354453571853, 0.022045306914838757, 0.1703500988873904, 0.06212768312363649, 0.7174745341374795, 0.9637176849608191, 0.02458463482042906, 0.0049169269640858115, 0.06983726226343273, 0.5444270053840647, 0.11568694314072989, 0.18947152892340013, 0.08076831200901351, 0.9906287238638019, 0.9950332261499428, 0.016224965045484926, 0.9832328817563865, 0.05994392695430851, 0.0743748723321976, 0.05106334518329984, 0.7115566144020695, 0.10212669036659967, 0.9974754153395147, 0.9967078872525929, 0.995963017479328, 0.9998903032019705, 0.9903981446402239, 0.9923945394398659, 0.9930382496241666, 0.7864345121871223, 0.02984571203746195, 0.02984571203746195, 0.14027484657607117, 0.013430570416857877, 0.010029094227508658, 0.9888686908323537, 1.0002678752799765, 0.9935491624457298, 1.0013675263409616, 0.9953133573250819, 0.9543526775507122, 0.042520663851269354, 0.993962536385988, 0.005862057353219017, 0.011724114706438034, 0.9789635779875758, 0.22149911634212943, 0.08661976616731319, 0.1385916258677011, 0.4460917957616629, 0.10703728247817987, 0.9889702423723414, 0.9518902525929211, 0.040220714898292445, 0.0031962856494297314, 0.0031962856494297314, 0.1214588546783298, 0.869389696644887, 0.9918207971900309, 0.9983033711335781, 0.940845826281044, 0.0568883522867608, 0.8276233475646668, 0.03177117373775422, 0.0767541226931884, 0.009751548374954264, 0.05473449733038845, 0.9872781266776274, 0.05782809206079314, 0.941020770807452, 0.9943783444993745], \"Term\": [\"\\uac00\\uad6c\", \"\\uac00\\uad6c\", \"\\uac00\\uad6c\", \"\\uac00\\uad6c\", \"\\uac00\\uad6c\", \"\\uac00\\ub2a5\", \"\\uac00\\ub2a5\", \"\\uac00\\ub2a5\", \"\\uac00\\ub2a5\", \"\\uac00\\ub2a5\", \"\\uac00\\ub3d9\", \"\\uac00\\ub3d9\", \"\\uac00\\ub3d9\", \"\\uac00\\ub3d9\", \"\\uac00\\ub3d9\", \"\\uac00\\uc2a4\", \"\\uac00\\uc2a4\", \"\\uac00\\uc2a4\", \"\\uac00\\uc2a4\", \"\\uac00\\uc2a4\", \"\\uac04\\ubd80\", \"\\uac04\\ubd80\", \"\\uac10\\uc0ac\", \"\\uac10\\uc0ac\", \"\\uac10\\uc0ac\", \"\\uac10\\uc0ac\", \"\\uac10\\uc0ac\", \"\\uac10\\uc18c\", \"\\uac10\\uc18c\", \"\\uac10\\uc18c\", \"\\uac10\\uc18c\", \"\\uac10\\uc18c\", \"\\uac10\\ucc30\", \"\\uac15\\uc6d0\\ub79c\\ub4dc\", \"\\uac1c\\ubc1c\", \"\\uac1c\\ubc1c\", \"\\uac1c\\ubc1c\", \"\\uac1c\\ubc1c\", \"\\uac1c\\ubc1c\", \"\\uac70\\ub798\", \"\\uac70\\ub798\", \"\\uac70\\ub798\", \"\\uac70\\ub798\", \"\\uac70\\ub798\", \"\\uac74\\uc124\", \"\\uac74\\uc124\", \"\\uac74\\uc124\", \"\\uac74\\uc124\", \"\\uac74\\uc124\", \"\\uac74\\uc124\\uc5c5\", \"\\uac74\\uc804\\ud654\", \"\\uaca9\\ub9ac\", \"\\uacb0\\uacfc\", \"\\uacb0\\uacfc\", \"\\uacb0\\uacfc\", \"\\uacb0\\uacfc\", \"\\uacb0\\uacfc\", \"\\uacb0\\uc815\", \"\\uacb0\\uc815\", \"\\uacb0\\uc815\", \"\\uacb0\\uc815\", \"\\uacb0\\uc815\", \"\\uacbd\\uc601\", \"\\uacbd\\uc601\", \"\\uacbd\\uc601\", \"\\uacbd\\uc601\", \"\\uacbd\\uc601\", \"\\uacbd\\uc601\\uc9c4\", \"\\uacbd\\uc601\\uc9c4\", \"\\uacbd\\uc601\\uc9c4\", \"\\uacbd\\uc720\", \"\\uacbd\\uc720\", \"\\uacbd\\uc81c\", \"\\uacbd\\uc81c\", \"\\uacbd\\uc81c\", \"\\uacbd\\uc81c\", \"\\uacbd\\uc81c\", \"\\uacbd\\ucc30\", \"\\uacbd\\ucc30\\uad6d\", \"\\uacc4\\uc591\", \"\\uacc4\\ud68d\", \"\\uacc4\\ud68d\", \"\\uacc4\\ud68d\", \"\\uacc4\\ud68d\", \"\\uacc4\\ud68d\", \"\\uace0\\uae09\", \"\\uace0\\uc6a9\", \"\\uace0\\uc6a9\", \"\\uace0\\uc815\\ube44\", \"\\uace0\\uc900\", \"\\uacf5\\uacf5\", \"\\uacf5\\uacf5\", \"\\uacf5\\uacf5\", \"\\uacf5\\uacf5\", \"\\uacf5\\uacf5\", \"\\uacf5\\uae09\", \"\\uacf5\\uae09\", \"\\uacf5\\uae09\", \"\\uacf5\\uae09\", \"\\uacf5\\uae09\", \"\\uacf5\\uae30\\uc5c5\", \"\\uacf5\\uae30\\uc5c5\", \"\\uacf5\\uae30\\uc5c5\", \"\\uacf5\\uae30\\uc5c5\", \"\\uacf5\\uae30\\uc5c5\", \"\\uacf5\\ub300\", \"\\uacf5\\ub300\", \"\\uacf5\\ub300\", \"\\uacf5\\uc0ac\", \"\\uacf5\\uc0ac\", \"\\uacf5\\uc0ac\", \"\\uacf5\\uc0ac\", \"\\uacf5\\uc0ac\", \"\\uacf5\\uc0ac\\ucc44\", \"\\uacf5\\uc0ac\\ucc44\", \"\\uacf5\\uc57d\", \"\\uacf5\\uc57d\", \"\\uacf5\\uc57d\", \"\\uacf5\\uc57d\", \"\\uacf5\\uc57d\", \"\\uacf5\\uc6b4\", \"\\uacf5\\uc81c\", \"\\uacf5\\uc81c\", \"\\uacf5\\ucc9c\", \"\\uacf5\\ud3ec\", \"\\uad00\\ub828\", \"\\uad00\\ub828\", \"\\uad00\\ub828\", \"\\uad00\\ub828\", \"\\uad00\\ub828\", \"\\uad00\\ub9ac\", \"\\uad00\\ub9ac\", \"\\uad00\\ub9ac\", \"\\uad00\\ub9ac\", \"\\uad00\\ub9ac\", \"\\uad50\\ud1b5\\uc548\\uc804\\uacf5\\ub2e8\", \"\\uad6c\\ub9e4\", \"\\uad6c\\ub9e4\", \"\\uad6c\\ub9e4\", \"\\uad6c\\ub9e4\", \"\\uad6c\\ub9e4\", \"\\uad6c\\uc870\", \"\\uad6c\\uc870\", \"\\uad6c\\uc870\", \"\\uad6c\\uc870\", \"\\uad6c\\uc870\", \"\\uad6d\\ubbfc\", \"\\uad6d\\ubbfc\", \"\\uad6d\\ubbfc\", \"\\uad6d\\ubbfc\", \"\\uad6d\\ubbfc\", \"\\uad6d\\uc81c\", \"\\uad6d\\uc81c\", \"\\uad6d\\uc81c\", \"\\uad6d\\uc81c\", \"\\uad6d\\uc81c\", \"\\uad8c\\uace0\", \"\\uad8c\\uace0\", \"\\uad8c\\ud55c\", \"\\uad8c\\ud55c\", \"\\uad8c\\ud55c\", \"\\uad8c\\ud55c\", \"\\uae08\\ub9ac\", \"\\uae08\\ub9ac\", \"\\uae08\\ub9ac\", \"\\uae08\\ub9ac\", \"\\uae08\\uc735\", \"\\uae08\\uc735\", \"\\uae08\\uc735\", \"\\uae08\\uc735\", \"\\uae08\\uc735\", \"\\uae09\\ub4f1\", \"\\uae09\\ub4f1\", \"\\uae09\\ub4f1\", \"\\uae09\\ub4f1\", \"\\uae09\\ub4f1\", \"\\uae30\\uad00\", \"\\uae30\\uad00\", \"\\uae30\\uad00\", \"\\uae30\\uad00\", \"\\uae30\\uad00\", \"\\uae30\\uad00\\uc7a5\", \"\\uae30\\ub85d\", \"\\uae30\\ub85d\", \"\\uae30\\ub85d\", \"\\uae30\\ub85d\", \"\\uae30\\ub85d\", \"\\uae30\\ub984\", \"\\uae30\\ub984\", \"\\uae30\\ubcf8\\uc694\\uae08\", \"\\uae30\\ubcf8\\uc694\\uae08\", \"\\uae30\\uc0c1\\ub3c4\", \"\\uae30\\uc5c5\", \"\\uae30\\uc5c5\", \"\\uae30\\uc5c5\", \"\\uae30\\uc5c5\", \"\\uae30\\uc5c5\", \"\\uae30\\uc790\", \"\\uae30\\uc790\", \"\\uae30\\uc790\", \"\\uae30\\uc790\", \"\\uae30\\uc790\", \"\\uae30\\ud68d\", \"\\uae30\\ud68d\", \"\\uae30\\ud68d\", \"\\uae30\\ud68d\", \"\\uae30\\ud68d\", \"\\uae30\\ud6c4\", \"\\uae30\\ud6c4\", \"\\uae30\\ud6c4\", \"\\uae30\\ud6c4\", \"\\uae30\\ud6c4\", \"\\uae40\\uc218\\ud604\", \"\\uae40\\ud615\\uc8fc\", \"\\ub098\\ub77c\", \"\\ub098\\ub77c\", \"\\ub098\\ub77c\", \"\\ub098\\ub77c\", \"\\ub098\\ub77c\", \"\\ub098\\ud1a0\", \"\\ub0b4\\ub2ec\", \"\\ub0b4\\ub2ec\", \"\\ub0b4\\ub2ec\", \"\\ub0b4\\ub2ec\", \"\\ub0b4\\uc815\\uc790\", \"\\ub0b4\\uc815\\uc790\", \"\\ub178\\ub3d9\", \"\\ub178\\ub3d9\\ubd80\", \"\\ub179\\uc0c9\", \"\\ub179\\uc0c9\", \"\\ub2e4\\uc717\", \"\\ub2e4\\ucd94\", \"\\ub2e4\\ucd94\", \"\\ub2e8\\uac00\", \"\\ub2e8\\uac00\", \"\\ub2e8\\uac00\", \"\\ub2e8\\uac00\", \"\\ub2e8\\uac00\", \"\\ub2f9\\uc0ac\", \"\\ub2f9\\uc0ac\", \"\\ub2f9\\uc120\\uc778\", \"\\ub2f9\\uc120\\uc778\", \"\\ub2f9\\uc120\\uc778\", \"\\ub2f9\\uc120\\uc778\", \"\\ub2f9\\uc120\\uc778\", \"\\ub300\\ube44\", \"\\ub300\\ube44\", \"\\ub300\\ube44\", \"\\ub300\\ube44\", \"\\ub300\\ube44\", \"\\ub300\\uc0c1\", \"\\ub300\\uc0c1\", \"\\ub300\\uc0c1\", \"\\ub300\\uc0c1\", \"\\ub300\\uc0c1\", \"\\ub300\\uc120\", \"\\ub300\\uc120\", \"\\ub300\\uc120\", \"\\ub300\\uc120\", \"\\ub300\\uc120\", \"\\ub300\\uc911\\uad50\\ud1b5\", \"\\ub300\\ucc45\", \"\\ub300\\ucc45\", \"\\ub300\\ucc45\", \"\\ub300\\ucc45\", \"\\ub300\\ucc45\", \"\\ub300\\ucd9c\", \"\\ub300\\ucd9c\", \"\\ub300\\ucd9c\", \"\\ub300\\ud1b5\\ub839\", \"\\ub300\\ud1b5\\ub839\", \"\\ub300\\ud1b5\\ub839\", \"\\ub300\\ud1b5\\ub839\", \"\\ub300\\ud1b5\\ub839\", \"\\ub300\\ud559\", \"\\ub300\\ud559\", \"\\ub300\\ud559\", \"\\ub300\\ud559\", \"\\ub300\\ud559\", \"\\ub300\\ud559\\uc6d0\\uc0dd\", \"\\ub3c4\\ub8cc\", \"\\ub3c4\\ub9e4\\uac00\\uaca9\", \"\\ub3c4\\ub9e4\\uac00\\uaca9\", \"\\ub3c4\\ub9e4\\uac00\\uaca9\", \"\\ub3c4\\ub9e4\\uac00\\uaca9\", \"\\ub3c4\\ub9e4\\uac00\\uaca9\", \"\\ub3c4\\ubaa8\", \"\\ub3c4\\ubaa8\", \"\\ub3d9\\uacb0\", \"\\ub3d9\\uacb0\", \"\\ub3d9\\uacb0\", \"\\ub3d9\\uacb0\", \"\\ub3d9\\uacb0\", \"\\ub3d9\\uae30\", \"\\ub3d9\\uae30\", \"\\ub3d9\\uae30\", \"\\ub3d9\\uae30\", \"\\ub3d9\\uae30\", \"\\ub3d9\\ub355\", \"\\ub3d9\\uc11c\", \"\\ub3d9\\uc11c\", \"\\ub450\\uc0b0\", \"\\ub4f1\\uae09\", \"\\ub4f1\\uae09\", \"\\ub808\\ub4dc\", \"\\ub85c\\ub4dc\\ub9f5\", \"\\ub9ac\\uc11c\\uce58\", \"\\ub9c8\\uc0ac\\ud68c\", \"\\ub9c8\\uc0ac\\ud68c\", \"\\ub9e4\\uac01\", \"\\ub9e4\\uac01\", \"\\ub9e4\\uac01\", \"\\ub9e4\\uac01\", \"\\ub9e4\\uac01\", \"\\ub9e4\\ub3c4\", \"\\ub9e4\\uc218\", \"\\ub9e4\\ucd9c\", \"\\ub9e4\\ucd9c\", \"\\ub9e4\\ucd9c\", \"\\ub9e4\\ucd9c\", \"\\ub9e4\\ucd9c\", \"\\ub9e4\\ucd9c\\uc561\", \"\\ub9e4\\ucd9c\\uc561\", \"\\ub9e4\\ucd9c\\uc561\", \"\\uba74\\uc81c\", \"\\uba85\\uc9c0\", \"\\ubaa9\\uc695\\ud0d5\", \"\\ubb34\\ub354\\uc704\", \"\\ubb34\\uc0c9\", \"\\ubb38\\uc81c\", \"\\ubb38\\uc81c\", \"\\ubb38\\uc81c\", \"\\ubb38\\uc81c\", \"\\ubb38\\uc81c\", \"\\ubb3c\\uac00\", \"\\ubb3c\\uac00\", \"\\ubb3c\\uac00\", \"\\ubb3c\\uac00\", \"\\ubb3c\\uac00\", \"\\ubbf8\\uad6d\", \"\\ubbf8\\uad6d\", \"\\ubbf8\\uad6d\", \"\\ubbf8\\uad6d\", \"\\ubbf8\\uad6d\", \"\\ubbf8\\uc218\\uae08\", \"\\ubbf8\\uc218\\uae08\", \"\\ubbfc\\uac04\", \"\\ubbfc\\uac04\", \"\\ubbfc\\uac04\", \"\\ubbfc\\uac04\", \"\\ubbfc\\uac04\", \"\\ubbfc\\uc218\", \"\\ubbfc\\uc601\\ud654\", \"\\ubbfc\\uc601\\ud654\", \"\\ubbfc\\uc601\\ud654\", \"\\ubbfc\\uc601\\ud654\", \"\\ubbfc\\uc601\\ud654\", \"\\ubc15\\uc77c\\uc900\", \"\\ubc15\\uc77c\\uc900\", \"\\ubc15\\uc8fc\\ud5cc\", \"\\ubc15\\uc9c0\\ud604\", \"\\ubc15\\uc9c0\\ud604\", \"\\ubc15\\uc9c4\", \"\\ubc18\\ub0a9\", \"\\ubc18\\ub0a9\", \"\\ubc18\\ub0a9\", \"\\ubc18\\ub0a9\", \"\\ubc18\\uc601\", \"\\ubc18\\uc601\", \"\\ubc18\\uc601\", \"\\ubc18\\uc601\", \"\\ubc18\\uc601\", \"\\ubc1c\\uc0ac\", \"\\ubc1c\\uc804\", \"\\ubc1c\\uc804\", \"\\ubc1c\\uc804\", \"\\ubc1c\\uc804\", \"\\ubc1c\\uc804\", \"\\ubc1c\\uc804\\uae30\", \"\\ubc1c\\uc804\\ub7c9\", \"\\ubc1c\\uc804\\ub7c9\", \"\\ubc1c\\uc804\\ub7c9\", \"\\ubc1c\\uc804\\uc0ac\", \"\\ubc1c\\uc804\\uc0ac\", \"\\ubc1c\\uc804\\uc0ac\", \"\\ubc1c\\uc804\\uc0ac\", \"\\ubc1c\\uc804\\uc0ac\", \"\\ubc1c\\uc804\\uc18c\", \"\\ubc1c\\uc804\\uc18c\", \"\\ubc1c\\uc804\\uc18c\", \"\\ubc1c\\uc804\\uc18c\", \"\\ubc1c\\uc804\\uc18c\", \"\\ubc1c\\ud45c\", \"\\ubc1c\\ud45c\", \"\\ubc1c\\ud45c\", \"\\ubc1c\\ud45c\", \"\\ubc1c\\ud45c\", \"\\ubc1c\\ud589\", \"\\ubc1c\\ud589\", \"\\ubc1c\\ud589\", \"\\ubc1c\\ud589\", \"\\ubc29\\ud3d0\", \"\\ubc30\\uc810\", \"\\ubc30\\ucd9c\", \"\\ubc31\\uc2e0\", \"\\ubc31\\uc9c0\", \"\\ubc31\\uc9c0\", \"\\ubc31\\uc9c0\\ud654\", \"\\ubc31\\uc9c0\\ud654\", \"\\ubc95\\ubb34\\ubd80\", \"\\ubcc0\\uc804\\uc18c\", \"\\ubcf4\\ud589\\uc790\", \"\\ubcf5\\ub9ac\", \"\\ubd09\\uc0ac\", \"\\ubd80\\ubd84\", \"\\ubd80\\ubd84\", \"\\ubd80\\ubd84\", \"\\ubd80\\ubd84\", \"\\ubd80\\ubd84\", \"\\ubd80\\uc801\\ud569\", \"\\ubd80\\ucc44\", \"\\ubd80\\ucc44\", \"\\ubd80\\ucc44\", \"\\ubd80\\ucc44\", \"\\ubd80\\ucc44\", \"\\ubd80\\ucc98\", \"\\ubd80\\ucc98\", \"\\ubd80\\ucc98\", \"\\ubd80\\ucc98\", \"\\ubd80\\ucc98\", \"\\ubd80\\ucd1d\\ub9ac\", \"\\ubd80\\ucd1d\\ub9ac\", \"\\ubd80\\ucd1d\\ub9ac\", \"\\ubd80\\ucd1d\\ub9ac\", \"\\ubd80\\ucd1d\\ub9ac\", \"\\ubd81\\ud55c\", \"\\ubd84\\uad8c\", \"\\ubd84\\uad8c\", \"\\ubd84\\ub2f4\\uae08\", \"\\ubd84\\ub9bd\", \"\\ubd84\\ub9bd\", \"\\ubd84\\uc11d\", \"\\ubd84\\uc11d\", \"\\ubd84\\uc11d\", \"\\ubd84\\uc11d\", \"\\ubd84\\uc11d\", \"\\ubd88\\uac00\\ud53c\", \"\\ubd88\\uac00\\ud53c\", \"\\ubd88\\uac00\\ud53c\", \"\\ubd88\\uac00\\ud53c\", \"\\ubd88\\uac00\\ud53c\", \"\\ube14\\ub799\", \"\\ube14\\ub85d\", \"\\ube44\\uc11c\", \"\\ube44\\uc6a9\", \"\\ube44\\uc6a9\", \"\\ube44\\uc6a9\", \"\\ube44\\uc6a9\", \"\\ube44\\uc6a9\", \"\\ube44\\uc911\", \"\\ube44\\uc911\", \"\\ube44\\uc911\", \"\\ube44\\uc911\", \"\\ube44\\uc911\", \"\\ube4c\\ub9ac\", \"\\uc0ac\\uc5c5\", \"\\uc0ac\\uc5c5\", \"\\uc0ac\\uc5c5\", \"\\uc0ac\\uc5c5\", \"\\uc0ac\\uc5c5\", \"\\uc0ac\\uc5c5\\uc790\", \"\\uc0ac\\uc5c5\\uc790\", \"\\uc0ac\\uc5c5\\uc790\", \"\\uc0ac\\uc774\\ud074\", \"\\uc0b0\\ubd88\", \"\\uc0b0\\uc5c5\", \"\\uc0b0\\uc5c5\", \"\\uc0b0\\uc5c5\", \"\\uc0b0\\uc5c5\", \"\\uc0b0\\uc5c5\", \"\\uc0b0\\uc815\", \"\\uc0b0\\uc815\", \"\\uc0b0\\uc815\", \"\\uc0b0\\uc815\", \"\\uc0bc\\uc131\\uc804\\uc790\", \"\\uc0bc\\uc131\\uc804\\uc790\", \"\\uc0bc\\uc131\\uc804\\uc790\", \"\\uc0bc\\uc131\\uc99d\\uad8c\", \"\\uc0c1\\uc218\", \"\\uc0c1\\uc2dd\", \"\\uc0c1\\uc2dd\", \"\\uc0c1\\uc2dd\", \"\\uc0c1\\uc784\", \"\\uc0c1\\uc784\", \"\\uc0c1\\uc7a5\", \"\\uc0c1\\uc7a5\", \"\\uc0c1\\uc7a5\", \"\\uc0c1\\uc7a5\", \"\\uc0c1\\uc7a5\", \"\\uc0c1\\ud55c\", \"\\uc0c1\\ud55c\", \"\\uc0c1\\ud55c\", \"\\uc0c1\\ud55c\", \"\\uc0c1\\ud55c\", \"\\uc0c1\\ud55c\\uc81c\", \"\\uc0dd\\uac01\", \"\\uc0dd\\uac01\", \"\\uc0dd\\uac01\", \"\\uc0dd\\uac01\", \"\\uc0dd\\uac01\", \"\\uc11c\\uc6b8\", \"\\uc11c\\uc6b8\", \"\\uc11c\\uc6b8\", \"\\uc11c\\uc6b8\", \"\\uc11c\\uc6b8\", \"\\uc11d\\ud0c4\", \"\\uc11d\\ud0c4\", \"\\uc11d\\ud0c4\", \"\\uc11d\\ud0c4\", \"\\uc11d\\ud0c4\", \"\\uc120\\uac70\", \"\\uc120\\uac70\", \"\\uc120\\uac70\", \"\\uc120\\uac70\", \"\\uc120\\uac70\", \"\\uc120\\ub300\\uc704\", \"\\uc12c\\uc720\", \"\\uc131\\uacfc\\uae09\", \"\\uc131\\uacfc\\uae09\", \"\\uc131\\uc7a5\", \"\\uc131\\uc7a5\", \"\\uc131\\uc7a5\", \"\\uc131\\uc7a5\", \"\\uc131\\uc7a5\", \"\\uc138\\uacc4\", \"\\uc138\\uacc4\", \"\\uc138\\uacc4\", \"\\uc138\\uacc4\", \"\\uc138\\uacc4\", \"\\uc138\\uc728\", \"\\uc138\\uc728\", \"\\uc138\\uc728\", \"\\uc138\\uc81c\", \"\\uc138\\uc81c\", \"\\uc138\\uc81c\", \"\\uc139\\ud130\", \"\\uc18c\\uac01\\uc7a5\", \"\\uc18c\\ub178\", \"\\uc18c\\ub4dd\", \"\\uc18c\\ub4dd\", \"\\uc18c\\ube44\\uc790\", \"\\uc18c\\ube44\\uc790\", \"\\uc18c\\ube44\\uc790\", \"\\uc18c\\ube44\\uc790\", \"\\uc18c\\ube44\\uc790\", \"\\uc190\\ub2d8\", \"\\uc190\\uc2e4\", \"\\uc190\\uc2e4\", \"\\uc190\\uc2e4\", \"\\uc190\\uc2e4\", \"\\uc190\\uc2e4\", \"\\uc218\\uc18c\", \"\\uc218\\uc18c\", \"\\uc218\\ud61c\", \"\\uc218\\ud61c\", \"\\uc21c\\uc774\\uc775\", \"\\uc21c\\uc774\\uc775\", \"\\uc21c\\uc775\", \"\\uc21c\\uc775\", \"\\uc2a4\\uc644\", \"\\uc2a4\\ud504\", \"\\uc2ac\\ub9bc\", \"\\uc2b9\\uc7a5\", \"\\uc2dc\\uc18d\", \"\\uc2dc\\uc7a5\", \"\\uc2dc\\uc7a5\", \"\\uc2dc\\uc7a5\", \"\\uc2dc\\uc7a5\", \"\\uc2dc\\uc7a5\", \"\\uc2e0\\uc7ac\", \"\\uc2e0\\uc7ac\", \"\\uc2e0\\uc7ac\", \"\\uc2e0\\uc7ac\", \"\\uc2e0\\uc7ac\", \"\\uc2e0\\ud55c\", \"\\uc2e4\\uc801\", \"\\uc2e4\\uc801\", \"\\uc2e4\\uc801\", \"\\uc2e4\\uc801\", \"\\uc2e4\\uc801\", \"\\uc2ec\\ud604\\uc218\", \"\\uc30d\\uc6a9\", \"\\uc4f0\\ub808\\uae30\", \"\\uc544\\ubd80\", \"\\uc545\\ud654\", \"\\uc545\\ud654\", \"\\uc545\\ud654\", \"\\uc545\\ud654\", \"\\uc545\\ud654\", \"\\uc548\\uc815\", \"\\uc548\\uc815\", \"\\uc548\\uc815\", \"\\uc548\\uc815\", \"\\uc548\\uc815\", \"\\uc57d\\uc138\", \"\\uc57d\\uc138\", \"\\uc591\\ub3c4\\uc138\", \"\\uc5c5\\uacc4\", \"\\uc5c5\\uacc4\", \"\\uc5c5\\uacc4\", \"\\uc5c5\\uacc4\", \"\\uc5c5\\uacc4\", \"\\uc5c5\\uc885\", \"\\uc5c5\\uc885\", \"\\uc5d0\\ub108\\uc9c0\\uc6d0\", \"\\uc5d0\\ub108\\uc9c0\\uc6d0\", \"\\uc5d0\\ub514\\uc2a8\", \"\\uc5ec\\uc758\\ub3c4\", \"\\uc5ec\\uc758\\ub3c4\", \"\\uc5ec\\uc758\\ub3c4\", \"\\uc5ec\\uc758\\ub3c4\", \"\\uc5ec\\uc758\\ub3c4\", \"\\uc5f0\\uac04\", \"\\uc5f0\\uac04\", \"\\uc5f0\\uac04\", \"\\uc5f0\\uac04\", \"\\uc5f0\\uac04\", \"\\uc5f0\\uad6c\\uc6d0\", \"\\uc5f0\\uad6c\\uc6d0\", \"\\uc5f0\\uad6c\\uc6d0\", \"\\uc5f0\\uad6c\\uc6d0\", \"\\uc5f0\\uad6c\\uc6d0\", \"\\uc5f0\\ub3d9\", \"\\uc5f0\\ub3d9\", \"\\uc5f0\\ub3d9\", \"\\uc5f0\\ub3d9\", \"\\uc5f0\\ub3d9\", \"\\uc5f0\\ub8cc\", \"\\uc5f0\\ub8cc\", \"\\uc5f0\\ub8cc\", \"\\uc5f0\\ub8cc\", \"\\uc5f0\\ub8cc\", \"\\uc5f4\\ub7c9\", \"\\uc601\\uc5c5\", \"\\uc601\\uc5c5\", \"\\uc601\\uc5c5\", \"\\uc601\\uc5c5\", \"\\uc601\\uc5c5\", \"\\uc601\\uc5c5\\uc6a9\", \"\\uc601\\ud5a5\", \"\\uc601\\ud5a5\", \"\\uc601\\ud5a5\", \"\\uc601\\ud5a5\", \"\\uc601\\ud5a5\", \"\\uc608\\uc0c1\", \"\\uc608\\uc0c1\", \"\\uc608\\uc0c1\", \"\\uc608\\uc0c1\", \"\\uc608\\uc0c1\", \"\\uc608\\uc815\", \"\\uc608\\uc815\", \"\\uc608\\uc815\", \"\\uc608\\uc815\", \"\\uc608\\uc815\", \"\\uc628\\ub2f9\", \"\\uc628\\uc2e4\\uac00\\uc2a4\", \"\\uc628\\uc2e4\\uac00\\uc2a4\", \"\\uc678\\uad6d\\uc778\", \"\\uc678\\ud654\\ucc44\", \"\\uc6a9\\uc8fc\", \"\\uc6a9\\ud1f4\", \"\\uc6a9\\ud1f4\", \"\\uc6b0\\ub77c\\ub284\", \"\\uc6b0\\uccb4\\uad6d\", \"\\uc6b4\\uc601\", \"\\uc6b4\\uc601\", \"\\uc6b4\\uc601\", \"\\uc6b4\\uc601\", \"\\uc6b4\\uc601\", \"\\uc6b4\\uc6a9\", \"\\uc6b4\\uc6a9\", \"\\uc6b4\\uc6a9\", \"\\uc6b4\\uc6a9\", \"\\uc6b4\\uc6a9\", \"\\uc6b4\\uc804\", \"\\uc6b4\\uc804\", \"\\uc6b4\\uc804\", \"\\uc6d0\\uac00\", \"\\uc6d0\\uac00\", \"\\uc6d0\\uac00\", \"\\uc6d0\\uac00\", \"\\uc6d0\\uac00\", \"\\uc6d0\\ub8cc\\ube44\", \"\\uc6d0\\uc548\", \"\\uc6d0\\uc790\\ub825\", \"\\uc6d0\\uc790\\ub825\", \"\\uc6d0\\uc790\\ub825\", \"\\uc6d0\\uc790\\ub825\", \"\\uc6d0\\uc790\\ub825\", \"\\uc6d0\\uc790\\ub85c\", \"\\uc6d0\\uc804\", \"\\uc6d0\\uc804\", \"\\uc6d0\\uc804\", \"\\uc6d0\\uc804\", \"\\uc6d0\\uc804\", \"\\uc6d4\\ubcc4\", \"\\uc6d4\\ubd81\", \"\\uc6d4\\uc138\", \"\\uc704\\uae30\", \"\\uc704\\uae30\", \"\\uc704\\uae30\", \"\\uc704\\uae30\", \"\\uc704\\uae30\", \"\\uc704\\uc6d0\\ud68c\", \"\\uc704\\uc6d0\\ud68c\", \"\\uc704\\uc6d0\\ud68c\", \"\\uc704\\uc6d0\\ud68c\", \"\\uc704\\uc6d0\\ud68c\", \"\\uc704\\ud5d8\", \"\\uc704\\ud5d8\", \"\\uc704\\ud5d8\", \"\\uc704\\ud5d8\", \"\\uc704\\ud5d8\", \"\\uc720\\uac00\", \"\\uc720\\uac00\", \"\\uc720\\uac00\", \"\\uc720\\uac00\", \"\\uc720\\uac00\", \"\\uc720\\uac00\\uc99d\\uad8c\", \"\\uc720\\ub958\", \"\\uc720\\ub958\", \"\\uc720\\ub958\", \"\\uc720\\uc5f0\\ud0c4\", \"\\uc720\\uc5f0\\ud0c4\", \"\\uc720\\uc5f0\\ud0c4\", \"\\uc720\\uc5f0\\ud0c4\", \"\\uc720\\uc5f0\\ud0c4\", \"\\uc724\\uae30\\ucc2c\", \"\\uc724\\ub9ac\", \"\\uc724\\ub9ac\", \"\\uc724\\uc11d\\uc5f4\", \"\\uc724\\uc11d\\uc5f4\", \"\\uc724\\uc11d\\uc5f4\", \"\\uc724\\uc11d\\uc5f4\", \"\\uc724\\uc11d\\uc5f4\", \"\\uc724\\ud615\", \"\\uc728\\ucd0c\", \"\\uc758\\uc6d0\", \"\\uc758\\uc6d0\", \"\\uc758\\uc6d0\", \"\\uc758\\uc6d0\", \"\\uc758\\uc6d0\", \"\\uc758\\uc815\\ubd80\", \"\\uc758\\ucd1d\", \"\\uc774\\uc0c1\", \"\\uc774\\uc0c1\", \"\\uc774\\uc0c1\", \"\\uc774\\uc0c1\", \"\\uc774\\uc0c1\", \"\\uc774\\uc724\\uc138\", \"\\uc774\\uc775\", \"\\uc774\\uc775\", \"\\uc774\\uc775\", \"\\uc774\\uc775\", \"\\uc774\\uc775\", \"\\uc778\\ucc9c\\uacf5\\ud56d\\uacf5\\uc0ac\", \"\\uc778\\ucc9c\\uad6d\\uc81c\\uacf5\\ud56d\\uacf5\\uc0ac\", \"\\uc778\\ud558\", \"\\uc778\\ud558\", \"\\uc778\\ud558\", \"\\uc778\\ud558\", \"\\uc778\\ud558\", \"\\uc784\\uae08\", \"\\uc784\\uae08\", \"\\uc784\\uc6d0\\uc9c4\", \"\\uc785\\uac01\", \"\\uc790\\uc0b0\", \"\\uc790\\uc0b0\", \"\\uc790\\uc0b0\", \"\\uc790\\uc0b0\", \"\\uc790\\uc0b0\", \"\\uc790\\uc6d0\", \"\\uc790\\uc6d0\", \"\\uc790\\uc6d0\", \"\\uc790\\uc6d0\", \"\\uc790\\uc6d0\", \"\\uc790\\uc728\", \"\\uc790\\uc728\", \"\\uc790\\uc728\", \"\\uc790\\uc728\", \"\\uc790\\uc728\", \"\\uc790\\ud68c\\uc0ac\", \"\\uc790\\ud68c\\uc0ac\", \"\\uc790\\ud68c\\uc0ac\", \"\\uc790\\ud68c\\uc0ac\", \"\\uc790\\ud68c\\uc0ac\", \"\\uc794\\uc561\", \"\\uc7a5\\uad00\", \"\\uc7a5\\uad00\", \"\\uc7a5\\uad00\", \"\\uc7a5\\uad00\", \"\\uc7a5\\uad00\", \"\\uc7ac\\uac1c\", \"\\uc7ac\\uac1c\", \"\\uc7ac\\uac1c\", \"\\uc7ac\\uac1c\", \"\\uc7ac\\ubb34\", \"\\uc7ac\\ubb34\", \"\\uc7ac\\ubb34\", \"\\uc7ac\\ubb34\", \"\\uc7ac\\ubb34\", \"\\uc7ac\\uc0dd\", \"\\uc7ac\\uc0dd\", \"\\uc7ac\\uc815\", \"\\uc7ac\\uc815\", \"\\uc7ac\\uc815\", \"\\uc7ac\\uc815\", \"\\uc7ac\\uc815\", \"\\uc7ac\\uc815\\ubd80\", \"\\uc7ac\\uc815\\ubd80\", \"\\uc7ac\\uc815\\ubd80\", \"\\uc7ac\\uc815\\ubd80\", \"\\uc7ac\\uc815\\ubd80\", \"\\uc801\\ub9bd\\uae08\", \"\\uc804\\uad8c\", \"\\uc804\\uae30\\ub8cc\", \"\\uc804\\uae30\\ub8cc\", \"\\uc804\\uae30\\ub8cc\", \"\\uc804\\uae30\\ub8cc\", \"\\uc804\\uae30\\ub8cc\", \"\\uc804\\uae30\\ucc28\", \"\\uc804\\uae30\\ucc28\", \"\\uc804\\uae30\\ucc28\", \"\\uc804\\uae30\\ucc28\", \"\\uc804\\uae30\\ucc28\", \"\\uc804\\ub144\", \"\\uc804\\ub144\", \"\\uc804\\ub144\", \"\\uc804\\ub144\", \"\\uc804\\ub144\", \"\\uc804\\ub825\\ub7c9\", \"\\uc804\\ub825\\ub7c9\", \"\\uc804\\ub9dd\", \"\\uc804\\ub9dd\", \"\\uc804\\ub9dd\", \"\\uc804\\ub9dd\", \"\\uc804\\ub9dd\", \"\\uc804\\uc6d0\", \"\\uc804\\uc6d0\", \"\\uc804\\uc6d0\", \"\\uc804\\ucc44\", \"\\uc815\\uaddc\\uc9c1\", \"\\uc815\\ucc45\", \"\\uc815\\ucc45\", \"\\uc815\\ucc45\", \"\\uc815\\ucc45\", \"\\uc815\\ucc45\", \"\\uc815\\ucca0\\uc9c4\", \"\\uc815\\uce58\", \"\\uc815\\uce58\", \"\\uc815\\uce58\", \"\\uc815\\uce58\", \"\\uc815\\uce58\", \"\\uc81c\\ucd9c\", \"\\uc81c\\ucd9c\", \"\\uc81c\\ucd9c\", \"\\uc81c\\ucd9c\", \"\\uc81c\\ucd9c\", \"\\uc870\\ub2ec\", \"\\uc870\\ub2ec\", \"\\uc870\\ub2ec\", \"\\uc870\\ub2ec\", \"\\uc870\\ub2ec\", \"\\uc878\\uc18d\", \"\\uc878\\uc18d\", \"\\uc8fc\\uac00\", \"\\uc8fc\\uac00\", \"\\uc8fc\\uac00\", \"\\uc8fc\\ub3c4\", \"\\uc8fc\\ub3c4\", \"\\uc8fc\\ub3c4\", \"\\uc8fc\\ub3c4\", \"\\uc8fc\\ub3c4\", \"\\uc8fc\\uc2dd\", \"\\uc8fc\\uc2dd\", \"\\uc8fc\\uc2dd\", \"\\uc8fc\\uc2dd\", \"\\uc8fc\\uc2dd\", \"\\uc8fc\\uc720\\uc18c\", \"\\uc8fc\\uc720\\uc18c\", \"\\uc900\\uc704\", \"\\uc900\\uce59\", \"\\uc911\\ub9bd\", \"\\uc911\\ub9bd\", \"\\uc911\\ub9bd\", \"\\uc911\\ub9bd\", \"\\uc911\\ub9bd\", \"\\uc99d\\uac00\", \"\\uc99d\\uac00\", \"\\uc99d\\uac00\", \"\\uc99d\\uac00\", \"\\uc99d\\uac00\", \"\\uc99d\\uad8c\", \"\\uc99d\\uad8c\", \"\\uc99d\\uad8c\", \"\\uc99d\\uad8c\", \"\\uc99d\\uad8c\", \"\\uc99d\\uc2dc\", \"\\uc99d\\uc2dc\", \"\\uc9c0\\ubd84\", \"\\uc9c0\\ubd84\", \"\\uc9c0\\ubd84\", \"\\uc9c0\\ubd84\", \"\\uc9c0\\ubd84\", \"\\uc9c0\\uc8fc\", \"\\uc9c0\\ud45c\", \"\\uc9c0\\ud45c\", \"\\uc9c0\\ud45c\", \"\\uc9c0\\ud45c\", \"\\uc9c0\\ud45c\", \"\\uc9c1\\uae09\", \"\\uc9c4\\ud589\\uc790\", \"\\uc9d1\\uac12\", \"\\ucc28\\ub840\", \"\\ucc28\\ub840\", \"\\ucc28\\ub840\", \"\\ucc28\\ub840\", \"\\ucc28\\ub840\", \"\\ucc44\\uad8c\", \"\\ucc44\\uad8c\", \"\\ucc44\\uc6a9\", \"\\ucc44\\uc6a9\", \"\\ucc45\\uc784\", \"\\ucc45\\uc784\", \"\\ucc45\\uc784\", \"\\ucc45\\uc784\", \"\\ucc45\\uc784\", \"\\ucca0\\uac15\\uc5c5\", \"\\ucca0\\ub3c4\", \"\\ucca0\\ub3c4\", \"\\ucca0\\ub3c4\", \"\\ucca0\\ub3c4\", \"\\ucca0\\ub3c4\", \"\\ucd5c\\ub300\", \"\\ucd5c\\ub300\", \"\\ucd5c\\ub300\", \"\\ucd5c\\ub300\", \"\\ucd5c\\ub300\", \"\\ucd5c\\uc0c1\\ub300\", \"\\ucd5c\\uc800\\uc784\\uae08\", \"\\ucd94\\uacbd\", \"\\ucd94\\uacbd\", \"\\ucd94\\uacbd\", \"\\ucd94\\uc9c4\", \"\\ucd94\\uc9c4\", \"\\ucd94\\uc9c4\", \"\\ucd94\\uc9c4\", \"\\ucd94\\uc9c4\", \"\\ucd95\\uc0b0\", \"\\ucd9c\\uc138\", \"\\ucda9\\uc804\", \"\\ucda9\\uc804\", \"\\ucf54\\ub09c\", \"\\ucf54\\ub808\", \"\\ucf54\\ubfd4\\uc18c\", \"\\ucf54\\uc2a4\\ub2e5\", \"\\ucf54\\uc2a4\\ud53c\", \"\\ucf54\\uc2a4\\ud53c\", \"\\ucf54\\uc2a4\\ud53c\", \"\\ucfe0\\ud321\", \"\\ud0ac\\ub85c\\uc640\\ud2b8\", \"\\ud0ac\\ub85c\\uc640\\ud2b8\", \"\\ud0ac\\ub85c\\uc640\\ud2b8\", \"\\ud0ac\\ub85c\\uc640\\ud2b8\", \"\\ud0ac\\ub85c\\uc640\\ud2b8\", \"\\ud0c4\\uc18c\", \"\\ud0c4\\uc18c\", \"\\ud0c4\\uc18c\", \"\\ud0c4\\uc18c\", \"\\ud0dc\\uc591\\uad11\", \"\\ud0dc\\uc591\\uad11\", \"\\ud0dc\\uc591\\uad11\", \"\\ud0dc\\uc591\\uad11\", \"\\ud0dc\\uc591\\uad11\", \"\\ud0dd\\uc6a9\", \"\\ud1a0\\uc9c0\", \"\\ud1a0\\uc9c0\", \"\\ud1b5\\ubcf4\", \"\\ud1b5\\ubcf4\", \"\\ud1b5\\ubcf4\", \"\\ud1b5\\uc0c1\", \"\\ud1b5\\uc0c1\", \"\\ud1b5\\uc0c1\", \"\\ud1b5\\uc0c1\", \"\\ud1b5\\uc0c1\", \"\\ud22c\\uc790\", \"\\ud22c\\uc790\", \"\\ud22c\\uc790\", \"\\ud22c\\uc790\", \"\\ud22c\\uc790\", \"\\ud22c\\uc790\\uc790\", \"\\ud22c\\uc790\\uc790\", \"\\ud22c\\uc790\\uc790\", \"\\ud30c\\ub9ac\", \"\\ud3b8\\ub78c\", \"\\ud3c9\\uac00\", \"\\ud3c9\\uac00\", \"\\ud3c9\\uac00\", \"\\ud3c9\\uac00\", \"\\ud3c9\\uac00\", \"\\ud3c9\\uade0\\uac12\", \"\\ud3c9\\uc2dc\", \"\\ud48d\\ub825\", \"\\ud48d\\ub825\", \"\\ud48d\\ub825\", \"\\ud504\\ub808\\uc2a4\\uc13c\\ud130\", \"\\ud504\\ub808\\uc2a4\\uc13c\\ud130\", \"\\ud544\\uc694\", \"\\ud544\\uc694\", \"\\ud544\\uc694\", \"\\ud544\\uc694\", \"\\ud544\\uc694\", \"\\ud558\\ub77d\", \"\\ud558\\ub77d\", \"\\ud558\\ub77d\", \"\\ud558\\ub77d\", \"\\ud558\\ub77d\", \"\\ud559\\ud68c\", \"\\ud559\\ud68c\", \"\\ud559\\ud68c\", \"\\ud55c\\uad6d\", \"\\ud55c\\uad6d\", \"\\ud55c\\uad6d\", \"\\ud55c\\uad6d\", \"\\ud55c\\uad6d\", \"\\ud55c\\uad6d\\uacf5\\ud56d\\uacf5\\uc0ac\", \"\\ud55c\\uad6d\\ub0a8\\ubd80\\ubc1c\\uc804\", \"\\ud55c\\uc6b8\", \"\\ud55c\\uc6b8\", \"\\ud574\\uc678\", \"\\ud574\\uc678\", \"\\ud574\\uc678\", \"\\ud574\\uc678\", \"\\ud574\\uc678\", \"\\ud574\\uc784\", \"\\ud574\\uc81c\", \"\\ud575\\uc5f0\\ub8cc\", \"\\ud575\\ud3d0\\uae30\\ubb3c\", \"\\ud589\\ub7c9\", \"\\ud589\\ubcf5\", \"\\ud589\\uc548\", \"\\ud611\\uc758\", \"\\ud611\\uc758\", \"\\ud611\\uc758\", \"\\ud611\\uc758\", \"\\ud611\\uc758\", \"\\ud638\\uae30\", \"\\ud638\\uae30\", \"\\ud638\\ubd09\", \"\\ud638\\uc7ac\", \"\\ud638\\ud654\", \"\\ud640\\ub529\\uc2a4\", \"\\ud654\\ub825\", \"\\ud654\\ub825\", \"\\ud654\\ubb3c\", \"\\ud654\\uc11d\", \"\\ud654\\uc11d\", \"\\ud654\\uc11d\", \"\\ud655\\ub300\", \"\\ud655\\ub300\", \"\\ud655\\ub300\", \"\\ud655\\ub300\", \"\\ud655\\ub300\", \"\\ud669\\uc9c4\\ud658\", \"\\ud68c\\uad00\", \"\\ud68c\\uad00\", \"\\ud68c\\uc0ac\\ucc44\", \"\\ud68c\\uc0ac\\ucc44\", \"\\ud68c\\uc0ac\\ucc44\", \"\\ud68c\\uc0ac\\ucc44\", \"\\ud68c\\uc0c9\", \"\\ud68c\\uc2e0\", \"\\ud68c\\ud53c\", \"\\ud68c\\ud53c\", \"\\ud6c4\\ubcf4\", \"\\ud6c4\\ubcf4\", \"\\ud6c4\\ubcf4\", \"\\ud6c4\\ubcf4\", \"\\ud6c4\\ubcf4\", \"\\ud6c4\\uc0dd\\ube44\", \"\\ud718\\ubc1c\\uc720\", \"\\ud718\\ubc1c\\uc720\", \"\\ud765\\uc6d0\"]}, \"R\": 30, \"lambda.step\": 0.01, \"plot.opts\": {\"xlab\": \"PC1\", \"ylab\": \"PC2\"}, \"topic.order\": [1, 2, 3, 4, 5]};\n",
              "\n",
              "function LDAvis_load_lib(url, callback){\n",
              "  var s = document.createElement('script');\n",
              "  s.src = url;\n",
              "  s.async = true;\n",
              "  s.onreadystatechange = s.onload = callback;\n",
              "  s.onerror = function(){console.warn(\"failed to load library \" + url);};\n",
              "  document.getElementsByTagName(\"head\")[0].appendChild(s);\n",
              "}\n",
              "\n",
              "if(typeof(LDAvis) !== \"undefined\"){\n",
              "   // already loaded: just create the visualization\n",
              "   !function(LDAvis){\n",
              "       new LDAvis(\"#\" + \"ldavis_el591404380477929764380361330\", ldavis_el591404380477929764380361330_data);\n",
              "   }(LDAvis);\n",
              "}else if(typeof define === \"function\" && define.amd){\n",
              "   // require.js is available: use it to load d3/LDAvis\n",
              "   require.config({paths: {d3: \"https://d3js.org/d3.v5\"}});\n",
              "   require([\"d3\"], function(d3){\n",
              "      window.d3 = d3;\n",
              "      LDAvis_load_lib(\"https://cdn.jsdelivr.net/gh/bmabey/pyLDAvis@3.3.1/pyLDAvis/js/ldavis.v3.0.0.js\", function(){\n",
              "        new LDAvis(\"#\" + \"ldavis_el591404380477929764380361330\", ldavis_el591404380477929764380361330_data);\n",
              "      });\n",
              "    });\n",
              "}else{\n",
              "    // require.js not available: dynamically load d3 & LDAvis\n",
              "    LDAvis_load_lib(\"https://d3js.org/d3.v5.js\", function(){\n",
              "         LDAvis_load_lib(\"https://cdn.jsdelivr.net/gh/bmabey/pyLDAvis@3.3.1/pyLDAvis/js/ldavis.v3.0.0.js\", function(){\n",
              "                 new LDAvis(\"#\" + \"ldavis_el591404380477929764380361330\", ldavis_el591404380477929764380361330_data);\n",
              "            })\n",
              "         });\n",
              "}\n",
              "</script>"
            ]
          },
          "metadata": {},
          "execution_count": 198
        }
      ]
    },
    {
      "cell_type": "code",
      "source": [
        ""
      ],
      "metadata": {
        "id": "lg_AGYov3mUl"
      },
      "execution_count": null,
      "outputs": []
    }
  ]
}