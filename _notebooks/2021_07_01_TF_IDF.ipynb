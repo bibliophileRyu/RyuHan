{
  "nbformat": 4,
  "nbformat_minor": 0,
  "metadata": {
    "colab": {
      "name": "2021-07-01-TF_IDF.ipynb",
      "provenance": [],
      "collapsed_sections": []
    },
    "kernelspec": {
      "name": "python3",
      "display_name": "Python 3"
    },
    "language_info": {
      "name": "python"
    }
  },
  "cells": [
    {
      "cell_type": "markdown",
      "metadata": {
        "id": "u0J1CYJ4T3hg"
      },
      "source": [
        "# \"TF-IDF를 이용한 문서간 유사도\"\n",
        "> \"Awesome summary\"\n",
        "\n",
        "- toc:true\n",
        "- branch: master\n",
        "- badges: true\n",
        "- comments: true\n",
        "- author: RyuHan\n",
        "- categories: [NLP, TF-IDF]"
      ]
    },
    {
      "cell_type": "markdown",
      "metadata": {
        "id": "O2_CPCKDWovb"
      },
      "source": [
        "## 자연어(텍스트)를 계산 가능한 언어로 인코딩하기\n",
        "\n",
        "자연어처리(NLP)를 위해서는 텍스트 데이터를 계산 가능한 언어로 바꿔야 한다. 즉, 숫자 **벡터**로 바꿔, 문서를 벡터 공간에 표현할 수 있다. \n",
        "\n",
        "텍스트 데이터를 숫자 벡터로 바꾸는 '인코딩'에는 여러 가지 방법이 있다. \n",
        "\n",
        "가장 간단한 방법이 문서 집합에서 단어 토큰을 생성하고 각 단어의 수를 세어 BOW(Bag of Words) 인코딩 벡터를 만드는 것이다. 사이킷런의 CountVectorizer 클래스를 사용하면 쉽게 할 수 있다. \n",
        "\n",
        "이 방법에서 한 단계 나아간 방법이 TF-IDF를 이용해 단어 가중치까지 반영하는 방법이 있다. \n",
        "\n",
        "TF-IDF는 Term Frequency - Inverse Document Frequency)로,\n",
        "\n",
        "- 단어 가중치 기법 중 가장 일반적으로 알려진 알고리즘이다. \n",
        "- 특정 문서 내에서 단어 빈도가 높을수록, 전체 문서들에는 그 단어를 포함한 문서가 적을수록 TF-IDF 값이 높아진다. \n",
        "- 이 값을 이용해 모든 문서에 나타나는 흔한 단어들을 걸러내며, 특정 단어가 가지는 중요도를 측정하는 데 사용된다. "
      ]
    },
    {
      "cell_type": "code",
      "metadata": {
        "colab": {
          "base_uri": "https://localhost:8080/"
        },
        "id": "Ib_EGRgybgNn",
        "outputId": "d207a0ef-99b4-4f5a-e37a-3393aa40e23a"
      },
      "source": [
        "## 로컬에 Google Drive 마운트하기 \n",
        "\n",
        "from google.colab import drive\n",
        "drive.mount('/content/drive')"
      ],
      "execution_count": 7,
      "outputs": [
        {
          "output_type": "stream",
          "text": [
            "Mounted at /content/drive\n"
          ],
          "name": "stdout"
        }
      ]
    },
    {
      "cell_type": "code",
      "metadata": {
        "id": "y-OA576Rc0XF"
      },
      "source": [
        "with open('/content/drive/MyDrive/data/test_text.txt', 'r') as f:\n",
        "  corpus = f.read()"
      ],
      "execution_count": 11,
      "outputs": []
    },
    {
      "cell_type": "code",
      "metadata": {
        "colab": {
          "base_uri": "https://localhost:8080/",
          "height": 35
        },
        "id": "02Pqt1yRdmvy",
        "outputId": "4c7da79b-0e20-4a61-b85b-586b0b5ef76a"
      },
      "source": [
        "corpus"
      ],
      "execution_count": 12,
      "outputs": [
        {
          "output_type": "execute_result",
          "data": {
            "application/vnd.google.colaboratory.intrinsic+json": {
              "type": "string"
            },
            "text/plain": [
              "'Let me add some English sentences too!'"
            ]
          },
          "metadata": {
            "tags": []
          },
          "execution_count": 12
        }
      ]
    },
    {
      "cell_type": "code",
      "metadata": {
        "id": "IPL909FKJzQz"
      },
      "source": [
        "from sklearn.feature_extraction.text import TfidfVectorizer\n",
        "\n",
        "text = ['토마스 만은 평의원이며 곡물 상인이었던 토마스 요한 하인리히 만과 율리아 다 실바 브룬스 부부 사이에서 두 번째 아들로 독일의 뤼베크에서 태어났다.', # Doc[0] \n",
        "        '어머니 율리아는 7살 때 독일로 망명한 부분적 독일계 브라질리안이다.', # Doc[1] \n",
        "        '토마스 만의 아버지가 1891년에 돌아가시면서 회사는 청산되었다.', # Doc[2]\n",
        "        '1893년 뮌헨으로 이주하여 보험 회사의 견습 사원이 되었다.', # Doc[3]\n",
        "        '이때 첫 작품 <호의>가 잡지에 실리면서 문단에 데뷔하였다.'] # Doc[4]\n",
        "\n",
        "\n",
        "tfidf_vectorizer = TfidfVectorizer() # TF-IDF 객체 선언 "
      ],
      "execution_count": 22,
      "outputs": []
    },
    {
      "cell_type": "code",
      "metadata": {
        "colab": {
          "base_uri": "https://localhost:8080/"
        },
        "id": "gIhmmfd5gGpN",
        "outputId": "0efdfce3-d682-46a4-c2e6-35286c8f8c01"
      },
      "source": [
        "tfidf_vectorizer.fit(text) # 단어를 학습시킴\n",
        "tfidf_vectorizer.vocabulary_ # 단어사전을 출력"
      ],
      "execution_count": 26,
      "outputs": [
        {
          "output_type": "execute_result",
          "data": {
            "text/plain": [
              "{'1891년에': 0,\n",
              " '1893년': 1,\n",
              " '7살': 2,\n",
              " '견습': 3,\n",
              " '곡물': 4,\n",
              " '데뷔하였다': 5,\n",
              " '독일계': 6,\n",
              " '독일로': 7,\n",
              " '독일의': 8,\n",
              " '돌아가시면서': 9,\n",
              " '되었다': 10,\n",
              " '뤼베크에서': 11,\n",
              " '만과': 12,\n",
              " '만은': 13,\n",
              " '만의': 14,\n",
              " '망명한': 15,\n",
              " '문단에': 16,\n",
              " '뮌헨으로': 17,\n",
              " '번째': 18,\n",
              " '보험': 19,\n",
              " '부부': 20,\n",
              " '부분적': 21,\n",
              " '브라질리안이다': 22,\n",
              " '브룬스': 23,\n",
              " '사원이': 24,\n",
              " '사이에서': 25,\n",
              " '상인이었던': 26,\n",
              " '실리면서': 27,\n",
              " '실바': 28,\n",
              " '아들로': 29,\n",
              " '아버지가': 30,\n",
              " '어머니': 31,\n",
              " '요한': 32,\n",
              " '율리아': 33,\n",
              " '율리아는': 34,\n",
              " '이때': 35,\n",
              " '이주하여': 36,\n",
              " '작품': 37,\n",
              " '잡지에': 38,\n",
              " '청산되었다': 39,\n",
              " '태어났다': 40,\n",
              " '토마스': 41,\n",
              " '평의원이며': 42,\n",
              " '하인리히': 43,\n",
              " '호의': 44,\n",
              " '회사는': 45,\n",
              " '회사의': 46}"
            ]
          },
          "metadata": {
            "tags": []
          },
          "execution_count": 26
        }
      ]
    },
    {
      "cell_type": "code",
      "metadata": {
        "colab": {
          "base_uri": "https://localhost:8080/"
        },
        "id": "7gVXt0Sud1Bz",
        "outputId": "c337d2fd-99ab-433f-ee86-4966de371655"
      },
      "source": [
        "sorted(tfidf_vectorizer.vocabulary_.items()) # 단어사전 정렬"
      ],
      "execution_count": 27,
      "outputs": [
        {
          "output_type": "execute_result",
          "data": {
            "text/plain": [
              "[('1891년에', 0),\n",
              " ('1893년', 1),\n",
              " ('7살', 2),\n",
              " ('견습', 3),\n",
              " ('곡물', 4),\n",
              " ('데뷔하였다', 5),\n",
              " ('독일계', 6),\n",
              " ('독일로', 7),\n",
              " ('독일의', 8),\n",
              " ('돌아가시면서', 9),\n",
              " ('되었다', 10),\n",
              " ('뤼베크에서', 11),\n",
              " ('만과', 12),\n",
              " ('만은', 13),\n",
              " ('만의', 14),\n",
              " ('망명한', 15),\n",
              " ('문단에', 16),\n",
              " ('뮌헨으로', 17),\n",
              " ('번째', 18),\n",
              " ('보험', 19),\n",
              " ('부부', 20),\n",
              " ('부분적', 21),\n",
              " ('브라질리안이다', 22),\n",
              " ('브룬스', 23),\n",
              " ('사원이', 24),\n",
              " ('사이에서', 25),\n",
              " ('상인이었던', 26),\n",
              " ('실리면서', 27),\n",
              " ('실바', 28),\n",
              " ('아들로', 29),\n",
              " ('아버지가', 30),\n",
              " ('어머니', 31),\n",
              " ('요한', 32),\n",
              " ('율리아', 33),\n",
              " ('율리아는', 34),\n",
              " ('이때', 35),\n",
              " ('이주하여', 36),\n",
              " ('작품', 37),\n",
              " ('잡지에', 38),\n",
              " ('청산되었다', 39),\n",
              " ('태어났다', 40),\n",
              " ('토마스', 41),\n",
              " ('평의원이며', 42),\n",
              " ('하인리히', 43),\n",
              " ('호의', 44),\n",
              " ('회사는', 45),\n",
              " ('회사의', 46)]"
            ]
          },
          "metadata": {
            "tags": []
          },
          "execution_count": 27
        }
      ]
    },
    {
      "cell_type": "code",
      "metadata": {
        "colab": {
          "base_uri": "https://localhost:8080/"
        },
        "id": "IIMOEP-1b85U",
        "outputId": "e81a37e8-b52c-40e4-d404-75c9159b7370"
      },
      "source": [
        "tf_idf_array = tfidf_vectorizer.transform(text).toarray() # TF-IDF를 이용해 단어 가중치가 적용된 숫자 벡터를 어레이 형태로 보자 \n",
        "tf_idf_array"
      ],
      "execution_count": 31,
      "outputs": [
        {
          "output_type": "execute_result",
          "data": {
            "text/plain": [
              "array([[0.        , 0.        , 0.        , 0.        , 0.22585586,\n",
              "        0.        , 0.        , 0.        , 0.22585586, 0.        ,\n",
              "        0.        , 0.22585586, 0.22585586, 0.22585586, 0.        ,\n",
              "        0.        , 0.        , 0.        , 0.22585586, 0.        ,\n",
              "        0.22585586, 0.        , 0.        , 0.22585586, 0.        ,\n",
              "        0.22585586, 0.22585586, 0.        , 0.22585586, 0.22585586,\n",
              "        0.        , 0.        , 0.22585586, 0.22585586, 0.        ,\n",
              "        0.        , 0.        , 0.        , 0.        , 0.        ,\n",
              "        0.22585586, 0.36443818, 0.22585586, 0.22585586, 0.        ,\n",
              "        0.        , 0.        ],\n",
              "       [0.        , 0.        , 0.35355339, 0.        , 0.        ,\n",
              "        0.        , 0.35355339, 0.35355339, 0.        , 0.        ,\n",
              "        0.        , 0.        , 0.        , 0.        , 0.        ,\n",
              "        0.35355339, 0.        , 0.        , 0.        , 0.        ,\n",
              "        0.        , 0.35355339, 0.35355339, 0.        , 0.        ,\n",
              "        0.        , 0.        , 0.        , 0.        , 0.        ,\n",
              "        0.        , 0.35355339, 0.        , 0.        , 0.35355339,\n",
              "        0.        , 0.        , 0.        , 0.        , 0.        ,\n",
              "        0.        , 0.        , 0.        , 0.        , 0.        ,\n",
              "        0.        , 0.        ],\n",
              "       [0.38775666, 0.        , 0.        , 0.        , 0.        ,\n",
              "        0.        , 0.        , 0.        , 0.        , 0.38775666,\n",
              "        0.        , 0.        , 0.        , 0.        , 0.38775666,\n",
              "        0.        , 0.        , 0.        , 0.        , 0.        ,\n",
              "        0.        , 0.        , 0.        , 0.        , 0.        ,\n",
              "        0.        , 0.        , 0.        , 0.        , 0.        ,\n",
              "        0.38775666, 0.        , 0.        , 0.        , 0.        ,\n",
              "        0.        , 0.        , 0.        , 0.        , 0.38775666,\n",
              "        0.        , 0.31283963, 0.        , 0.        , 0.        ,\n",
              "        0.38775666, 0.        ],\n",
              "       [0.        , 0.35355339, 0.        , 0.35355339, 0.        ,\n",
              "        0.        , 0.        , 0.        , 0.        , 0.        ,\n",
              "        0.35355339, 0.        , 0.        , 0.        , 0.        ,\n",
              "        0.        , 0.        , 0.35355339, 0.        , 0.35355339,\n",
              "        0.        , 0.        , 0.        , 0.        , 0.35355339,\n",
              "        0.        , 0.        , 0.        , 0.        , 0.        ,\n",
              "        0.        , 0.        , 0.        , 0.        , 0.        ,\n",
              "        0.        , 0.35355339, 0.        , 0.        , 0.        ,\n",
              "        0.        , 0.        , 0.        , 0.        , 0.        ,\n",
              "        0.        , 0.35355339],\n",
              "       [0.        , 0.        , 0.        , 0.        , 0.        ,\n",
              "        0.37796447, 0.        , 0.        , 0.        , 0.        ,\n",
              "        0.        , 0.        , 0.        , 0.        , 0.        ,\n",
              "        0.        , 0.37796447, 0.        , 0.        , 0.        ,\n",
              "        0.        , 0.        , 0.        , 0.        , 0.        ,\n",
              "        0.        , 0.        , 0.37796447, 0.        , 0.        ,\n",
              "        0.        , 0.        , 0.        , 0.        , 0.        ,\n",
              "        0.37796447, 0.        , 0.37796447, 0.37796447, 0.        ,\n",
              "        0.        , 0.        , 0.        , 0.        , 0.37796447,\n",
              "        0.        , 0.        ]])"
            ]
          },
          "metadata": {
            "tags": []
          },
          "execution_count": 31
        }
      ]
    },
    {
      "cell_type": "markdown",
      "metadata": {
        "id": "CBtJyBd4hEzj"
      },
      "source": [
        "TF-IDF 알고리즘을 이용해 숫자 벡터로 인코딩을 마친 위 데이터간 유사도를 살펴보자. \n",
        "\n",
        "이를 위해, 코사인 유사도를 구해보자 "
      ]
    },
    {
      "cell_type": "code",
      "metadata": {
        "id": "x8CQNdMJg1Tr"
      },
      "source": [
        "from numpy import dot\n",
        "from numpy.linalg import norm\n",
        "import numpy as np\n",
        "\n",
        "def cos_sim(A, B):\n",
        "       return dot(A, B)/(norm(A)*norm(B))"
      ],
      "execution_count": 32,
      "outputs": []
    },
    {
      "cell_type": "code",
      "metadata": {
        "id": "MgilqyGthnL0"
      },
      "source": [
        "doc1= tf_idf_array[0]\n",
        "doc2= tf_idf_array[1]\n",
        "doc3= tf_idf_array[2]\n",
        "doc4 = tf_idf_array[3]"
      ],
      "execution_count": 33,
      "outputs": []
    },
    {
      "cell_type": "code",
      "metadata": {
        "colab": {
          "base_uri": "https://localhost:8080/"
        },
        "id": "1wZXbzEfh4qn",
        "outputId": "ee98de99-c573-46c9-9675-9d2521966f3b"
      },
      "source": [
        "print(cos_sim(doc1, doc2)) #문서1과 문서2의 코사인 유사도\n",
        "print(cos_sim(doc1, doc3)) #문서1과 문서3의 코사인 유사도\n",
        "print(cos_sim(doc2, doc3)) #문서2과 문서3의 코사인 유사도\n",
        "print(cos_sim(doc3, doc4)) #문서3과 문서4의 코사인 유사도"
      ],
      "execution_count": 35,
      "outputs": [
        {
          "output_type": "stream",
          "text": [
            "0.0\n",
            "0.11401070555406811\n",
            "0.0\n",
            "0.0\n"
          ],
          "name": "stdout"
        }
      ]
    }
  ]
}