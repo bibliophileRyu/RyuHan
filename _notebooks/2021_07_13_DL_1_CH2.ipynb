{
  "nbformat": 4,
  "nbformat_minor": 0,
  "metadata": {
    "colab": {
      "name": "2021-07-13-밑바닥부터_시작하는_딥러닝_1_CH2.ipynb",
      "provenance": [],
      "collapsed_sections": []
    },
    "kernelspec": {
      "name": "python3",
      "display_name": "Python 3"
    },
    "language_info": {
      "name": "python"
    }
  },
  "cells": [
    {
      "cell_type": "markdown",
      "metadata": {
        "id": "7FRf1yvGumnt"
      },
      "source": [
        "# \"필사/밑바닥부터 시작하는 딥러닝 1 - Ch2, 퍼셉트론\"\n",
        "> \"Awesome summary\"\n",
        "\n",
        "- toc:true\n",
        "- branch: master\n",
        "- badges: true\n",
        "- comments: true\n",
        "- author: RyuHan\n",
        "- categories: [Deep Learning, 밑바닥, 필사]"
      ]
    },
    {
      "cell_type": "markdown",
      "metadata": {
        "id": "PfXpTU4_pkvF"
      },
      "source": [
        "# 밑바닥부터 시작하는 딥러닝 1\n",
        "\n",
        "## Ch 2. 퍼셉트론\n",
        "\n",
        "퍼셉트론은 다수의 신호를 입력받아 하나의 신호를 출력한다. "
      ]
    },
    {
      "cell_type": "markdown",
      "metadata": {
        "id": "SH_9JTb8p71R"
      },
      "source": [
        "### 2.2 단순한 논리 회로 \n",
        "\n",
        "#### 2.2.1 AND 게이트 \n",
        "\n",
        "입력은 둘이고 출력은 하나다. 두 입력이 모두 1일 때만 1을 출력하고, 그 외에는 0을 출력한다. "
      ]
    },
    {
      "cell_type": "code",
      "metadata": {
        "id": "oh51P5n8pKpU"
      },
      "source": [
        "def AND(x1, x2):\n",
        "  w1, w2, theta = 0.5, 0.5, 0.7\n",
        "  tmp = x1*w1 + x2*w2 # 가중치를 곱한 입력의 총합이 \n",
        "  if tmp <= theta:    \n",
        "    return 0\n",
        "  elif tmp > theta:   # 임계값을 넘으면 \n",
        "    return 1          # 1을 반환 "
      ],
      "execution_count": 1,
      "outputs": []
    },
    {
      "cell_type": "code",
      "metadata": {
        "colab": {
          "base_uri": "https://localhost:8080/"
        },
        "id": "I9xz1_Qfqfe1",
        "outputId": "5470ad6f-d670-467f-fa1c-f5c687dfa478"
      },
      "source": [
        "AND(0, 0)"
      ],
      "execution_count": 2,
      "outputs": [
        {
          "output_type": "execute_result",
          "data": {
            "text/plain": [
              "0"
            ]
          },
          "metadata": {
            "tags": []
          },
          "execution_count": 2
        }
      ]
    },
    {
      "cell_type": "code",
      "metadata": {
        "colab": {
          "base_uri": "https://localhost:8080/"
        },
        "id": "68R0RwJ7qikQ",
        "outputId": "50ed085e-0ec4-42f2-da3e-e258e9bb0b46"
      },
      "source": [
        "AND(1, 1)"
      ],
      "execution_count": 3,
      "outputs": [
        {
          "output_type": "execute_result",
          "data": {
            "text/plain": [
              "1"
            ]
          },
          "metadata": {
            "tags": []
          },
          "execution_count": 3
        }
      ]
    },
    {
      "cell_type": "markdown",
      "metadata": {
        "id": "AB8YJZjEqp_d"
      },
      "source": [
        "##### 2.2.2 Bias 도입"
      ]
    },
    {
      "cell_type": "code",
      "metadata": {
        "id": "GrWmappPqjr4"
      },
      "source": [
        "import numpy as np\n",
        "\n",
        "def AND(x1, x2):\n",
        "  x = np.array([x1, x2])\n",
        "  w = np.array([0.5, 0.5])\n",
        "  b = -0.7\n",
        "  tmp = np.sum(w*x) + b\n",
        "  if tmp <= 0:\n",
        "    return 0\n",
        "  else:\n",
        "    return 1 "
      ],
      "execution_count": 4,
      "outputs": []
    },
    {
      "cell_type": "code",
      "metadata": {
        "colab": {
          "base_uri": "https://localhost:8080/"
        },
        "id": "OylhOE_2rOOw",
        "outputId": "72485a5a-2ac0-4a95-a99a-998173d04de9"
      },
      "source": [
        "AND(0, 0)"
      ],
      "execution_count": 5,
      "outputs": [
        {
          "output_type": "execute_result",
          "data": {
            "text/plain": [
              "0"
            ]
          },
          "metadata": {
            "tags": []
          },
          "execution_count": 5
        }
      ]
    },
    {
      "cell_type": "code",
      "metadata": {
        "colab": {
          "base_uri": "https://localhost:8080/"
        },
        "id": "QiandOnsrRFO",
        "outputId": "9dfa733d-40cb-46c2-a416-3f81484cc82f"
      },
      "source": [
        "AND(1, 1)"
      ],
      "execution_count": 6,
      "outputs": [
        {
          "output_type": "execute_result",
          "data": {
            "text/plain": [
              "1"
            ]
          },
          "metadata": {
            "tags": []
          },
          "execution_count": 6
        }
      ]
    },
    {
      "cell_type": "markdown",
      "metadata": {
        "id": "dfkFItUErV3S"
      },
      "source": [
        "#### 2.2.3 NAND 게이트와 OR 게이트\n",
        "\n",
        "* NAND 게이트 : Not And. AND 게이터의 출력을 뒤집은 것이 된다. 즉, x1과 x2 모두 1일 때만 0을 출력하고, 그 외에는 1을 출력한다. \n"
      ]
    },
    {
      "cell_type": "code",
      "metadata": {
        "id": "6m0MzXyOryMf"
      },
      "source": [
        "def NAND(x1, x2):\n",
        "  x = np.array([x1, x2])\n",
        "  w = np.array([-0.5, -0.5])\n",
        "  b = 0.7\n",
        "  tmp = np.sum(w*x) + b\n",
        "  if tmp <= 0:\n",
        "    return 0\n",
        "  else:\n",
        "    return 1"
      ],
      "execution_count": 7,
      "outputs": []
    },
    {
      "cell_type": "code",
      "metadata": {
        "colab": {
          "base_uri": "https://localhost:8080/"
        },
        "id": "0omRPVNmrSEG",
        "outputId": "fd035e27-74ff-4f76-f108-4c5e92e16f9e"
      },
      "source": [
        "NAND(1, 1)"
      ],
      "execution_count": 8,
      "outputs": [
        {
          "output_type": "execute_result",
          "data": {
            "text/plain": [
              "0"
            ]
          },
          "metadata": {
            "tags": []
          },
          "execution_count": 8
        }
      ]
    },
    {
      "cell_type": "code",
      "metadata": {
        "colab": {
          "base_uri": "https://localhost:8080/"
        },
        "id": "982nbEzhsD6u",
        "outputId": "fadb8e59-dc80-4d92-9425-863a6cd49111"
      },
      "source": [
        "NAND(0, 1)"
      ],
      "execution_count": 9,
      "outputs": [
        {
          "output_type": "execute_result",
          "data": {
            "text/plain": [
              "1"
            ]
          },
          "metadata": {
            "tags": []
          },
          "execution_count": 9
        }
      ]
    },
    {
      "cell_type": "markdown",
      "metadata": {
        "id": "R_GnZbB6sHru"
      },
      "source": [
        "* OR 게이트 : 입력 신호 중 하나 이상이 1이면 출력이 1이 되는 논리 회로."
      ]
    },
    {
      "cell_type": "code",
      "metadata": {
        "id": "2V07GbaEsFEq"
      },
      "source": [
        "def OR(x1, x2):\n",
        "  x = np.array([x1, x2])\n",
        "  w = np.array([0.5, 0.5]) # AND와는 가중치(w와 b)만 다르다\n",
        "  b = -0.2\n",
        "  tmp = np.sum(w*x) + b\n",
        "  if tmp <= 0:\n",
        "    return 0\n",
        "  else:\n",
        "    return 1"
      ],
      "execution_count": 10,
      "outputs": []
    },
    {
      "cell_type": "code",
      "metadata": {
        "colab": {
          "base_uri": "https://localhost:8080/"
        },
        "id": "VQAIG-PUsYB-",
        "outputId": "b1346247-0988-439d-c9ac-d35fd17d5354"
      },
      "source": [
        "OR(1, 0)"
      ],
      "execution_count": 11,
      "outputs": [
        {
          "output_type": "execute_result",
          "data": {
            "text/plain": [
              "1"
            ]
          },
          "metadata": {
            "tags": []
          },
          "execution_count": 11
        }
      ]
    },
    {
      "cell_type": "markdown",
      "metadata": {
        "id": "Ncx4mNArseBv"
      },
      "source": [
        "### 2.4 퍼셉트론의 한계 \n",
        "\n",
        "#### 2.4.1 XOR 게이트 \n",
        "\n",
        "XOR 게이트는 **배타적 논리합**이라는 논리 회로다.   \n",
        "퍼셉트론으로는 표현할 수 없다. 다층 펗셉트론을 만들어 표현 가능하다. "
      ]
    },
    {
      "cell_type": "code",
      "metadata": {
        "id": "RFaAN8n0sbkC"
      },
      "source": [
        "def XOR(x1, x2):\n",
        "  s1 = NAND(x1, x2)\n",
        "  s2 = OR(x1, x2)\n",
        "  y = AND(s1, s2)\n",
        "  return y"
      ],
      "execution_count": 12,
      "outputs": []
    },
    {
      "cell_type": "code",
      "metadata": {
        "colab": {
          "base_uri": "https://localhost:8080/"
        },
        "id": "B2WLsPixtoo4",
        "outputId": "ef1ad903-8448-46c0-a43a-3f71079bb38e"
      },
      "source": [
        "XOR(0, 0)"
      ],
      "execution_count": 13,
      "outputs": [
        {
          "output_type": "execute_result",
          "data": {
            "text/plain": [
              "0"
            ]
          },
          "metadata": {
            "tags": []
          },
          "execution_count": 13
        }
      ]
    },
    {
      "cell_type": "code",
      "metadata": {
        "colab": {
          "base_uri": "https://localhost:8080/"
        },
        "id": "xQ3BhUA9tqdE",
        "outputId": "0d8e8507-ffc4-4319-e19c-10f4212c379b"
      },
      "source": [
        "XOR(1, 1)"
      ],
      "execution_count": 14,
      "outputs": [
        {
          "output_type": "execute_result",
          "data": {
            "text/plain": [
              "0"
            ]
          },
          "metadata": {
            "tags": []
          },
          "execution_count": 14
        }
      ]
    },
    {
      "cell_type": "markdown",
      "metadata": {
        "id": "aTOJxt9Jt9AD"
      },
      "source": [
        "** TLDR ** \n",
        "\n",
        "- 퍼셉트론은 입출력을 갖춘 알고리즘이다. 입력을 주면 정해진 규칙에 따른 값을 출력한다. \n",
        "- 퍼셉트론에서는 '가중치'와 '편향'을 매개변수로 설정한다. \n",
        "- 퍼셉트론으로 AND, OR 게이트 등의 논리 회로를 표현할 수 있다. \n",
        "- XOR 게이트는 단층 퍼셉트론으로는 표현할 수 없다. \n",
        "- 2층 퍼셉트론은 직선형 영역만 표현할 수 있고, 다층 퍼셉트론은 비선형 영역도 표현할 수 있다. \n",
        "- 다층 퍼셉트론은 (이론상) 컴퓨터를 표현할 수 있다. "
      ]
    }
  ]
}