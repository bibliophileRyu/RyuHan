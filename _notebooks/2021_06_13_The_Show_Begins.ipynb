{
  "nbformat": 4,
  "nbformat_minor": 0,
  "metadata": {
    "colab": {
      "name": "2021-06-13-The_Show_Begins.ipynb",
      "provenance": [],
      "collapsed_sections": []
    },
    "kernelspec": {
      "name": "python3",
      "display_name": "Python 3"
    },
    "language_info": {
      "name": "python"
    }
  },
  "cells": [
    {
      "cell_type": "markdown",
      "metadata": {
        "id": "ZRkHzYtAm82l"
      },
      "source": [
        "# \"Let me begin my journey\"\n",
        "> \"Awesome summary\"\n",
        "\n",
        "- toc:true\n",
        "- branch: master\n",
        "- badges: true\n",
        "- comments: true\n",
        "- author: RyuHan\n",
        "- categories: [blog]"
      ]
    },
    {
      "cell_type": "code",
      "metadata": {
        "id": "nZ1ABZ1GlD0D"
      },
      "source": [
        "print('Hi, I am Ryu Han. Let us start!')"
      ],
      "execution_count": null,
      "outputs": []
    }
  ]
}
