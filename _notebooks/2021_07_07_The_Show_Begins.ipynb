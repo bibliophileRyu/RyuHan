{
  "nbformat": 4,
  "nbformat_minor": 0,
  "metadata": {
    "colab": {
      "name": "2021-07-07-The_Show_Begins.ipynb",
      "provenance": [],
      "collapsed_sections": []
    },
    "kernelspec": {
      "name": "python3",
      "display_name": "Python 3"
    },
    "language_info": {
      "name": "python"
    }
  },
  "cells": [
    {
      "cell_type": "code",
      "metadata": {
        "colab": {
          "base_uri": "https://localhost:8080/",
          "height": 130
        },
        "id": "HH_KAwSJkugd",
        "outputId": "f2daee85-05c0-4049-846b-76109e3bafaa"
      },
      "source": [
        "# \"블로그의 시작\"\n",
        "> \"Awesome summary\"\n",
        "\n",
        "- toc:true\n",
        "- branch: master\n",
        "- badges: true\n",
        "- comments: true\n",
        "- author: RyuHan\n",
        "- categories: [blog]"
      ],
      "execution_count": 1,
      "outputs": [
        {
          "output_type": "error",
          "ename": "SyntaxError",
          "evalue": "ignored",
          "traceback": [
            "\u001b[0;36m  File \u001b[0;32m\"<ipython-input-1-58d26df8a373>\"\u001b[0;36m, line \u001b[0;32m2\u001b[0m\n\u001b[0;31m    > \"Awesome summary\"\u001b[0m\n\u001b[0m    ^\u001b[0m\n\u001b[0;31mSyntaxError\u001b[0m\u001b[0;31m:\u001b[0m invalid syntax\n"
          ]
        }
      ]
    },
    {
      "cell_type": "code",
      "metadata": {
        "id": "nZ1ABZ1GlD0D"
      },
      "source": [
        "print('Hi, I am RyuHan. Let us start a journey to the world.')"
      ],
      "execution_count": null,
      "outputs": []
    }
  ]
}